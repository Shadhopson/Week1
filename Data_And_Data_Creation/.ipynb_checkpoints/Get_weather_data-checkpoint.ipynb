{
 "cells": [
  {
   "cell_type": "code",
   "execution_count": 1,
   "metadata": {
    "collapsed": true
   },
   "outputs": [],
   "source": [
    "example_site = \"https://api.darksky.net/forecast/6ee0b0521cccd43b16a44a63eba7cd8d/40.6987,-73.9859,2016-06-02T15:00:00\"\n",
    "\n",
    "import urllib\n",
    "import json\n",
    "import datetime"
   ]
  },
  {
   "cell_type": "markdown",
   "metadata": {},
   "source": [
    "# Gets from now to about 2 years ago worth of weather data and stores it in past_weather.json"
   ]
  },
  {
   "cell_type": "code",
   "execution_count": 2,
   "metadata": {
    "collapsed": false
   },
   "outputs": [],
   "source": [
    "weather_data  = json.load(urllib.urlopen(example_site))"
   ]
  },
  {
   "cell_type": "code",
   "execution_count": null,
   "metadata": {
    "collapsed": false
   },
   "outputs": [],
   "source": []
  },
  {
   "cell_type": "code",
   "execution_count": 3,
   "metadata": {
    "collapsed": false
   },
   "outputs": [
    {
     "name": "stdout",
     "output_type": "stream",
     "text": [
      "{u'temperature': 66.42, u'icon': u'clear-night', u'dewPoint': 55.4, u'humidity': 0.68, u'cloudCover': 0.14, u'summary': u'Clear', u'apparentTemperature': 66.42, u'pressure': 1020.73, u'windSpeed': 6.69, u'visibility': 9.8, u'time': 1464840000, u'windBearing': 64, u'precipIntensity': 0, u'uvIndex': 0, u'precipProbability': 0}\n"
     ]
    }
   ],
   "source": [
    "print weather_data[\"hourly\"][\"data\"][0]"
   ]
  },
  {
   "cell_type": "code",
   "execution_count": 4,
   "metadata": {
    "collapsed": false
   },
   "outputs": [
    {
     "name": "stdout",
     "output_type": "stream",
     "text": [
      "[{u'apparentTemperatureMinTime': 1464865200, u'apparentTemperatureLow': 62.48, u'temperatureLow': 62.48, u'temperatureMin': 62.26, u'temperatureHigh': 69.85, u'summary': u'Partly cloudy in the morning.', u'dewPoint': 56.89, u'apparentTemperatureMax': 69.85, u'temperatureMax': 69.85, u'windSpeed': 6.2, u'apparentTemperatureHigh': 69.85, u'temperatureMaxTime': 1464890400, u'windBearing': 106, u'temperatureLowTime': 1464944400, u'moonPhase': 0.91, u'temperatureMinTime': 1464865200, u'visibility': 9.34, u'sunsetTime': 1464913384, u'pressure': 1019.78, u'uvIndexTime': 1464883200, u'cloudCover': 0.19, u'apparentTemperatureLowTime': 1464944400, u'apparentTemperatureMin': 62.26, u'apparentTemperatureHighTime': 1464890400, u'precipIntensityMax': 0, u'icon': u'partly-cloudy-day', u'apparentTemperatureMaxTime': 1464890400, u'humidity': 0.73, u'temperatureHighTime': 1464890400, u'time': 1464840000, u'precipIntensity': 0, u'uvIndex': 10, u'sunriseTime': 1464859674, u'precipProbability': 0}]\n"
     ]
    }
   ],
   "source": [
    "print weather_data['daily']['data']"
   ]
  },
  {
   "cell_type": "code",
   "execution_count": 5,
   "metadata": {
    "collapsed": false
   },
   "outputs": [],
   "source": [
    "the_date = datetime.datetime.today()\n",
    "weather_by_day = {}\n",
    "for i in range(800):\n",
    "    date_str =  str(the_date.date())\n",
    "    the_date = the_date - datetime.timedelta(days=1)\n",
    "    url = \"https://api.darksky.net/forecast/6ee0b0521cccd43b16a44a63eba7cd8d/40.6987,-73.9859,\"+ date_str+\"T15:00:00\"\n",
    "    weather_data  = json.load(urllib.urlopen(url))\n",
    "    weather_by_day[date_str] =  weather_data['daily']['data']\n",
    "    \n",
    "    "
   ]
  },
  {
   "cell_type": "code",
   "execution_count": 6,
   "metadata": {
    "collapsed": false
   },
   "outputs": [
    {
     "name": "stdout",
     "output_type": "stream",
     "text": [
      "800\n"
     ]
    }
   ],
   "source": [
    "print len(weather_by_day)"
   ]
  },
  {
   "cell_type": "code",
   "execution_count": 7,
   "metadata": {
    "collapsed": true
   },
   "outputs": [],
   "source": [
    "with open('past_weather.json', 'w') as f:\n",
    "    json.dump(weather_by_day, f)"
   ]
  },
  {
   "cell_type": "code",
   "execution_count": 8,
   "metadata": {
    "collapsed": false
   },
   "outputs": [
    {
     "name": "stdout",
     "output_type": "stream",
     "text": [
      "2015-06-26\n"
     ]
    }
   ],
   "source": [
    "print date_str\n"
   ]
  },
  {
   "cell_type": "code",
   "execution_count": null,
   "metadata": {
    "collapsed": true
   },
   "outputs": [],
   "source": []
  }
 ],
 "metadata": {
  "anaconda-cloud": {},
  "kernelspec": {
   "display_name": "Python [conda root]",
   "language": "python",
   "name": "conda-root-py"
  },
  "language_info": {
   "codemirror_mode": {
    "name": "ipython",
    "version": 2
   },
   "file_extension": ".py",
   "mimetype": "text/x-python",
   "name": "python",
   "nbconvert_exporter": "python",
   "pygments_lexer": "ipython2",
   "version": "2.7.12"
  }
 },
 "nbformat": 4,
 "nbformat_minor": 1
}
