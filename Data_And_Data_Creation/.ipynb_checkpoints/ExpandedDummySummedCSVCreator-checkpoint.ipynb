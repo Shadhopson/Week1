{
 "cells": [
  {
   "cell_type": "code",
   "execution_count": null,
   "metadata": {
    "collapsed": true
   },
   "outputs": [],
   "source": [
    "import pandas as pd\n",
    "summed_by_date = pd.read_csv('advanced_welcome_table_summed.csv')\n",
    "year_dummies = pd.get_dummies(summed_by_date.year, prefix ='year').iloc[:,1:]\n",
    "year_summed_by_date = pd.concat([summed_by_date, year_dummies], axis=1)\n",
    "day_dummies = pd.get_dummies(year_summed_by_date.day, prefix='day').iloc[:,1:]\n",
    "day_summed_by_date = pd.concat([year_summed_by_date, day_dummies], axis=1)\n",
    "month_dummies = pd.get_dummies(day_summed_by_date.month, prefix ='month').iloc[:,1:]\n",
    "dummy_summed_by_date = pd.concat([day_summed_by_date, month_dummies], axis=1)\n",
    "\n",
    "dummy_summed_by_date.to_csv('expanded_dummied_welcome_table_summed.csv', sep =',')    \n"
   ]
  }
 ],
 "metadata": {
  "kernelspec": {
   "display_name": "Python [conda root]",
   "language": "python",
   "name": "conda-root-py"
  },
  "language_info": {
   "codemirror_mode": {
    "name": "ipython",
    "version": 2
   },
   "file_extension": ".py",
   "mimetype": "text/x-python",
   "name": "python",
   "nbconvert_exporter": "python",
   "pygments_lexer": "ipython2",
   "version": "2.7.12"
  }
 },
 "nbformat": 4,
 "nbformat_minor": 1
}
