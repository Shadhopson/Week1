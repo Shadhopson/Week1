{
 "cells": [
  {
   "cell_type": "markdown",
   "metadata": {},
   "source": [
    "# Cleaning the data"
   ]
  },
  {
   "cell_type": "markdown",
   "metadata": {},
   "source": [
    "# Makes advanced_welcome_table_summed from Welcome_Table_All_Dates_All_Data.csv"
   ]
  },
  {
   "cell_type": "code",
   "execution_count": 18,
   "metadata": {
    "collapsed": true
   },
   "outputs": [],
   "source": [
    "import unicodecsv\n",
    "import math\n",
    "import matplotlib.pyplot as plt\n",
    "from datetime import datetime as dt\n",
    "import numpy as np\n",
    "import pandas as pd\n",
    "\n",
    "def read_csv(filename):\n",
    "    with open(filename, 'rb') as f:\n",
    "        reader = unicodecsv.DictReader(f)\n",
    "        return list(reader)"
   ]
  },
  {
   "cell_type": "code",
   "execution_count": 19,
   "metadata": {
    "collapsed": false
   },
   "outputs": [],
   "source": [
    "csv_list = []\n",
    "welcome_table_june = read_csv('Welcome_Table_All_Dates_All_Data.csv')"
   ]
  },
  {
   "cell_type": "code",
   "execution_count": 20,
   "metadata": {
    "collapsed": false
   },
   "outputs": [],
   "source": [
    "#welcome_table_june"
   ]
  },
  {
   "cell_type": "code",
   "execution_count": 21,
   "metadata": {
    "collapsed": true
   },
   "outputs": [],
   "source": [
    "def set_to_int(column_name):\n",
    "    for row in welcome_table_june:\n",
    "        if row[column_name].strip() == \"\":\n",
    "            row[column_name] = 0\n",
    "        row[column_name] = int(row[column_name])\n"
   ]
  },
  {
   "cell_type": "code",
   "execution_count": 22,
   "metadata": {
    "collapsed": false
   },
   "outputs": [],
   "source": [
    "set_to_int('# Returns')\n",
    "set_to_int('# New')\n",
    "set_to_int('# in Group')"
   ]
  },
  {
   "cell_type": "code",
   "execution_count": 23,
   "metadata": {
    "collapsed": true
   },
   "outputs": [],
   "source": [
    "def parse_date(date):\n",
    "    if date == '':\n",
    "        return None\n",
    "    else:\n",
    "        try:\n",
    "            return dt.strptime(date, '%m/%d/%Y')\n",
    "        except:\n",
    "            return dt.strptime(date, '%m/%d/%y')"
   ]
  },
  {
   "cell_type": "code",
   "execution_count": 24,
   "metadata": {
    "collapsed": false
   },
   "outputs": [],
   "source": [
    "for row in welcome_table_june:\n",
    "    try:\n",
    "        if len(row['Date']) > 4:\n",
    "            new_date = row['Date']\n",
    "        row['Date'] = parse_date(new_date)\n",
    "    except:\n",
    "        print row['Date']"
   ]
  },
  {
   "cell_type": "markdown",
   "metadata": {},
   "source": [
    "# Grouping the data by date"
   ]
  },
  {
   "cell_type": "code",
   "execution_count": 25,
   "metadata": {
    "collapsed": true
   },
   "outputs": [],
   "source": [
    "from collections import defaultdict"
   ]
  },
  {
   "cell_type": "code",
   "execution_count": 26,
   "metadata": {
    "collapsed": true
   },
   "outputs": [],
   "source": [
    "welcome_table_stats_by_date = defaultdict(list)\n",
    "for row in welcome_table_june:\n",
    "    welcome_table_stats_by_date[str(row[\"Date\"]).split(' ',1)[0]].append(row)"
   ]
  },
  {
   "cell_type": "code",
   "execution_count": 27,
   "metadata": {
    "collapsed": false
   },
   "outputs": [
    {
     "name": "stdout",
     "output_type": "stream",
     "text": [
      "dropping {u'# in Group': 17, u'Temperature': u'', u'Zip code': u'', u'Weather': u'', u'# Returns': 17, u'Date': datetime.datetime(2016, 12, 1, 0, 0), u'# New': 0}\n",
      "dropping {u'# in Group': 4, u'Temperature': u'42', u'Zip code': u'', u'Weather': u'windy', u'# Returns': 0, u'Date': datetime.datetime(2017, 3, 2, 0, 0), u'# New': 4}\n",
      "dropping {u'# in Group': 4, u'Temperature': u'79', u'Zip code': u'', u'Weather': u'sunny', u'# Returns': 0, u'Date': datetime.datetime(2018, 9, 16, 0, 0), u'# New': 4}\n",
      "dropping {u'# in Group': 2, u'Temperature': u'85', u'Zip code': u'', u'Weather': u'mostly cloudy', u'# Returns': 0, u'Date': datetime.datetime(2018, 8, 2, 0, 0), u'# New': 2}\n",
      "dropping {u'# in Group': 2, u'Temperature': u'49', u'Zip code': u'', u'Weather': u'Sunny/windy', u'# Returns': 0, u'Date': datetime.datetime(2016, 11, 12, 0, 0), u'# New': 2}\n",
      "dropping {u'# in Group': 73, u'Temperature': u'84', u'Zip code': u'', u'Weather': u'sunny', u'# Returns': 44, u'Date': datetime.datetime(2016, 8, 27, 0, 0), u'# New': 29}\n",
      "dropping {u'# in Group': 1, u'Temperature': u'54', u'Zip code': u'', u'Weather': u'Sunny', u'# Returns': 0, u'Date': datetime.datetime(2018, 11, 4, 0, 0), u'# New': 1}\n",
      "dropping {u'# in Group': 2, u'Temperature': u'88', u'Zip code': u'', u'Weather': u'Sunny', u'# Returns': 0, u'Date': datetime.datetime(2016, 9, 10, 0, 0), u'# New': 2}\n",
      "dropping {u'# in Group': 2, u'Temperature': u'75', u'Zip code': u'', u'Weather': u'Sunny', u'# Returns': 0, u'Date': datetime.datetime(2016, 9, 17, 0, 0), u'# New': 2}\n",
      "dropping {u'# in Group': 51, u'Temperature': u'', u'Zip code': u'', u'Weather': u'', u'# Returns': 29, u'Date': datetime.datetime(2016, 12, 18, 0, 0), u'# New': 20}\n",
      "dropping {u'# in Group': 4, u'Temperature': u'78', u'Zip code': u'', u'Weather': u'sunny', u'# Returns': 0, u'Date': datetime.datetime(2018, 7, 8, 0, 0), u'# New': 4}\n",
      "dropping {u'# in Group': 1, u'Temperature': u'78', u'Zip code': u'', u'Weather': u'sunny', u'# Returns': 0, u'Date': datetime.datetime(2018, 7, 8, 0, 0), u'# New': 1}\n",
      "dropping {u'# in Group': 3, u'Temperature': u'72', u'Zip code': u'', u'Weather': u'Sunny', u'# Returns': 0, u'Date': datetime.datetime(2018, 9, 29, 0, 0), u'# New': 3}\n",
      "dropping {u'# in Group': 0, u'Temperature': u'60', u'Zip code': u'', u'Weather': u'sunny ', u'# Returns': 0, u'Date': datetime.datetime(2016, 11, 1, 0, 0), u'# New': 0}\n",
      "dropping {u'# in Group': 3, u'Temperature': u'', u'Zip code': u'', u'Weather': u'', u'# Returns': 0, u'Date': datetime.datetime(2016, 10, 16, 0, 0), u'# New': 3}\n",
      "dropping {u'# in Group': 0, u'Temperature': u'61', u'Zip code': u'', u'Weather': u'Cloudy', u'# Returns': 0, u'Date': datetime.datetime(2017, 2, 25, 0, 0), u'# New': 0}\n",
      "dropping {u'# in Group': 0, u'Temperature': u'44', u'Zip code': u'', u'Weather': u'Rain/thunderstorm', u'# Returns': 0, u'Date': datetime.datetime(2017, 4, 6, 0, 0), u'# New': 0}\n",
      "dropping {u'# in Group': 0, u'Temperature': u'81', u'Zip code': u'', u'Weather': u'sunny', u'# Returns': 0, u'Date': datetime.datetime(2018, 7, 19, 0, 0), u'# New': 0}\n",
      "dropping {u'# in Group': 0, u'Temperature': u'81', u'Zip code': u'', u'Weather': u'sunny', u'# Returns': 0, u'Date': datetime.datetime(2018, 7, 19, 0, 0), u'# New': 0}\n",
      "dropping {u'# in Group': 0, u'Temperature': u'81', u'Zip code': u'', u'Weather': u'sunny', u'# Returns': 0, u'Date': datetime.datetime(2018, 7, 19, 0, 0), u'# New': 0}\n",
      "dropping {u'# in Group': 0, u'Temperature': u'81', u'Zip code': u'', u'Weather': u'sunny', u'# Returns': 0, u'Date': datetime.datetime(2018, 7, 19, 0, 0), u'# New': 0}\n",
      "dropping {u'# in Group': 0, u'Temperature': u'81', u'Zip code': u'', u'Weather': u'sunny', u'# Returns': 0, u'Date': datetime.datetime(2018, 7, 19, 0, 0), u'# New': 0}\n",
      "dropping {u'# in Group': 2, u'Temperature': u'93', u'Zip code': u'', u'Weather': u'Sunny', u'# Returns': 0, u'Date': datetime.datetime(2018, 9, 4, 0, 0), u'# New': 2}\n",
      "dropping {u'# in Group': 2, u'Temperature': u'72', u'Zip code': u'', u'Weather': u'partly cloudy', u'# Returns': 0, u'Date': datetime.datetime(2018, 9, 8, 0, 0), u'# New': 2}\n",
      "dropping {u'# in Group': 3, u'Temperature': u'72', u'Zip code': u'', u'Weather': u'partly cloudy', u'# Returns': 0, u'Date': datetime.datetime(2018, 9, 8, 0, 0), u'# New': 3}\n",
      "dropping {u'# in Group': 1, u'Temperature': u'81', u'Zip code': u'', u'Weather': u'Rain/cloudy', u'# Returns': 0, u'Date': datetime.datetime(2018, 8, 14, 0, 0), u'# New': 1}\n",
      "dropping {u'# in Group': 105, u'Temperature': u'90', u'Zip code': u'', u'Weather': u'Sunny', u'# Returns': 32, u'Date': datetime.datetime(2016, 8, 7, 0, 0), u'# New': 73}\n",
      "dropping {u'# in Group': 48, u'Temperature': u'90', u'Zip code': u'', u'Weather': u'Sunny', u'# Returns': 9, u'Date': datetime.datetime(2016, 8, 9, 0, 0), u'# New': 36}\n",
      "dropping {u'# in Group': 2, u'Temperature': u'55', u'Zip code': u'', u'Weather': u'Cloudy', u'# Returns': 0, u'Date': datetime.datetime(2018, 10, 13, 0, 0), u'# New': 2}\n",
      "dropping {u'# in Group': 1, u'Temperature': u'57', u'Zip code': u'', u'Weather': u'cloudy', u'# Returns': 1, u'Date': datetime.datetime(2018, 10, 14, 0, 0), u'# New': 0}\n",
      "dropping {u'# in Group': 1, u'Temperature': u'57', u'Zip code': u'', u'Weather': u'cloudy', u'# Returns': 0, u'Date': datetime.datetime(2018, 10, 14, 0, 0), u'# New': 1}\n"
     ]
    }
   ],
   "source": [
    "summed_by_date = {}\n",
    "for key in welcome_table_stats_by_date:\n",
    "    total_visitors = 0\n",
    "    total_new = 0\n",
    "    total_returns = 0\n",
    "    weather = \"\"\n",
    "    temperature = \"\"\n",
    "    local = 0\n",
    "    fake = False\n",
    "    for visit in welcome_table_stats_by_date[key]:\n",
    "        if visit[\"Zip code\"]:\n",
    "            total_visitors += visit[\"# in Group\"]\n",
    "            total_new += visit[\"# New\"]\n",
    "            total_returns += visit[\"# Returns\"]\n",
    "        else:\n",
    "            #fake = True\n",
    "            print \"dropping\", visit\n",
    "        if(visit[\"Zip code\"] == \"11201\"):\n",
    "            local += visit[\"# in Group\"]\n",
    "        if (visit[\"Temperature\"]):\n",
    "            temperature = visit[\"Temperature\"]\n",
    "    if total_visitors != 0 and not fake:\n",
    "        summed_by_date[key] = {\"total_visitors\": total_visitors, \"total_new\": total_new, \"total_returns\":total_returns,\"from_11201\": local, \"Temperature\": temperature}"
   ]
  },
  {
   "cell_type": "code",
   "execution_count": 28,
   "metadata": {
    "collapsed": false
   },
   "outputs": [],
   "source": [
    "summed_by_date =  pd.DataFrame.from_dict(summed_by_date, orient = 'index' )"
   ]
  },
  {
   "cell_type": "markdown",
   "metadata": {},
   "source": [
    "# Adding weather data and additional features"
   ]
  },
  {
   "cell_type": "code",
   "execution_count": 29,
   "metadata": {
    "collapsed": false
   },
   "outputs": [],
   "source": [
    "#summed_by_date"
   ]
  },
  {
   "cell_type": "code",
   "execution_count": 30,
   "metadata": {
    "collapsed": true
   },
   "outputs": [],
   "source": [
    "import json\n",
    "\n",
    "# load from file:\n",
    "with open('past_weather.json', 'r') as f:\n",
    "    try:\n",
    "        weather_dict1 = json.load(f)\n",
    "    # if the file is empty the ValueError will be thrown\n",
    "    except ValueError:\n",
    "        data = {}\n",
    "        \n",
    "with open('past_weather2.json', 'r') as f:\n",
    "    try:\n",
    "        weather_dict2 = json.load(f)\n",
    "    # if the file is empty the ValueError will be thrown\n",
    "    except ValueError:\n",
    "        data = {}"
   ]
  },
  {
   "cell_type": "code",
   "execution_count": 31,
   "metadata": {
    "collapsed": false
   },
   "outputs": [
    {
     "data": {
      "text/html": [
       "<div>\n",
       "<table border=\"1\" class=\"dataframe\">\n",
       "  <thead>\n",
       "    <tr style=\"text-align: right;\">\n",
       "      <th></th>\n",
       "      <th>total_visitors</th>\n",
       "      <th>total_returns</th>\n",
       "      <th>total_new</th>\n",
       "      <th>Temperature</th>\n",
       "      <th>from_11201</th>\n",
       "    </tr>\n",
       "  </thead>\n",
       "  <tbody>\n",
       "    <tr>\n",
       "      <th>2015-08-20</th>\n",
       "      <td>37</td>\n",
       "      <td>0</td>\n",
       "      <td>37</td>\n",
       "      <td>82</td>\n",
       "      <td>0</td>\n",
       "    </tr>\n",
       "    <tr>\n",
       "      <th>2015-08-22</th>\n",
       "      <td>80</td>\n",
       "      <td>0</td>\n",
       "      <td>80</td>\n",
       "      <td>86</td>\n",
       "      <td>0</td>\n",
       "    </tr>\n",
       "    <tr>\n",
       "      <th>2015-08-23</th>\n",
       "      <td>95</td>\n",
       "      <td>3</td>\n",
       "      <td>92</td>\n",
       "      <td>83</td>\n",
       "      <td>0</td>\n",
       "    </tr>\n",
       "    <tr>\n",
       "      <th>2015-08-26</th>\n",
       "      <td>42</td>\n",
       "      <td>0</td>\n",
       "      <td>42</td>\n",
       "      <td>82</td>\n",
       "      <td>0</td>\n",
       "    </tr>\n",
       "    <tr>\n",
       "      <th>2015-08-28</th>\n",
       "      <td>16</td>\n",
       "      <td>0</td>\n",
       "      <td>16</td>\n",
       "      <td>82</td>\n",
       "      <td>0</td>\n",
       "    </tr>\n",
       "  </tbody>\n",
       "</table>\n",
       "</div>"
      ],
      "text/plain": [
       "            total_visitors  total_returns  total_new Temperature  from_11201\n",
       "2015-08-20              37              0         37          82           0\n",
       "2015-08-22              80              0         80          86           0\n",
       "2015-08-23              95              3         92          83           0\n",
       "2015-08-26              42              0         42          82           0\n",
       "2015-08-28              16              0         16          82           0"
      ]
     },
     "execution_count": 31,
     "metadata": {},
     "output_type": "execute_result"
    }
   ],
   "source": [
    "summed_by_date.head()"
   ]
  },
  {
   "cell_type": "code",
   "execution_count": 33,
   "metadata": {
    "collapsed": false
   },
   "outputs": [],
   "source": [
    "#summed_by_date[summed_by_date.index == '6-Sep']"
   ]
  },
  {
   "cell_type": "code",
   "execution_count": 34,
   "metadata": {
    "collapsed": false
   },
   "outputs": [
    {
     "name": "stdout",
     "output_type": "stream",
     "text": [
      "2015-10-03 weather\n",
      "2108-06-10 weather\n"
     ]
    }
   ],
   "source": [
    "summed_by_date[\"avg_visits_per_hour\"] = float('nan')\n",
    "summed_by_date[\"avg_returns_per_hour\"] = float('nan')\n",
    "summed_by_date[\"avg_new_per_hour\"] = float('nan')\n",
    "summed_by_date[\"avg_from_11201_per_hour\"] = float('nan')\n",
    "summed_by_date[\"ratio_11201\"] = float('nan')\n",
    "summed_by_date[\"day\"] = \"\"\n",
    "summed_by_date['week'] = \"\"\n",
    "summed_by_date[\"month\"] = 6\n",
    "summed_by_date[\"year\"] = 2016\n",
    "summed_by_date[\"given_temp\"] = summed_by_date[\"Temperature\"]\n",
    "summed_by_date[\"precipitation\"] =  float('nan')\n",
    "summed_by_date[\"cloud_cover\"] = float('nan')\n",
    "summed_by_date[\"snow\"] = float('nan')\n",
    "summed_by_date[\"rain\"] = float('nan')\n",
    "summed_by_date.total_returns = summed_by_date.total_returns.astype(float)\n",
    "summed_by_date.total_new = summed_by_date.total_new.astype(float)\n",
    "summed_by_date.from_11201 = summed_by_date.from_11201.astype(float)\n",
    "        \n",
    "for val in summed_by_date.index.values:\n",
    "    if summed_by_date.loc[val]['total_visitors'] != 0 and summed_by_date.loc[val]['total_returns'] <1 and summed_by_date.loc[val]['total_new'] <1:\n",
    "        summed_by_date.set_value(val,'total_returns', float('nan'))\n",
    "        summed_by_date.set_value(val, 'total_new', float('nan'))\n",
    "    if val != 'None':\n",
    "        the_date = dt.strptime(val, \"%Y-%m-%d\")\n",
    "        if the_date < dt.strptime(\"2018-04-01\", \"%Y-%m-%d\"):\n",
    "            weather_dict = weather_dict1\n",
    "        else:\n",
    "            weather_dict = weather_dict2\n",
    "        if the_date < dt.strptime(\"2016-02-06\", \"%Y-%m-%d\"):\n",
    "            summed_by_date.set_value(val,'from_11201', float('nan'))\n",
    "        if the_date.weekday() >= 5:\n",
    "            hours = 4\n",
    "        elif the_date.weekday() == 1 or  the_date.weekday() == 3:\n",
    "            hours = 2\n",
    "        else:\n",
    "            hours = 2\n",
    "        try:\n",
    "            try:\n",
    "                if weather_dict[val][0]['precipIntensity'] > 0:\n",
    "                    if weather_dict[val][0]['precipType'] == 'snow':\n",
    "                        summed_by_date.set_value(val, 'snow', 1)\n",
    "                        summed_by_date.set_value(val, 'rain', 0)\n",
    "                    elif weather_dict[val][0]['precipType'] == 'rain':\n",
    "                        summed_by_date.set_value(val, 'rain', 1)\n",
    "                        summed_by_date.set_value(val, 'snow', 0)\n",
    "                    else:\n",
    "                        print weather_dict[val][0]['precipType']\n",
    "                else:\n",
    "                    summed_by_date.set_value(val, 'snow', 0)\n",
    "                    summed_by_date.set_value(val, 'rain', 0)\n",
    "                    \n",
    "                summed_by_date.set_value(val, 'Temperature', weather_dict[val][0][\"temperatureMax\"])\n",
    "                summed_by_date.set_value(val, 'precipitation', weather_dict[val][0]['precipIntensity'])\n",
    "                summed_by_date.set_value(val, 'cloud_cover', weather_dict[val][0]['cloudCover'])\n",
    "            except:\n",
    "                print val, \"weather\"\n",
    "            summed_by_date.set_value(val, \"day\", the_date.weekday())\n",
    "            summed_by_date.set_value(val, \"week\", the_date.isocalendar()[1])\n",
    "            summed_by_date.set_value(val, \"month\", the_date.month)\n",
    "            summed_by_date.set_value(val, \"year\", the_date.year)\n",
    "            summed_by_date.set_value(val, \"ratio_11201\", summed_by_date.loc[val][\"from_11201\"]/(1.0* summed_by_date.loc[val][\"total_visitors\"]))\n",
    "            summed_by_date.set_value(val, \"avg_visits_per_hour\", summed_by_date.loc[val][\"total_visitors\"]/(1.0*hours))\n",
    "            summed_by_date.set_value(val, \"avg_returns_per_hour\", summed_by_date.loc[val][\"total_returns\"]/(1.0*hours))\n",
    "            summed_by_date.set_value(val, \"avg_new_per_hour\", summed_by_date.loc[val][\"total_new\"]/(1.0*hours))\n",
    "            summed_by_date.set_value(val, \"avg_from_11201_per_hour\", summed_by_date.loc[val][\"from_11201\"]/(1.0*hours))\n",
    "        except:\n",
    "            print val"
   ]
  },
  {
   "cell_type": "markdown",
   "metadata": {},
   "source": [
    "# Create csv"
   ]
  },
  {
   "cell_type": "code",
   "execution_count": 35,
   "metadata": {
    "collapsed": true
   },
   "outputs": [],
   "source": [
    "summed_by_date.to_csv('advanced_welcome_table_summed.csv', sep =',')"
   ]
  },
  {
   "cell_type": "code",
   "execution_count": null,
   "metadata": {
    "collapsed": true
   },
   "outputs": [],
   "source": []
  },
  {
   "cell_type": "code",
   "execution_count": null,
   "metadata": {
    "collapsed": true
   },
   "outputs": [],
   "source": []
  }
 ],
 "metadata": {
  "anaconda-cloud": {},
  "kernelspec": {
   "display_name": "Python [conda root]",
   "language": "python",
   "name": "conda-root-py"
  },
  "language_info": {
   "codemirror_mode": {
    "name": "ipython",
    "version": 2
   },
   "file_extension": ".py",
   "mimetype": "text/x-python",
   "name": "python",
   "nbconvert_exporter": "python",
   "pygments_lexer": "ipython2",
   "version": "2.7.12"
  }
 },
 "nbformat": 4,
 "nbformat_minor": 1
}
