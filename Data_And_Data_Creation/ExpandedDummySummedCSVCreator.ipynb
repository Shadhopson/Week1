{
 "cells": [
  {
   "cell_type": "code",
   "execution_count": 1,
   "metadata": {},
   "outputs": [],
   "source": [
    "import pandas as pd\n",
    "summed_by_date = pd.read_csv('advanced_welcome_table_summed.csv')\n",
    "# add yesterdays visits_per_hour\n",
    "summed_by_date[\"yesterday_visits_per_hour\"] = pd.Series([None]+list(summed_by_date.avg_visits_per_hour))\n",
    "# get dummy columns for year and add it to the dataframe\n",
    "year_dummies = pd.get_dummies(summed_by_date.year, prefix ='year').iloc[:,1:]\n",
    "year_summed_by_date = pd.concat([summed_by_date, year_dummies], axis=1)\n",
    "# get dummy columns for the day of the week and add it to the datafram\n",
    "day_dummies = pd.get_dummies(year_summed_by_date.day, prefix='day').iloc[:,1:]\n",
    "day_summed_by_date = pd.concat([year_summed_by_date, day_dummies], axis=1)\n",
    "# get dummy columns for the month of the year and add it to the dataframe\n",
    "month_dummies = pd.get_dummies(day_summed_by_date.month, prefix ='month').iloc[:,1:]\n",
    "dummy_summed_by_date = pd.concat([day_summed_by_date, month_dummies], axis=1)\n",
    "# do the same for week? \n",
    "week_dummies = pd.get_dummies(dummy_summed_by_date.week, prefix='week').iloc[:,1:]\n",
    "dummy_summed_by_date = pd.concat([dummy_summed_by_date, week_dummies], axis=1)\n",
    "\n",
    "dummy_summed_by_date.to_csv('expanded_dummied_welcome_table_summed.csv', sep =',')    \n"
   ]
  },
  {
   "cell_type": "code",
   "execution_count": null,
   "metadata": {
    "collapsed": true
   },
   "outputs": [],
   "source": []
  }
 ],
 "metadata": {
  "anaconda-cloud": {},
  "kernelspec": {
   "display_name": "Python 3",
   "language": "python",
   "name": "python3"
  },
  "language_info": {
   "codemirror_mode": {
    "name": "ipython",
    "version": 3
   },
   "file_extension": ".py",
   "mimetype": "text/x-python",
   "name": "python",
   "nbconvert_exporter": "python",
   "pygments_lexer": "ipython3",
   "version": "3.6.4"
  }
 },
 "nbformat": 4,
 "nbformat_minor": 1
}
