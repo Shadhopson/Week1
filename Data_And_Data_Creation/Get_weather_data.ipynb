{
 "cells": [
  {
   "cell_type": "code",
   "execution_count": 1,
   "metadata": {},
   "outputs": [],
   "source": [
    "example_site = \"https://api.darksky.net/forecast/6ee0b0521cccd43b16a44a63eba7cd8d/40.6987,-73.9859,2016-06-02T15:00:00\"\n",
    "\n",
    "import urllib\n",
    "import json\n",
    "import datetime"
   ]
  },
  {
   "cell_type": "markdown",
   "metadata": {},
   "source": [
    "# Gets from now to about 2 years ago worth of weather data and stores it in past_weather.json"
   ]
  },
  {
   "cell_type": "code",
   "execution_count": 5,
   "metadata": {},
   "outputs": [],
   "source": [
    "weather_data  = json.load(urllib.request.urlopen(example_site))"
   ]
  },
  {
   "cell_type": "code",
   "execution_count": null,
   "metadata": {},
   "outputs": [],
   "source": []
  },
  {
   "cell_type": "code",
   "execution_count": 7,
   "metadata": {},
   "outputs": [
    {
     "name": "stdout",
     "output_type": "stream",
     "text": [
      "{'time': 1464840000, 'summary': 'Clear', 'icon': 'clear-night', 'precipIntensity': 0, 'precipProbability': 0, 'temperature': 65.28, 'apparentTemperature': 65.28, 'dewPoint': 56.27, 'humidity': 0.73, 'pressure': 1020.85, 'windSpeed': 1.69, 'windGust': 3.66, 'windBearing': 70, 'cloudCover': 0.06, 'uvIndex': 0, 'visibility': 9.997}\n"
     ]
    }
   ],
   "source": [
    "print (weather_data[\"hourly\"][\"data\"][0])"
   ]
  },
  {
   "cell_type": "code",
   "execution_count": 8,
   "metadata": {},
   "outputs": [
    {
     "name": "stdout",
     "output_type": "stream",
     "text": [
      "[{'time': 1464840000, 'summary': 'Partly cloudy throughout the day.', 'icon': 'partly-cloudy-day', 'sunriseTime': 1464859671, 'sunsetTime': 1464913396, 'moonPhase': 0.92, 'precipIntensity': 0, 'precipIntensityMax': 0, 'precipProbability': 0, 'temperatureHigh': 73.41, 'temperatureHighTime': 1464894000, 'temperatureLow': 63.01, 'temperatureLowTime': 1464944400, 'apparentTemperatureHigh': 73.53, 'apparentTemperatureHighTime': 1464894000, 'apparentTemperatureLow': 63.19, 'apparentTemperatureLowTime': 1464944400, 'dewPoint': 59.13, 'humidity': 0.77, 'pressure': 1019.85, 'windSpeed': 2.61, 'windGust': 8.67, 'windGustTime': 1464904800, 'windBearing': 110, 'cloudCover': 0.38, 'uvIndex': 9, 'uvIndexTime': 1464883200, 'visibility': 9.891, 'temperatureMin': 61.05, 'temperatureMinTime': 1464861600, 'temperatureMax': 73.41, 'temperatureMaxTime': 1464894000, 'apparentTemperatureMin': 61.05, 'apparentTemperatureMinTime': 1464861600, 'apparentTemperatureMax': 73.53, 'apparentTemperatureMaxTime': 1464894000}]\n"
     ]
    }
   ],
   "source": [
    "print (weather_data['daily']['data'])"
   ]
  },
  {
   "cell_type": "code",
   "execution_count": 5,
   "metadata": {
    "collapsed": true
   },
   "outputs": [],
   "source": [
    "#Making second file to hold new data? starts on the 1st of april 2018?"
   ]
  },
  {
   "cell_type": "code",
   "execution_count": 9,
   "metadata": {},
   "outputs": [],
   "source": [
    "the_date = datetime.datetime.today()\n",
    "weather_by_day = {}\n",
    "for i in range(450):\n",
    "    date_str =  str(the_date.date())\n",
    "    the_date = the_date - datetime.timedelta(days=1)\n",
    "    url = \"https://api.darksky.net/forecast/b9c6a819273a7cb93ca71df9d90e768e/40.6987,-73.9859,\"+ date_str+\"T15:00:00\"\n",
    "    weather_data  = json.load(urllib.request.urlopen(url))\n",
    "    try:\n",
    "        weather_by_day[date_str] =  weather_data['daily']['data']\n",
    "    except:\n",
    "        print (date_str)\n",
    "    \n",
    "    "
   ]
  },
  {
   "cell_type": "code",
   "execution_count": 11,
   "metadata": {},
   "outputs": [
    {
     "name": "stdout",
     "output_type": "stream",
     "text": [
      "450\n"
     ]
    }
   ],
   "source": [
    "print (len(weather_by_day))"
   ]
  },
  {
   "cell_type": "code",
   "execution_count": 12,
   "metadata": {},
   "outputs": [],
   "source": [
    "with open('past_weather2.json', 'w') as f:\n",
    "    json.dump(weather_by_day, f)"
   ]
  },
  {
   "cell_type": "code",
   "execution_count": 14,
   "metadata": {},
   "outputs": [
    {
     "name": "stdout",
     "output_type": "stream",
     "text": [
      "2018-03-23\n"
     ]
    }
   ],
   "source": [
    "print (date_str)\n"
   ]
  },
  {
   "cell_type": "code",
   "execution_count": null,
   "metadata": {
    "collapsed": true
   },
   "outputs": [],
   "source": []
  },
  {
   "cell_type": "code",
   "execution_count": null,
   "metadata": {
    "collapsed": true
   },
   "outputs": [],
   "source": []
  }
 ],
 "metadata": {
  "anaconda-cloud": {},
  "kernelspec": {
   "display_name": "Python 3",
   "language": "python",
   "name": "python3"
  },
  "language_info": {
   "codemirror_mode": {
    "name": "ipython",
    "version": 3
   },
   "file_extension": ".py",
   "mimetype": "text/x-python",
   "name": "python",
   "nbconvert_exporter": "python",
   "pygments_lexer": "ipython3",
   "version": "3.6.4"
  }
 },
 "nbformat": 4,
 "nbformat_minor": 1
}
