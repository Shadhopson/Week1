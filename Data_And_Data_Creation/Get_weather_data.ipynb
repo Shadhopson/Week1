{
 "cells": [
  {
   "cell_type": "code",
   "execution_count": 1,
   "metadata": {
    "collapsed": true
   },
   "outputs": [],
   "source": [
    "example_site = \"https://api.darksky.net/forecast/6ee0b0521cccd43b16a44a63eba7cd8d/40.6987,-73.9859,2016-06-02T15:00:00\"\n",
    "\n",
    "import urllib\n",
    "import json\n",
    "import datetime"
   ]
  },
  {
   "cell_type": "markdown",
   "metadata": {},
   "source": [
    "# Gets from now to about 2 years ago worth of weather data and stores it in past_weather.json"
   ]
  },
  {
   "cell_type": "code",
   "execution_count": 2,
   "metadata": {
    "collapsed": false
   },
   "outputs": [],
   "source": [
    "weather_data  = json.load(urllib.urlopen(example_site))"
   ]
  },
  {
   "cell_type": "code",
   "execution_count": null,
   "metadata": {
    "collapsed": false
   },
   "outputs": [],
   "source": []
  },
  {
   "cell_type": "code",
   "execution_count": 3,
   "metadata": {
    "collapsed": false
   },
   "outputs": [
    {
     "name": "stdout",
     "output_type": "stream",
     "text": [
      "{u'windGust': 4.13, u'temperature': 65.5, u'icon': u'clear-night', u'dewPoint': 56.03, u'humidity': 0.71, u'cloudCover': 0.08, u'summary': u'Clear', u'apparentTemperature': 65.5, u'pressure': 1020.86, u'windSpeed': 2.02, u'visibility': 10, u'time': 1464840000, u'windBearing': 69, u'precipIntensity': 0, u'uvIndex': 0, u'precipProbability': 0}\n"
     ]
    }
   ],
   "source": [
    "print weather_data[\"hourly\"][\"data\"][0]"
   ]
  },
  {
   "cell_type": "code",
   "execution_count": 4,
   "metadata": {
    "collapsed": false
   },
   "outputs": [
    {
     "name": "stdout",
     "output_type": "stream",
     "text": [
      "[{u'apparentTemperatureMinTime': 1464861600, u'apparentTemperatureLow': 63.36, u'temperatureLow': 63.19, u'temperatureMin': 61.31, u'temperatureHigh': 72.99, u'summary': u'Mostly cloudy throughout the day.', u'dewPoint': 58.93, u'apparentTemperatureMax': 73.11, u'temperatureMax': 72.99, u'windSpeed': 2.28, u'apparentTemperatureHigh': 73.11, u'windGustTime': 1464904800, u'temperatureMaxTime': 1464894000, u'windBearing': 106, u'temperatureLowTime': 1464944400, u'moonPhase': 0.91, u'temperatureMinTime': 1464861600, u'time': 1464840000, u'visibility': 9.86, u'sunsetTime': 1464913396, u'pressure': 1019.87, u'uvIndexTime': 1464879600, u'cloudCover': 0.37, u'apparentTemperatureLowTime': 1464944400, u'apparentTemperatureMin': 61.31, u'apparentTemperatureHighTime': 1464894000, u'precipIntensityMax': 0, u'icon': u'partly-cloudy-day', u'apparentTemperatureMaxTime': 1464894000, u'humidity': 0.77, u'temperatureHighTime': 1464894000, u'windGust': 9.06, u'precipIntensity': 0, u'uvIndex': 8, u'sunriseTime': 1464859671, u'precipProbability': 0}]\n"
     ]
    }
   ],
   "source": [
    "print weather_data['daily']['data']"
   ]
  },
  {
   "cell_type": "code",
   "execution_count": 5,
   "metadata": {
    "collapsed": true
   },
   "outputs": [],
   "source": [
    "#Making second file to hold new data? starts on the 1st of april 2018?"
   ]
  },
  {
   "cell_type": "code",
   "execution_count": 6,
   "metadata": {
    "collapsed": false
   },
   "outputs": [],
   "source": [
    "the_date = datetime.datetime.today()\n",
    "weather_by_day = {}\n",
    "for i in range(300):\n",
    "    date_str =  str(the_date.date())\n",
    "    the_date = the_date - datetime.timedelta(days=1)\n",
    "    url = \"https://api.darksky.net/forecast/b9c6a819273a7cb93ca71df9d90e768e/40.6987,-73.9859,\"+ date_str+\"T15:00:00\"\n",
    "    weather_data  = json.load(urllib.urlopen(url))\n",
    "    try:\n",
    "        weather_by_day[date_str] =  weather_data['daily']['data']\n",
    "    except:\n",
    "        print date_str\n",
    "    \n",
    "    "
   ]
  },
  {
   "cell_type": "code",
   "execution_count": 7,
   "metadata": {
    "collapsed": false
   },
   "outputs": [
    {
     "name": "stdout",
     "output_type": "stream",
     "text": [
      "300\n"
     ]
    }
   ],
   "source": [
    "print len(weather_by_day)"
   ]
  },
  {
   "cell_type": "code",
   "execution_count": 8,
   "metadata": {
    "collapsed": true
   },
   "outputs": [],
   "source": [
    "with open('past_weather2.json', 'w') as f:\n",
    "    json.dump(weather_by_day, f)"
   ]
  },
  {
   "cell_type": "code",
   "execution_count": 9,
   "metadata": {
    "collapsed": false
   },
   "outputs": [
    {
     "name": "stdout",
     "output_type": "stream",
     "text": [
      "2018-02-19\n"
     ]
    }
   ],
   "source": [
    "print date_str\n"
   ]
  },
  {
   "cell_type": "code",
   "execution_count": null,
   "metadata": {
    "collapsed": true
   },
   "outputs": [],
   "source": []
  },
  {
   "cell_type": "code",
   "execution_count": null,
   "metadata": {
    "collapsed": true
   },
   "outputs": [],
   "source": []
  }
 ],
 "metadata": {
  "anaconda-cloud": {},
  "kernelspec": {
   "display_name": "Python [conda root]",
   "language": "python",
   "name": "conda-root-py"
  },
  "language_info": {
   "codemirror_mode": {
    "name": "ipython",
    "version": 2
   },
   "file_extension": ".py",
   "mimetype": "text/x-python",
   "name": "python",
   "nbconvert_exporter": "python",
   "pygments_lexer": "ipython2",
   "version": "2.7.12"
  }
 },
 "nbformat": 4,
 "nbformat_minor": 1
}
