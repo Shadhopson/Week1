{
 "cells": [
  {
   "cell_type": "markdown",
   "metadata": {},
   "source": [
    "# Cleaning the data"
   ]
  },
  {
   "cell_type": "markdown",
   "metadata": {},
   "source": [
    "# Makes advanced_welcome_table_summed from Welcome_Table_All_Dates_All_Data.csv"
   ]
  },
  {
   "cell_type": "code",
   "execution_count": 1,
   "metadata": {},
   "outputs": [],
   "source": [
    "import unicodecsv\n",
    "import math\n",
    "import matplotlib.pyplot as plt\n",
    "from datetime import datetime as dt\n",
    "import numpy as np\n",
    "import pandas as pd\n",
    "\n",
    "def read_csv(filename):\n",
    "    with open(filename, 'rb') as f:\n",
    "        reader = unicodecsv.DictReader(f)\n",
    "        return list(reader)"
   ]
  },
  {
   "cell_type": "code",
   "execution_count": 2,
   "metadata": {},
   "outputs": [],
   "source": [
    "csv_list = []\n",
    "welcome_table_june = read_csv('Welcome_Table_All_Dates_All_Data.csv')"
   ]
  },
  {
   "cell_type": "code",
   "execution_count": null,
   "metadata": {},
   "outputs": [],
   "source": []
  },
  {
   "cell_type": "code",
   "execution_count": 4,
   "metadata": {},
   "outputs": [],
   "source": [
    "#welcome_table_june"
   ]
  },
  {
   "cell_type": "code",
   "execution_count": 5,
   "metadata": {},
   "outputs": [],
   "source": [
    "def set_to_int(column_name):\n",
    "    for row in welcome_table_june:\n",
    "        if row[column_name].strip() == \"\":\n",
    "            row[column_name] = 0\n",
    "        row[column_name] = int(row[column_name])\n"
   ]
  },
  {
   "cell_type": "code",
   "execution_count": 6,
   "metadata": {},
   "outputs": [],
   "source": [
    "set_to_int('# Returns')\n",
    "set_to_int('# New')\n",
    "set_to_int('# in Group')"
   ]
  },
  {
   "cell_type": "code",
   "execution_count": 7,
   "metadata": {},
   "outputs": [],
   "source": [
    "def parse_date(date):\n",
    "    if date == '':\n",
    "        return None\n",
    "    else:\n",
    "        try:\n",
    "            return dt.strptime(date, '%m/%d/%Y')\n",
    "        except:\n",
    "            return dt.strptime(date, '%m/%d/%y')"
   ]
  },
  {
   "cell_type": "code",
   "execution_count": 8,
   "metadata": {},
   "outputs": [],
   "source": [
    "for row in welcome_table_june:\n",
    "    try:\n",
    "        if len(row['Date']) > 4:\n",
    "            new_date = row['Date']\n",
    "        row['Date'] = parse_date(new_date)\n",
    "    except:\n",
    "        print (row['Date'])"
   ]
  },
  {
   "cell_type": "markdown",
   "metadata": {},
   "source": [
    "# Grouping the data by date"
   ]
  },
  {
   "cell_type": "code",
   "execution_count": 9,
   "metadata": {},
   "outputs": [],
   "source": [
    "from collections import defaultdict"
   ]
  },
  {
   "cell_type": "code",
   "execution_count": 10,
   "metadata": {},
   "outputs": [],
   "source": [
    "welcome_table_stats_by_date = defaultdict(list)\n",
    "for row in welcome_table_june:\n",
    "    welcome_table_stats_by_date[str(row[\"Date\"]).split(' ',1)[0]].append(row)"
   ]
  },
  {
   "cell_type": "code",
   "execution_count": 11,
   "metadata": {},
   "outputs": [
    {
     "name": "stdout",
     "output_type": "stream",
     "text": [
      "dropping OrderedDict([('Date', datetime.datetime(2016, 8, 7, 0, 0)), ('Zip code', ''), ('# in Group', 105), ('# New', 73), ('# Returns', 32), ('Temperature', '90'), ('Weather', 'Sunny')])\n",
      "dropping OrderedDict([('Date', datetime.datetime(2016, 8, 9, 0, 0)), ('Zip code', ''), ('# in Group', 48), ('# New', 36), ('# Returns', 9), ('Temperature', '90'), ('Weather', 'Sunny')])\n",
      "dropping OrderedDict([('Date', datetime.datetime(2016, 8, 27, 0, 0)), ('Zip code', ''), ('# in Group', 73), ('# New', 29), ('# Returns', 44), ('Temperature', '84'), ('Weather', 'sunny')])\n",
      "dropping OrderedDict([('Date', datetime.datetime(2016, 9, 10, 0, 0)), ('Zip code', ''), ('# in Group', 2), ('# New', 2), ('# Returns', 0), ('Temperature', '88'), ('Weather', 'Sunny')])\n",
      "dropping OrderedDict([('Date', datetime.datetime(2016, 9, 17, 0, 0)), ('Zip code', ''), ('# in Group', 2), ('# New', 2), ('# Returns', 0), ('Temperature', '75'), ('Weather', 'Sunny')])\n",
      "dropping OrderedDict([('Date', datetime.datetime(2016, 10, 16, 0, 0)), ('Zip code', ''), ('# in Group', 3), ('# New', 3), ('# Returns', 0), ('Temperature', ''), ('Weather', '')])\n",
      "dropping OrderedDict([('Date', datetime.datetime(2016, 11, 1, 0, 0)), ('Zip code', ''), ('# in Group', 0), ('# New', 0), ('# Returns', 0), ('Temperature', '60'), ('Weather', 'sunny ')])\n",
      "dropping OrderedDict([('Date', datetime.datetime(2016, 11, 12, 0, 0)), ('Zip code', ''), ('# in Group', 2), ('# New', 2), ('# Returns', 0), ('Temperature', '49'), ('Weather', 'Sunny/windy')])\n",
      "dropping OrderedDict([('Date', datetime.datetime(2016, 12, 1, 0, 0)), ('Zip code', ''), ('# in Group', 17), ('# New', 0), ('# Returns', 17), ('Temperature', ''), ('Weather', '')])\n",
      "dropping OrderedDict([('Date', datetime.datetime(2016, 12, 18, 0, 0)), ('Zip code', ''), ('# in Group', 51), ('# New', 20), ('# Returns', 29), ('Temperature', ''), ('Weather', '')])\n",
      "dropping OrderedDict([('Date', datetime.datetime(2017, 2, 25, 0, 0)), ('Zip code', ''), ('# in Group', 0), ('# New', 0), ('# Returns', 0), ('Temperature', '61'), ('Weather', 'Cloudy')])\n",
      "dropping OrderedDict([('Date', datetime.datetime(2017, 3, 2, 0, 0)), ('Zip code', ''), ('# in Group', 4), ('# New', 4), ('# Returns', 0), ('Temperature', '42'), ('Weather', 'windy')])\n",
      "dropping OrderedDict([('Date', datetime.datetime(2017, 4, 6, 0, 0)), ('Zip code', ''), ('# in Group', 0), ('# New', 0), ('# Returns', 0), ('Temperature', '44'), ('Weather', 'Rain/thunderstorm')])\n",
      "dropping OrderedDict([('Date', datetime.datetime(2018, 7, 8, 0, 0)), ('Zip code', ''), ('# in Group', 4), ('# New', 4), ('# Returns', 0), ('Temperature', '78'), ('Weather', 'sunny')])\n",
      "dropping OrderedDict([('Date', datetime.datetime(2018, 7, 8, 0, 0)), ('Zip code', ''), ('# in Group', 1), ('# New', 1), ('# Returns', 0), ('Temperature', '78'), ('Weather', 'sunny')])\n",
      "dropping OrderedDict([('Date', datetime.datetime(2018, 7, 19, 0, 0)), ('Zip code', ''), ('# in Group', 0), ('# New', 0), ('# Returns', 0), ('Temperature', '81'), ('Weather', 'sunny')])\n",
      "dropping OrderedDict([('Date', datetime.datetime(2018, 7, 19, 0, 0)), ('Zip code', ''), ('# in Group', 0), ('# New', 0), ('# Returns', 0), ('Temperature', '81'), ('Weather', 'sunny')])\n",
      "dropping OrderedDict([('Date', datetime.datetime(2018, 7, 19, 0, 0)), ('Zip code', ''), ('# in Group', 0), ('# New', 0), ('# Returns', 0), ('Temperature', '81'), ('Weather', 'sunny')])\n",
      "dropping OrderedDict([('Date', datetime.datetime(2018, 7, 19, 0, 0)), ('Zip code', ''), ('# in Group', 0), ('# New', 0), ('# Returns', 0), ('Temperature', '81'), ('Weather', 'sunny')])\n",
      "dropping OrderedDict([('Date', datetime.datetime(2018, 7, 19, 0, 0)), ('Zip code', ''), ('# in Group', 0), ('# New', 0), ('# Returns', 0), ('Temperature', '81'), ('Weather', 'sunny')])\n",
      "dropping OrderedDict([('Date', datetime.datetime(2018, 8, 2, 0, 0)), ('Zip code', ''), ('# in Group', 2), ('# New', 2), ('# Returns', 0), ('Temperature', '85'), ('Weather', 'mostly cloudy')])\n",
      "dropping OrderedDict([('Date', datetime.datetime(2018, 8, 14, 0, 0)), ('Zip code', ''), ('# in Group', 1), ('# New', 1), ('# Returns', 0), ('Temperature', '81'), ('Weather', 'Rain/cloudy')])\n",
      "dropping OrderedDict([('Date', datetime.datetime(2018, 9, 4, 0, 0)), ('Zip code', ''), ('# in Group', 2), ('# New', 2), ('# Returns', 0), ('Temperature', '93'), ('Weather', 'Sunny')])\n",
      "dropping OrderedDict([('Date', datetime.datetime(2018, 9, 8, 0, 0)), ('Zip code', ''), ('# in Group', 2), ('# New', 2), ('# Returns', 0), ('Temperature', '72'), ('Weather', 'partly cloudy')])\n",
      "dropping OrderedDict([('Date', datetime.datetime(2018, 9, 8, 0, 0)), ('Zip code', ''), ('# in Group', 3), ('# New', 3), ('# Returns', 0), ('Temperature', '72'), ('Weather', 'partly cloudy')])\n",
      "dropping OrderedDict([('Date', datetime.datetime(2018, 9, 16, 0, 0)), ('Zip code', ''), ('# in Group', 4), ('# New', 4), ('# Returns', 0), ('Temperature', '79'), ('Weather', 'sunny')])\n",
      "dropping OrderedDict([('Date', datetime.datetime(2018, 9, 29, 0, 0)), ('Zip code', ''), ('# in Group', 3), ('# New', 3), ('# Returns', 0), ('Temperature', '72'), ('Weather', 'Sunny')])\n",
      "dropping OrderedDict([('Date', datetime.datetime(2018, 10, 13, 0, 0)), ('Zip code', ''), ('# in Group', 2), ('# New', 2), ('# Returns', 0), ('Temperature', '55'), ('Weather', 'Cloudy')])\n",
      "dropping OrderedDict([('Date', datetime.datetime(2018, 10, 14, 0, 0)), ('Zip code', ''), ('# in Group', 1), ('# New', 0), ('# Returns', 1), ('Temperature', '57'), ('Weather', 'cloudy')])\n",
      "dropping OrderedDict([('Date', datetime.datetime(2018, 10, 14, 0, 0)), ('Zip code', ''), ('# in Group', 1), ('# New', 1), ('# Returns', 0), ('Temperature', '57'), ('Weather', 'cloudy')])\n",
      "dropping OrderedDict([('Date', datetime.datetime(2018, 11, 4, 0, 0)), ('Zip code', ''), ('# in Group', 1), ('# New', 1), ('# Returns', 0), ('Temperature', '54'), ('Weather', 'Sunny')])\n",
      "dropping OrderedDict([('Date', datetime.datetime(2019, 3, 12, 0, 0)), ('Zip code', ''), ('# in Group', 4), ('# New', 4), ('# Returns', 0), ('Temperature', '42'), ('Weather', 'Partly cloudy/windy')])\n",
      "dropping OrderedDict([('Date', datetime.datetime(2019, 4, 20, 0, 0)), ('Zip code', ''), ('# in Group', 1), ('# New', 1), ('# Returns', 0), ('Temperature', '61'), ('Weather', 'rainy')])\n",
      "dropping OrderedDict([('Date', datetime.datetime(2019, 4, 21, 0, 0)), ('Zip code', ''), ('# in Group', 1), ('# New', 1), ('# Returns', 0), ('Temperature', '62'), ('Weather', 'cloudy')])\n",
      "dropping OrderedDict([('Date', datetime.datetime(2019, 5, 7, 0, 0)), ('Zip code', ''), ('# in Group', 1), ('# New', 1), ('# Returns', 0), ('Temperature', '66'), ('Weather', 'Sunny')])\n"
     ]
    }
   ],
   "source": [
    "summed_by_date = {}\n",
    "for key in welcome_table_stats_by_date:\n",
    "    total_visitors = 0\n",
    "    total_new = 0\n",
    "    total_returns = 0\n",
    "    weather = \"\"\n",
    "    temperature = \"\"\n",
    "    local = 0\n",
    "    fake = False\n",
    "    for visit in welcome_table_stats_by_date[key]:\n",
    "        if visit[\"Zip code\"]:\n",
    "            total_visitors += visit[\"# in Group\"]\n",
    "            total_new += visit[\"# New\"]\n",
    "            total_returns += visit[\"# Returns\"]\n",
    "        else:\n",
    "            #fake = True\n",
    "            print (\"dropping\", visit)\n",
    "        if(visit[\"Zip code\"] == \"11201\"):\n",
    "            local += visit[\"# in Group\"]\n",
    "        if (visit[\"Temperature\"]):\n",
    "            temperature = visit[\"Temperature\"]\n",
    "    if total_visitors != 0 and not fake:\n",
    "        summed_by_date[key] = {\"total_visitors\": total_visitors, \"total_new\": total_new, \"total_returns\":total_returns,\"from_11201\": local, \"Temperature\": temperature}"
   ]
  },
  {
   "cell_type": "code",
   "execution_count": 12,
   "metadata": {},
   "outputs": [],
   "source": [
    "summed_by_date =  pd.DataFrame.from_dict(summed_by_date, orient = 'index' )"
   ]
  },
  {
   "cell_type": "code",
   "execution_count": 14,
   "metadata": {},
   "outputs": [
    {
     "data": {
      "text/html": [
       "<div>\n",
       "<style scoped>\n",
       "    .dataframe tbody tr th:only-of-type {\n",
       "        vertical-align: middle;\n",
       "    }\n",
       "\n",
       "    .dataframe tbody tr th {\n",
       "        vertical-align: top;\n",
       "    }\n",
       "\n",
       "    .dataframe thead th {\n",
       "        text-align: right;\n",
       "    }\n",
       "</style>\n",
       "<table border=\"1\" class=\"dataframe\">\n",
       "  <thead>\n",
       "    <tr style=\"text-align: right;\">\n",
       "      <th></th>\n",
       "      <th>total_visitors</th>\n",
       "      <th>total_new</th>\n",
       "      <th>total_returns</th>\n",
       "      <th>from_11201</th>\n",
       "      <th>Temperature</th>\n",
       "    </tr>\n",
       "  </thead>\n",
       "  <tbody>\n",
       "    <tr>\n",
       "      <th>2019-05-23</th>\n",
       "      <td>32</td>\n",
       "      <td>6</td>\n",
       "      <td>26</td>\n",
       "      <td>17</td>\n",
       "      <td>70</td>\n",
       "    </tr>\n",
       "    <tr>\n",
       "      <th>2019-05-25</th>\n",
       "      <td>93</td>\n",
       "      <td>68</td>\n",
       "      <td>25</td>\n",
       "      <td>21</td>\n",
       "      <td>67</td>\n",
       "    </tr>\n",
       "    <tr>\n",
       "      <th>2019-05-26</th>\n",
       "      <td>103</td>\n",
       "      <td>66</td>\n",
       "      <td>37</td>\n",
       "      <td>16</td>\n",
       "      <td>82</td>\n",
       "    </tr>\n",
       "    <tr>\n",
       "      <th>2019-05-28</th>\n",
       "      <td>36</td>\n",
       "      <td>4</td>\n",
       "      <td>32</td>\n",
       "      <td>34</td>\n",
       "      <td>66</td>\n",
       "    </tr>\n",
       "    <tr>\n",
       "      <th>2019-05-30</th>\n",
       "      <td>34</td>\n",
       "      <td>7</td>\n",
       "      <td>27</td>\n",
       "      <td>27</td>\n",
       "      <td>65</td>\n",
       "    </tr>\n",
       "  </tbody>\n",
       "</table>\n",
       "</div>"
      ],
      "text/plain": [
       "            total_visitors  total_new  total_returns  from_11201 Temperature\n",
       "2019-05-23              32          6             26          17          70\n",
       "2019-05-25              93         68             25          21          67\n",
       "2019-05-26             103         66             37          16          82\n",
       "2019-05-28              36          4             32          34          66\n",
       "2019-05-30              34          7             27          27          65"
      ]
     },
     "execution_count": 14,
     "metadata": {},
     "output_type": "execute_result"
    }
   ],
   "source": [
    "summed_by_date.tail()"
   ]
  },
  {
   "cell_type": "markdown",
   "metadata": {},
   "source": [
    "# Adding weather data and additional features"
   ]
  },
  {
   "cell_type": "code",
   "execution_count": 15,
   "metadata": {},
   "outputs": [],
   "source": [
    "#summed_by_date"
   ]
  },
  {
   "cell_type": "code",
   "execution_count": 16,
   "metadata": {},
   "outputs": [],
   "source": [
    "import json\n",
    "\n",
    "# load from file:\n",
    "with open('past_weather.json', 'r') as f:\n",
    "    try:\n",
    "        weather_dict1 = json.load(f)\n",
    "    # if the file is empty the ValueError will be thrown\n",
    "    except ValueError:\n",
    "        data = {}\n",
    "        \n",
    "with open('past_weather2.json', 'r') as f:\n",
    "    try:\n",
    "        weather_dict2 = json.load(f)\n",
    "    # if the file is empty the ValueError will be thrown\n",
    "    except ValueError:\n",
    "        data = {}"
   ]
  },
  {
   "cell_type": "code",
   "execution_count": 17,
   "metadata": {},
   "outputs": [
    {
     "data": {
      "text/html": [
       "<div>\n",
       "<style scoped>\n",
       "    .dataframe tbody tr th:only-of-type {\n",
       "        vertical-align: middle;\n",
       "    }\n",
       "\n",
       "    .dataframe tbody tr th {\n",
       "        vertical-align: top;\n",
       "    }\n",
       "\n",
       "    .dataframe thead th {\n",
       "        text-align: right;\n",
       "    }\n",
       "</style>\n",
       "<table border=\"1\" class=\"dataframe\">\n",
       "  <thead>\n",
       "    <tr style=\"text-align: right;\">\n",
       "      <th></th>\n",
       "      <th>total_visitors</th>\n",
       "      <th>total_new</th>\n",
       "      <th>total_returns</th>\n",
       "      <th>from_11201</th>\n",
       "      <th>Temperature</th>\n",
       "    </tr>\n",
       "  </thead>\n",
       "  <tbody>\n",
       "    <tr>\n",
       "      <th>2015-08-20</th>\n",
       "      <td>37</td>\n",
       "      <td>37</td>\n",
       "      <td>0</td>\n",
       "      <td>0</td>\n",
       "      <td>82</td>\n",
       "    </tr>\n",
       "    <tr>\n",
       "      <th>2015-08-22</th>\n",
       "      <td>80</td>\n",
       "      <td>80</td>\n",
       "      <td>0</td>\n",
       "      <td>0</td>\n",
       "      <td>86</td>\n",
       "    </tr>\n",
       "    <tr>\n",
       "      <th>2015-08-23</th>\n",
       "      <td>95</td>\n",
       "      <td>92</td>\n",
       "      <td>3</td>\n",
       "      <td>0</td>\n",
       "      <td>83</td>\n",
       "    </tr>\n",
       "    <tr>\n",
       "      <th>2015-08-26</th>\n",
       "      <td>42</td>\n",
       "      <td>42</td>\n",
       "      <td>0</td>\n",
       "      <td>0</td>\n",
       "      <td>82</td>\n",
       "    </tr>\n",
       "    <tr>\n",
       "      <th>2015-08-28</th>\n",
       "      <td>16</td>\n",
       "      <td>16</td>\n",
       "      <td>0</td>\n",
       "      <td>0</td>\n",
       "      <td>82</td>\n",
       "    </tr>\n",
       "  </tbody>\n",
       "</table>\n",
       "</div>"
      ],
      "text/plain": [
       "            total_visitors  total_new  total_returns  from_11201 Temperature\n",
       "2015-08-20              37         37              0           0          82\n",
       "2015-08-22              80         80              0           0          86\n",
       "2015-08-23              95         92              3           0          83\n",
       "2015-08-26              42         42              0           0          82\n",
       "2015-08-28              16         16              0           0          82"
      ]
     },
     "execution_count": 17,
     "metadata": {},
     "output_type": "execute_result"
    }
   ],
   "source": [
    "summed_by_date.head()"
   ]
  },
  {
   "cell_type": "code",
   "execution_count": 64,
   "metadata": {},
   "outputs": [],
   "source": [
    "#summed_by_date[summed_by_date.index == '6-Sep']"
   ]
  },
  {
   "cell_type": "code",
   "execution_count": 18,
   "metadata": {},
   "outputs": [
    {
     "name": "stderr",
     "output_type": "stream",
     "text": [
      "/Users/ngagnon/anaconda3/lib/python3.6/site-packages/ipykernel_launcher.py:30: FutureWarning: set_value is deprecated and will be removed in a future release. Please use .at[] or .iat[] accessors instead\n",
      "/Users/ngagnon/anaconda3/lib/python3.6/site-packages/ipykernel_launcher.py:49: FutureWarning: set_value is deprecated and will be removed in a future release. Please use .at[] or .iat[] accessors instead\n",
      "/Users/ngagnon/anaconda3/lib/python3.6/site-packages/ipykernel_launcher.py:50: FutureWarning: set_value is deprecated and will be removed in a future release. Please use .at[] or .iat[] accessors instead\n",
      "/Users/ngagnon/anaconda3/lib/python3.6/site-packages/ipykernel_launcher.py:52: FutureWarning: set_value is deprecated and will be removed in a future release. Please use .at[] or .iat[] accessors instead\n",
      "/Users/ngagnon/anaconda3/lib/python3.6/site-packages/ipykernel_launcher.py:53: FutureWarning: set_value is deprecated and will be removed in a future release. Please use .at[] or .iat[] accessors instead\n",
      "/Users/ngagnon/anaconda3/lib/python3.6/site-packages/ipykernel_launcher.py:54: FutureWarning: set_value is deprecated and will be removed in a future release. Please use .at[] or .iat[] accessors instead\n",
      "/Users/ngagnon/anaconda3/lib/python3.6/site-packages/ipykernel_launcher.py:57: FutureWarning: set_value is deprecated and will be removed in a future release. Please use .at[] or .iat[] accessors instead\n",
      "/Users/ngagnon/anaconda3/lib/python3.6/site-packages/ipykernel_launcher.py:58: FutureWarning: set_value is deprecated and will be removed in a future release. Please use .at[] or .iat[] accessors instead\n",
      "/Users/ngagnon/anaconda3/lib/python3.6/site-packages/ipykernel_launcher.py:59: FutureWarning: set_value is deprecated and will be removed in a future release. Please use .at[] or .iat[] accessors instead\n",
      "/Users/ngagnon/anaconda3/lib/python3.6/site-packages/ipykernel_launcher.py:60: FutureWarning: set_value is deprecated and will be removed in a future release. Please use .at[] or .iat[] accessors instead\n",
      "/Users/ngagnon/anaconda3/lib/python3.6/site-packages/ipykernel_launcher.py:61: FutureWarning: set_value is deprecated and will be removed in a future release. Please use .at[] or .iat[] accessors instead\n",
      "/Users/ngagnon/anaconda3/lib/python3.6/site-packages/ipykernel_launcher.py:62: FutureWarning: set_value is deprecated and will be removed in a future release. Please use .at[] or .iat[] accessors instead\n",
      "/Users/ngagnon/anaconda3/lib/python3.6/site-packages/ipykernel_launcher.py:63: FutureWarning: set_value is deprecated and will be removed in a future release. Please use .at[] or .iat[] accessors instead\n",
      "/Users/ngagnon/anaconda3/lib/python3.6/site-packages/ipykernel_launcher.py:64: FutureWarning: set_value is deprecated and will be removed in a future release. Please use .at[] or .iat[] accessors instead\n",
      "/Users/ngagnon/anaconda3/lib/python3.6/site-packages/ipykernel_launcher.py:65: FutureWarning: set_value is deprecated and will be removed in a future release. Please use .at[] or .iat[] accessors instead\n",
      "/Users/ngagnon/anaconda3/lib/python3.6/site-packages/ipykernel_launcher.py:44: FutureWarning: set_value is deprecated and will be removed in a future release. Please use .at[] or .iat[] accessors instead\n",
      "/Users/ngagnon/anaconda3/lib/python3.6/site-packages/ipykernel_launcher.py:45: FutureWarning: set_value is deprecated and will be removed in a future release. Please use .at[] or .iat[] accessors instead\n",
      "/Users/ngagnon/anaconda3/lib/python3.6/site-packages/ipykernel_launcher.py:41: FutureWarning: set_value is deprecated and will be removed in a future release. Please use .at[] or .iat[] accessors instead\n",
      "/Users/ngagnon/anaconda3/lib/python3.6/site-packages/ipykernel_launcher.py:42: FutureWarning: set_value is deprecated and will be removed in a future release. Please use .at[] or .iat[] accessors instead\n"
     ]
    },
    {
     "name": "stdout",
     "output_type": "stream",
     "text": [
      "2015-10-03 weather\n",
      "2018-06-23 weather\n",
      "2018-06-24 weather\n",
      "2018-06-28 weather\n",
      "2018-07-17 weather\n",
      "2018-07-21 weather\n",
      "2018-07-22 weather\n",
      "2018-07-24 weather\n",
      "2018-11-10 weather\n",
      "2018-12-20 weather\n",
      "2019-02-07 weather\n",
      "2019-02-24 weather\n",
      "2019-03-02 weather\n",
      "2019-03-03 weather\n",
      "2019-03-05 weather\n",
      "2019-03-09 weather\n",
      "2019-03-10 weather\n",
      "2019-03-21 weather\n",
      "2019-04-09 weather\n"
     ]
    }
   ],
   "source": [
    "summed_by_date[\"avg_visits_per_hour\"] = float('nan')\n",
    "summed_by_date[\"avg_returns_per_hour\"] = float('nan')\n",
    "summed_by_date[\"avg_new_per_hour\"] = float('nan')\n",
    "summed_by_date[\"avg_from_11201_per_hour\"] = float('nan')\n",
    "summed_by_date[\"ratio_11201\"] = float('nan')\n",
    "summed_by_date[\"day\"] = \"\"\n",
    "summed_by_date['week'] = \"\"\n",
    "summed_by_date[\"month\"] = 6\n",
    "summed_by_date[\"year\"] = 2016\n",
    "summed_by_date[\"given_temp\"] = summed_by_date[\"Temperature\"]\n",
    "summed_by_date[\"precipitation\"] =  float('nan')\n",
    "summed_by_date[\"cloud_cover\"] = float('nan')\n",
    "summed_by_date[\"snow\"] = float('nan')\n",
    "summed_by_date[\"rain\"] = float('nan')\n",
    "summed_by_date.total_returns = summed_by_date.total_returns.astype(float)\n",
    "summed_by_date.total_new = summed_by_date.total_new.astype(float)\n",
    "summed_by_date.from_11201 = summed_by_date.from_11201.astype(float)\n",
    "        \n",
    "for val in summed_by_date.index.values:\n",
    "    if summed_by_date.loc[val]['total_visitors'] != 0 and summed_by_date.loc[val]['total_returns'] <1 and summed_by_date.loc[val]['total_new'] <1:\n",
    "        summed_by_date.set_value(val,'total_returns', float('nan'))\n",
    "        summed_by_date.set_value(val, 'total_new', float('nan'))\n",
    "    if val != 'None':\n",
    "        the_date = dt.strptime(val, \"%Y-%m-%d\")\n",
    "        if the_date < dt.strptime(\"2018-04-01\", \"%Y-%m-%d\"):\n",
    "            weather_dict = weather_dict1\n",
    "        else:\n",
    "            weather_dict = weather_dict2\n",
    "        if the_date < dt.strptime(\"2016-02-06\", \"%Y-%m-%d\"):\n",
    "            summed_by_date.set_value(val,'from_11201', float('nan'))\n",
    "        if the_date.weekday() >= 5:\n",
    "            hours = 4\n",
    "        elif the_date.weekday() == 1 or  the_date.weekday() == 3:\n",
    "            hours = 2\n",
    "        else:\n",
    "            hours = 2\n",
    "        try:\n",
    "            try:\n",
    "                if weather_dict[val][0]['precipIntensity'] > 0:\n",
    "                    if weather_dict[val][0]['precipType'] == 'snow':\n",
    "                        summed_by_date.set_value(val, 'snow', 1)\n",
    "                        summed_by_date.set_value(val, 'rain', 0)\n",
    "                    elif weather_dict[val][0]['precipType'] == 'rain':\n",
    "                        summed_by_date.set_value(val, 'rain', 1)\n",
    "                        summed_by_date.set_value(val, 'snow', 0)\n",
    "                    else:\n",
    "                        print (weather_dict[val][0]['precipType'])\n",
    "                else:\n",
    "                    summed_by_date.set_value(val, 'snow', 0)\n",
    "                    summed_by_date.set_value(val, 'rain', 0)\n",
    "                    \n",
    "                summed_by_date.set_value(val, 'Temperature', weather_dict[val][0][\"temperatureMax\"])\n",
    "                summed_by_date.set_value(val, 'precipitation', weather_dict[val][0]['precipIntensity'])\n",
    "                summed_by_date.set_value(val, 'cloud_cover', weather_dict[val][0]['cloudCover'])\n",
    "            except:\n",
    "                print (val, \"weather\")\n",
    "            summed_by_date.set_value(val, \"day\", the_date.weekday())\n",
    "            summed_by_date.set_value(val, \"week\", the_date.isocalendar()[1])\n",
    "            summed_by_date.set_value(val, \"month\", the_date.month)\n",
    "            summed_by_date.set_value(val, \"year\", the_date.year)\n",
    "            summed_by_date.set_value(val, \"ratio_11201\", summed_by_date.loc[val][\"from_11201\"]/(1.0* summed_by_date.loc[val][\"total_visitors\"]))\n",
    "            summed_by_date.set_value(val, \"avg_visits_per_hour\", summed_by_date.loc[val][\"total_visitors\"]/(1.0*hours))\n",
    "            summed_by_date.set_value(val, \"avg_returns_per_hour\", summed_by_date.loc[val][\"total_returns\"]/(1.0*hours))\n",
    "            summed_by_date.set_value(val, \"avg_new_per_hour\", summed_by_date.loc[val][\"total_new\"]/(1.0*hours))\n",
    "            summed_by_date.set_value(val, \"avg_from_11201_per_hour\", summed_by_date.loc[val][\"from_11201\"]/(1.0*hours))\n",
    "        except:\n",
    "            print (val)"
   ]
  },
  {
   "cell_type": "markdown",
   "metadata": {},
   "source": [
    "# Create csv"
   ]
  },
  {
   "cell_type": "code",
   "execution_count": 19,
   "metadata": {},
   "outputs": [],
   "source": [
    "summed_by_date.to_csv('advanced_welcome_table_summed.csv', sep =',')"
   ]
  },
  {
   "cell_type": "code",
   "execution_count": null,
   "metadata": {},
   "outputs": [],
   "source": []
  },
  {
   "cell_type": "code",
   "execution_count": null,
   "metadata": {},
   "outputs": [],
   "source": []
  }
 ],
 "metadata": {
  "anaconda-cloud": {},
  "kernelspec": {
   "display_name": "Python 3",
   "language": "python",
   "name": "python3"
  },
  "language_info": {
   "codemirror_mode": {
    "name": "ipython",
    "version": 3
   },
   "file_extension": ".py",
   "mimetype": "text/x-python",
   "name": "python",
   "nbconvert_exporter": "python",
   "pygments_lexer": "ipython3",
   "version": "3.6.4"
  }
 },
 "nbformat": 4,
 "nbformat_minor": 1
}
