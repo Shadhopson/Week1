{
 "cells": [
  {
   "cell_type": "code",
   "execution_count": 108,
   "metadata": {
    "collapsed": true
   },
   "outputs": [],
   "source": [
    "import pandas as pd"
   ]
  },
  {
   "cell_type": "code",
   "execution_count": 109,
   "metadata": {
    "collapsed": true
   },
   "outputs": [],
   "source": [
    "df = pd.read_csv(\"Open Hours Survey 2018.csv\")"
   ]
  },
  {
   "cell_type": "code",
   "execution_count": 110,
   "metadata": {
    "collapsed": true
   },
   "outputs": [],
   "source": [
    "#df.columns"
   ]
  },
  {
   "cell_type": "code",
   "execution_count": null,
   "metadata": {
    "collapsed": true
   },
   "outputs": [],
   "source": []
  },
  {
   "cell_type": "code",
   "execution_count": 111,
   "metadata": {
    "collapsed": true
   },
   "outputs": [],
   "source": [
    "#word of mouth 15\n",
    "#internet Search 14\n",
    "# Passerby 41      - most people are just passerbys. We can likely increase our amount of attendees by improving this\n",
    "# BBP Website 12\n",
    "#Blog/messageboard/ article 3\n",
    "#Other 4\n",
    "\n"
   ]
  },
  {
   "cell_type": "code",
   "execution_count": 112,
   "metadata": {
    "collapsed": true
   },
   "outputs": [],
   "source": [
    "age_df = df[[\"Children's ages, if applicable.\",\"Age appropriate?\"]]"
   ]
  },
  {
   "cell_type": "code",
   "execution_count": 113,
   "metadata": {
    "collapsed": true
   },
   "outputs": [],
   "source": [
    "#age_df"
   ]
  },
  {
   "cell_type": "code",
   "execution_count": 114,
   "metadata": {
    "collapsed": true
   },
   "outputs": [],
   "source": [
    "#age_df = age_df[pd.to_numeric(age_df[\"Children's ages, if applicable.\"], errors='coerce').notnull()]"
   ]
  },
  {
   "cell_type": "code",
   "execution_count": null,
   "metadata": {
    "collapsed": true
   },
   "outputs": [],
   "source": []
  },
  {
   "cell_type": "code",
   "execution_count": 115,
   "metadata": {
    "collapsed": true
   },
   "outputs": [],
   "source": [
    "age_df = age_df.replace([\"Moderately\", \"Very\", \"Extremely\"], [1,2,3])"
   ]
  },
  {
   "cell_type": "code",
   "execution_count": 116,
   "metadata": {
    "collapsed": true
   },
   "outputs": [],
   "source": [
    "#age_df.groupby(\"Children's ages, if applicable.\", as_index=False).count()"
   ]
  },
  {
   "cell_type": "code",
   "execution_count": 117,
   "metadata": {
    "collapsed": true
   },
   "outputs": [],
   "source": [
    "#age_df[\"Children's ages, if applicable.\"]=pd.to_numeric(age_df[\"Children's ages, if applicable.\"])\n"
   ]
  },
  {
   "cell_type": "code",
   "execution_count": 118,
   "metadata": {
    "collapsed": true
   },
   "outputs": [],
   "source": [
    "#graph_set_up = age_df.groupby(\"Children's ages, if applicable.\", as_index=False).mean().sort_values(by=[\"Children's ages, if applicable.\"])\n"
   ]
  },
  {
   "cell_type": "code",
   "execution_count": 119,
   "metadata": {
    "collapsed": true
   },
   "outputs": [],
   "source": [
    "#graph_set_up"
   ]
  },
  {
   "cell_type": "code",
   "execution_count": null,
   "metadata": {
    "collapsed": true
   },
   "outputs": [],
   "source": []
  },
  {
   "cell_type": "code",
   "execution_count": 120,
   "metadata": {
    "collapsed": true
   },
   "outputs": [],
   "source": [
    "#pd.to_numeric(graph_set_up[\"Children's ages, if applicable.\"])"
   ]
  },
  {
   "cell_type": "code",
   "execution_count": 121,
   "metadata": {
    "collapsed": true
   },
   "outputs": [],
   "source": [
    "#graph_set_up"
   ]
  },
  {
   "cell_type": "code",
   "execution_count": null,
   "metadata": {
    "collapsed": true
   },
   "outputs": [],
   "source": []
  },
  {
   "cell_type": "code",
   "execution_count": 122,
   "metadata": {
    "collapsed": true
   },
   "outputs": [],
   "source": [
    "age_df.loc[df['Children\\'s ages, if applicable.'].astype(str).str.contains('mo', case=False), 'Children\\'s ages, if applicable.'] = '1'\n",
    "\n"
   ]
  },
  {
   "cell_type": "code",
   "execution_count": 123,
   "metadata": {
    "collapsed": true
   },
   "outputs": [],
   "source": [
    "age_df[\"Children\\'s ages, if applicable.\"] = age_df[\"Children\\'s ages, if applicable.\"].str.replace(\"and\", \",\")"
   ]
  },
  {
   "cell_type": "code",
   "execution_count": 124,
   "metadata": {
    "collapsed": true
   },
   "outputs": [],
   "source": [
    "age_df[\"Children\\'s ages, if applicable.\"]=age_df[\"Children\\'s ages, if applicable.\"].str.split(',')"
   ]
  },
  {
   "cell_type": "code",
   "execution_count": 125,
   "metadata": {
    "collapsed": true
   },
   "outputs": [],
   "source": [
    "#age_df[\"Children\\'s ages, if applicable.\"]=age_df[\"Children\\'s ages, if applicable.\"].str.split('and')"
   ]
  },
  {
   "cell_type": "code",
   "execution_count": 126,
   "metadata": {
    "collapsed": false
   },
   "outputs": [
    {
     "data": {
      "text/plain": [
       "0                [1]\n",
       "1                [2]\n",
       "2          [2, 4, 6]\n",
       "3                [4]\n",
       "4                [4]\n",
       "5               [15]\n",
       "6                [4]\n",
       "7             [4, 5]\n",
       "8             [3, 7]\n",
       "9                [8]\n",
       "10               [6]\n",
       "11            [5, 2]\n",
       "12               [2]\n",
       "13            [7, 5]\n",
       "14           [12, 6]\n",
       "15               [4]\n",
       "16            [5, 3]\n",
       "17            [3, 5]\n",
       "18             [n/a]\n",
       "19               [7]\n",
       "20            [4, 5]\n",
       "21               [7]\n",
       "22               [1]\n",
       "23            [2, 4]\n",
       "24         [9, 6, 4]\n",
       "25            [2, 5]\n",
       "26           [3, 11]\n",
       "27            [4, 5]\n",
       "28            [3, 5]\n",
       "29               [2]\n",
       "           ...      \n",
       "49               [2]\n",
       "50            [5, 7]\n",
       "51               [3]\n",
       "52         [7, 3, 3]\n",
       "53         [4, 5, 9]\n",
       "54               [1]\n",
       "55               [6]\n",
       "56            [8, 9]\n",
       "57               [4]\n",
       "58         [3, 6, 8]\n",
       "59               [6]\n",
       "60               NaN\n",
       "61            [4, 7]\n",
       "62               [1]\n",
       "63          [10, 14]\n",
       "64               [6]\n",
       "65            [6, 6]\n",
       "66               [5]\n",
       "67               [5]\n",
       "68               [2]\n",
       "69               [7]\n",
       "70               [5]\n",
       "71               [4]\n",
       "72            [2, 6]\n",
       "73            [5, 9]\n",
       "74            [6, 6]\n",
       "75            [8, 6]\n",
       "76    [under 1 ,  3]\n",
       "77               [4]\n",
       "78         [6, 4, 2]\n",
       "Name: Children's ages, if applicable., dtype: object"
      ]
     },
     "execution_count": 126,
     "metadata": {},
     "output_type": "execute_result"
    }
   ],
   "source": [
    "age_df[\"Children\\'s ages, if applicable.\"]"
   ]
  },
  {
   "cell_type": "code",
   "execution_count": 127,
   "metadata": {
    "collapsed": false
   },
   "outputs": [
    {
     "data": {
      "text/html": [
       "<div>\n",
       "<table border=\"1\" class=\"dataframe\">\n",
       "  <thead>\n",
       "    <tr style=\"text-align: right;\">\n",
       "      <th></th>\n",
       "      <th>Children's ages, if applicable.</th>\n",
       "      <th>Age appropriate?</th>\n",
       "    </tr>\n",
       "  </thead>\n",
       "  <tbody>\n",
       "    <tr>\n",
       "      <th>0</th>\n",
       "      <td>[1]</td>\n",
       "      <td>2.0</td>\n",
       "    </tr>\n",
       "    <tr>\n",
       "      <th>1</th>\n",
       "      <td>[2]</td>\n",
       "      <td>2.0</td>\n",
       "    </tr>\n",
       "    <tr>\n",
       "      <th>2</th>\n",
       "      <td>[2, 4, 6]</td>\n",
       "      <td>3.0</td>\n",
       "    </tr>\n",
       "    <tr>\n",
       "      <th>3</th>\n",
       "      <td>[4]</td>\n",
       "      <td>2.0</td>\n",
       "    </tr>\n",
       "    <tr>\n",
       "      <th>4</th>\n",
       "      <td>[4]</td>\n",
       "      <td>3.0</td>\n",
       "    </tr>\n",
       "  </tbody>\n",
       "</table>\n",
       "</div>"
      ],
      "text/plain": [
       "  Children's ages, if applicable.  Age appropriate?\n",
       "0                             [1]               2.0\n",
       "1                             [2]               2.0\n",
       "2                       [2, 4, 6]               3.0\n",
       "3                             [4]               2.0\n",
       "4                             [4]               3.0"
      ]
     },
     "execution_count": 127,
     "metadata": {},
     "output_type": "execute_result"
    }
   ],
   "source": [
    "age_df.head()"
   ]
  },
  {
   "cell_type": "code",
   "execution_count": 128,
   "metadata": {
    "collapsed": true
   },
   "outputs": [],
   "source": [
    "import numpy as np"
   ]
  },
  {
   "cell_type": "code",
   "execution_count": 129,
   "metadata": {
    "collapsed": true
   },
   "outputs": [],
   "source": [
    "age_list  = []\n",
    "rating_list = []\n",
    "for index, row in age_df.iterrows():\n",
    "    try:\n",
    "        for val in row[\"Children's ages, if applicable.\"]:\n",
    "            age_list.append(val)\n",
    "            rating_list.append(row['Age appropriate?'])\n",
    "    except:\n",
    "        pass"
   ]
  },
  {
   "cell_type": "code",
   "execution_count": 130,
   "metadata": {
    "collapsed": false
   },
   "outputs": [
    {
     "data": {
      "text/plain": [
       "119"
      ]
     },
     "execution_count": 130,
     "metadata": {},
     "output_type": "execute_result"
    }
   ],
   "source": [
    "len(age_list)\n",
    "len(rating_list)"
   ]
  },
  {
   "cell_type": "code",
   "execution_count": 131,
   "metadata": {
    "collapsed": true
   },
   "outputs": [],
   "source": [
    "graph_df = pd.DataFrame({\"Age\":age_list, \"Rating\": rating_list})"
   ]
  },
  {
   "cell_type": "code",
   "execution_count": 132,
   "metadata": {
    "collapsed": true
   },
   "outputs": [],
   "source": [
    "graph_df['Age'] = graph_df['Age'].str.extract('(\\d+)', expand=False)"
   ]
  },
  {
   "cell_type": "code",
   "execution_count": 133,
   "metadata": {
    "collapsed": false
   },
   "outputs": [],
   "source": [
    "graph_df = graph_df.dropna()"
   ]
  },
  {
   "cell_type": "code",
   "execution_count": 134,
   "metadata": {
    "collapsed": false
   },
   "outputs": [],
   "source": [
    "graph_df['Age'] = graph_df[\"Age\"].astype(int)"
   ]
  },
  {
   "cell_type": "code",
   "execution_count": 135,
   "metadata": {
    "collapsed": true
   },
   "outputs": [],
   "source": [
    "amount_graph = graph_df.groupby(\"Age\", as_index=False).count()"
   ]
  },
  {
   "cell_type": "code",
   "execution_count": 136,
   "metadata": {
    "collapsed": false
   },
   "outputs": [],
   "source": [
    "#amount_graph"
   ]
  },
  {
   "cell_type": "code",
   "execution_count": 137,
   "metadata": {
    "collapsed": true
   },
   "outputs": [],
   "source": [
    "import matplotlib.pyplot as plt\n",
    "import seaborn as sns\n",
    "%matplotlib inline"
   ]
  },
  {
   "cell_type": "code",
   "execution_count": 138,
   "metadata": {
    "collapsed": true
   },
   "outputs": [],
   "source": [
    "sns.set()"
   ]
  },
  {
   "cell_type": "code",
   "execution_count": 139,
   "metadata": {
    "collapsed": false
   },
   "outputs": [],
   "source": [
    "#graph_df"
   ]
  },
  {
   "cell_type": "code",
   "execution_count": 140,
   "metadata": {
    "collapsed": false
   },
   "outputs": [],
   "source": [
    "#sns.barplot(graph)"
   ]
  },
  {
   "cell_type": "code",
   "execution_count": 141,
   "metadata": {
    "collapsed": true
   },
   "outputs": [],
   "source": [
    "grouped_graph_df = graph_df.groupby(\"Age\", as_index=False).mean()"
   ]
  },
  {
   "cell_type": "code",
   "execution_count": null,
   "metadata": {
    "collapsed": true
   },
   "outputs": [],
   "source": []
  },
  {
   "cell_type": "code",
   "execution_count": 142,
   "metadata": {
    "collapsed": false,
    "scrolled": true
   },
   "outputs": [
    {
     "data": {
      "text/plain": [
       "(-0.5, 8.5)"
      ]
     },
     "execution_count": 142,
     "metadata": {},
     "output_type": "execute_result"
    },
    {
     "data": {
      "image/png": "[encoded data removed]",
      "text/plain": [
       "<matplotlib.figure.Figure at 0xddb8358>"
      ]
     },
     "metadata": {},
     "output_type": "display_data"
    }
   ],
   "source": [
    "plot = sns.barplot(grouped_graph_df[\"Age\"], grouped_graph_df[\"Rating\"])\n",
    "plot.set_title(\"Appropriateness Rating Per Age Group\")\n",
    "axes = plot.axes\n",
    "axes.set_ylim(0,3)\n",
    "axes.set_xlim(-0.5,8.5)"
   ]
  },
  {
   "cell_type": "code",
   "execution_count": 143,
   "metadata": {
    "collapsed": false
   },
   "outputs": [
    {
     "data": {
      "text/plain": [
       "<matplotlib.text.Text at 0xbd3ca20>"
      ]
     },
     "execution_count": 143,
     "metadata": {},
     "output_type": "execute_result"
    },
    {
     "data": {
      "image/png": "[encoded data removed]",
      "text/plain": [
       "<matplotlib.figure.Figure at 0xddd3f28>"
      ]
     },
     "metadata": {},
     "output_type": "display_data"
    }
   ],
   "source": [
    "plot = sns.barplot(amount_graph[\"Age\"], amount_graph[\"Rating\"])\n",
    "plot.set_title(\"Amount Surveyed In Each Age Group\")\n",
    "plot.set(yticks=range(0,21,2))\n",
    "axes = plot.axes\n",
    "axes.set_ylabel(\"Count\")\n",
    "\n",
    "#axes.set_ylim(0,20)\n",
    "#axes.set_xlim(-0.5,9.5)"
   ]
  },
  {
   "cell_type": "code",
   "execution_count": 144,
   "metadata": {
    "collapsed": false
   },
   "outputs": [],
   "source": [
    "heard_df = df[[\"How did you hear about Open Hours in the Environmental Education Center? (Check all that apply.)\", \"How did you hear about Open Hours in the Environmental Education Center? (Check all that apply.).1\",\"How did you hear about Open Hours in the Environmental Education Center? (Check all that apply.).2\", \"How did you hear about Open Hours in the Environmental Education Center? (Check all that apply.).3\",\"How did you hear about Open Hours in the Environmental Education Center? (Check all that apply.).4\", \"How did you hear about Open Hours in the Environmental Education Center? (Check all that apply.).5\"]]"
   ]
  },
  {
   "cell_type": "code",
   "execution_count": 195,
   "metadata": {
    "collapsed": false
   },
   "outputs": [],
   "source": [
    "#list(heard_df.count())"
   ]
  },
  {
   "cell_type": "code",
   "execution_count": 196,
   "metadata": {
    "collapsed": false
   },
   "outputs": [],
   "source": [
    "heard_dict = {\"Word of Mouth\":15, \"Internet Search\":14, \"Passerby\": 41,\"BBP Website\": 12, \"Blog/Message Board/Article\":3, \"Other\":4 }"
   ]
  },
  {
   "cell_type": "code",
   "execution_count": 197,
   "metadata": {
    "collapsed": false
   },
   "outputs": [
    {
     "data": {
      "text/plain": [
       "['Passerby',\n",
       " 'Internet Search',\n",
       " 'Word of Mouth',\n",
       " 'Blog/Message Board/Article',\n",
       " 'Other',\n",
       " 'BBP Website']"
      ]
     },
     "execution_count": 197,
     "metadata": {},
     "output_type": "execute_result"
    }
   ],
   "source": [
    "heard_dict.keys()"
   ]
  },
  {
   "cell_type": "code",
   "execution_count": 198,
   "metadata": {
    "collapsed": false
   },
   "outputs": [
    {
     "data": {
      "text/plain": [
       "{'BBP Website': 12,\n",
       " 'Blog/Message Board/Article': 3,\n",
       " 'Internet Search': 14,\n",
       " 'Other': 4,\n",
       " 'Passerby': 41,\n",
       " 'Word of Mouth': 15}"
      ]
     },
     "execution_count": 198,
     "metadata": {},
     "output_type": "execute_result"
    }
   ],
   "source": [
    "heard_dict"
   ]
  },
  {
   "cell_type": "code",
   "execution_count": 199,
   "metadata": {
    "collapsed": false
   },
   "outputs": [],
   "source": [
    "where_df = pd.DataFrame(heard_dict, index=[0])"
   ]
  },
  {
   "cell_type": "code",
   "execution_count": 200,
   "metadata": {
    "collapsed": false
   },
   "outputs": [
    {
     "data": {
      "text/html": [
       "<div>\n",
       "<table border=\"1\" class=\"dataframe\">\n",
       "  <thead>\n",
       "    <tr style=\"text-align: right;\">\n",
       "      <th></th>\n",
       "      <th>BBP Website</th>\n",
       "      <th>Blog/Message Board/Article</th>\n",
       "      <th>Internet Search</th>\n",
       "      <th>Other</th>\n",
       "      <th>Passerby</th>\n",
       "      <th>Word of Mouth</th>\n",
       "    </tr>\n",
       "  </thead>\n",
       "  <tbody>\n",
       "    <tr>\n",
       "      <th>0</th>\n",
       "      <td>12</td>\n",
       "      <td>3</td>\n",
       "      <td>14</td>\n",
       "      <td>4</td>\n",
       "      <td>41</td>\n",
       "      <td>15</td>\n",
       "    </tr>\n",
       "  </tbody>\n",
       "</table>\n",
       "</div>"
      ],
      "text/plain": [
       "   BBP Website  Blog/Message Board/Article  Internet Search  Other  Passerby  \\\n",
       "0           12                           3               14      4        41   \n",
       "\n",
       "   Word of Mouth  \n",
       "0             15  "
      ]
     },
     "execution_count": 200,
     "metadata": {},
     "output_type": "execute_result"
    }
   ],
   "source": [
    "where_df"
   ]
  },
  {
   "cell_type": "code",
   "execution_count": 201,
   "metadata": {
    "collapsed": false
   },
   "outputs": [
    {
     "data": {
      "text/plain": [
       "[41, 14, 15, 3, 4, 12]"
      ]
     },
     "execution_count": 201,
     "metadata": {},
     "output_type": "execute_result"
    }
   ],
   "source": [
    "heard_dict.values()"
   ]
  },
  {
   "cell_type": "code",
   "execution_count": 202,
   "metadata": {
    "collapsed": false
   },
   "outputs": [
    {
     "data": {
      "image/png": "[encoded data removed]",
      "text/plain": [
       "<matplotlib.figure.Figure at 0xf508a58>"
      ]
     },
     "metadata": {},
     "output_type": "display_data"
    }
   ],
   "source": [
    "plt.pie(heard_dict.values(), labels = heard_dict.keys(), startangle=90, autopct='%0.f%%')\n",
    "plt.title('How Visitors Found Out About Open Hours')\n",
    "plt.savefig(\"Where People Find Out About Open Hours\", bbox_inches='tight')"
   ]
  },
  {
   "cell_type": "code",
   "execution_count": null,
   "metadata": {
    "collapsed": false
   },
   "outputs": [],
   "source": [
    "len(heard_df)"
   ]
  },
  {
   "cell_type": "code",
   "execution_count": null,
   "metadata": {
    "collapsed": true
   },
   "outputs": [],
   "source": [
    "# num_list = []\n",
    "# for num in list(age_df[\"Children's ages, if applicable.\"]):\n",
    "#     num = str(num)\n",
    "#     for nums in num.replace('and', ',').split(','):\n",
    "#         num_list.append(nums)\n",
    "#     #if \"mo\" in num:\n",
    "        "
   ]
  },
  {
   "cell_type": "code",
   "execution_count": null,
   "metadata": {
    "collapsed": true
   },
   "outputs": [],
   "source": [
    "# final_num_list = []\n",
    "# for num in num_list:\n",
    "#     if \"mo\" in num:\n",
    "#         final_num_list.append(1)\n",
    "#     else:\n",
    "#         try:\n",
    "#             num = int(num)\n",
    "#             final_num_list.append(num) \n",
    "#         except:\n",
    "#             pass\n",
    "        "
   ]
  },
  {
   "cell_type": "code",
   "execution_count": null,
   "metadata": {
    "collapsed": false
   },
   "outputs": [],
   "source": [
    "# final_num_list"
   ]
  },
  {
   "cell_type": "markdown",
   "metadata": {},
   "source": [
    "## make df for other programs"
   ]
  },
  {
   "cell_type": "code",
   "execution_count": 147,
   "metadata": {
    "collapsed": false
   },
   "outputs": [],
   "source": [
    "other_df = df[df.columns.values[10:14]]"
   ]
  },
  {
   "cell_type": "code",
   "execution_count": 157,
   "metadata": {
    "collapsed": false
   },
   "outputs": [],
   "source": [
    "df2 =other_df.count()"
   ]
  },
  {
   "cell_type": "code",
   "execution_count": 67,
   "metadata": {
    "collapsed": true
   },
   "outputs": [],
   "source": [
    "programs = [\"Adult Programs\", \"Special programs during Open Hours\", \"Self-guided outdoor activities\", \"Weekend morning classes\"]"
   ]
  },
  {
   "cell_type": "code",
   "execution_count": 169,
   "metadata": {
    "collapsed": true
   },
   "outputs": [],
   "source": [
    "from textwrap import wrap"
   ]
  },
  {
   "cell_type": "code",
   "execution_count": 184,
   "metadata": {
    "collapsed": false
   },
   "outputs": [],
   "source": [
    "wrapped_programs = [ '\\n'.join(wrap(l, 15)) for l in programs ]"
   ]
  },
  {
   "cell_type": "code",
   "execution_count": 186,
   "metadata": {
    "collapsed": false
   },
   "outputs": [],
   "source": [
    "for program in [0,1,2,3]:\n",
    "    activity_dict[wrapped_programs[program]] = df2.values[program]"
   ]
  },
  {
   "cell_type": "code",
   "execution_count": 203,
   "metadata": {
    "collapsed": false
   },
   "outputs": [
    {
     "data": {
      "image/png": "[encoded data removed]",
      "text/plain": [
       "<matplotlib.figure.Figure at 0x105f9160>"
      ]
     },
     "metadata": {},
     "output_type": "display_data"
    }
   ],
   "source": [
    "grph = sns.barplot(wrapped_programs, df2.values)\n",
    "grph.set_title(\"Requested Programs Count\")\n",
    "grph.set_xlabel(\"Programs\")\n",
    "grph.set_ylabel(\"Count\")\n",
    "plt.savefig(\"Requested Programs Count\",bbox_inches='tight')"
   ]
  },
  {
   "cell_type": "code",
   "execution_count": null,
   "metadata": {
    "collapsed": true
   },
   "outputs": [],
   "source": []
  }
 ],
 "metadata": {
  "anaconda-cloud": {},
  "kernelspec": {
   "display_name": "Python [conda root]",
   "language": "python",
   "name": "conda-root-py"
  },
  "language_info": {
   "codemirror_mode": {
    "name": "ipython",
    "version": 2
   },
   "file_extension": ".py",
   "mimetype": "text/x-python",
   "name": "python",
   "nbconvert_exporter": "python",
   "pygments_lexer": "ipython2",
   "version": "2.7.12"
  }
 },
 "nbformat": 4,
 "nbformat_minor": 2
}
