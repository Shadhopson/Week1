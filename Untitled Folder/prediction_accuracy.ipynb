{
 "cells": [
  {
   "cell_type": "code",
<<<<<<< HEAD
   "execution_count": 85,
=======
   "execution_count": 180,
>>>>>>> 8025e4b2f7c58f13b5540fb787ecc04616c67fee
   "metadata": {},
   "outputs": [],
   "source": [
    "import pandas as pd\n",
    "summed_by_date = pd.read_csv('../Data_And_Data_Creation/expanded_dummied_welcome_table_summed.csv')"
   ]
  },
  {
   "cell_type": "code",
<<<<<<< HEAD
   "execution_count": 86,
=======
   "execution_count": 181,
>>>>>>> 8025e4b2f7c58f13b5540fb787ecc04616c67fee
   "metadata": {},
   "outputs": [],
   "source": [
    "from sklearn import feature_selection"
   ]
  },
  {
   "cell_type": "code",
<<<<<<< HEAD
   "execution_count": 87,
=======
   "execution_count": 182,
>>>>>>> 8025e4b2f7c58f13b5540fb787ecc04616c67fee
   "metadata": {},
   "outputs": [],
   "source": [
    "summed_by_date = summed_by_date.dropna()"
   ]
  },
  {
   "cell_type": "code",
   "execution_count": null,
   "metadata": {},
   "outputs": [],
   "source": []
  },
  {
   "cell_type": "code",
<<<<<<< HEAD
   "execution_count": 88,
=======
   "execution_count": 183,
>>>>>>> 8025e4b2f7c58f13b5540fb787ecc04616c67fee
   "metadata": {},
   "outputs": [],
   "source": [
    "Keep = summed_by_date.columns.values[6:]"
   ]
  },
  {
   "cell_type": "code",
<<<<<<< HEAD
   "execution_count": 89,
=======
   "execution_count": 184,
>>>>>>> 8025e4b2f7c58f13b5540fb787ecc04616c67fee
   "metadata": {},
   "outputs": [],
   "source": [
    "X = summed_by_date[Keep]"
   ]
  },
  {
   "cell_type": "code",
   "execution_count": null,
   "metadata": {},
   "outputs": [],
   "source": []
  },
  {
   "cell_type": "code",
<<<<<<< HEAD
   "execution_count": 90,
=======
   "execution_count": 185,
>>>>>>> 8025e4b2f7c58f13b5540fb787ecc04616c67fee
   "metadata": {},
   "outputs": [],
   "source": [
    "drop = X.columns.values[1:6]"
   ]
  },
  {
   "cell_type": "code",
<<<<<<< HEAD
   "execution_count": 91,
=======
   "execution_count": 186,
>>>>>>> 8025e4b2f7c58f13b5540fb787ecc04616c67fee
   "metadata": {},
   "outputs": [
    {
     "data": {
      "text/plain": [
       "array(['avg_visits_per_hour', 'avg_returns_per_hour', 'avg_new_per_hour',\n",
       "       'avg_from_11201_per_hour', 'ratio_11201'], dtype=object)"
      ]
     },
<<<<<<< HEAD
     "execution_count": 91,
=======
     "execution_count": 186,
>>>>>>> 8025e4b2f7c58f13b5540fb787ecc04616c67fee
     "metadata": {},
     "output_type": "execute_result"
    }
   ],
   "source": [
    "drop"
   ]
  },
  {
   "cell_type": "code",
<<<<<<< HEAD
   "execution_count": 92,
=======
   "execution_count": 187,
>>>>>>> 8025e4b2f7c58f13b5540fb787ecc04616c67fee
   "metadata": {},
   "outputs": [],
   "source": [
    "X = X.drop(drop, axis=1)"
   ]
  },
  {
   "cell_type": "code",
<<<<<<< HEAD
   "execution_count": 93,
=======
   "execution_count": 188,
>>>>>>> 8025e4b2f7c58f13b5540fb787ecc04616c67fee
   "metadata": {},
   "outputs": [],
   "source": [
    "X = X.drop('given_temp', axis=1)"
   ]
  },
  {
   "cell_type": "code",
<<<<<<< HEAD
   "execution_count": 94,
=======
   "execution_count": 189,
>>>>>>> 8025e4b2f7c58f13b5540fb787ecc04616c67fee
   "metadata": {},
   "outputs": [],
   "source": [
    "X =X.dropna()"
   ]
  },
  {
   "cell_type": "code",
<<<<<<< HEAD
   "execution_count": 95,
=======
   "execution_count": 190,
>>>>>>> 8025e4b2f7c58f13b5540fb787ecc04616c67fee
   "metadata": {},
   "outputs": [],
   "source": [
    "X = X.reindex()"
   ]
  },
  {
   "cell_type": "code",
<<<<<<< HEAD
   "execution_count": 96,
   "metadata": {},
   "outputs": [
    {
     "data": {
      "text/plain": [
       "Index(['Temperature', 'day', 'week', 'month', 'year', 'precipitation',\n",
       "       'cloud_cover', 'snow', 'rain', 'yesterday_visits_per_hour', 'year_2016',\n",
       "       'year_2017', 'year_2018', 'year_2019', 'day_1', 'day_2', 'day_3',\n",
       "       'day_4', 'day_5', 'day_6', 'month_2', 'month_3', 'month_4', 'month_5',\n",
       "       'month_6', 'month_7', 'month_8', 'month_9', 'month_10', 'month_11',\n",
       "       'month_12', 'week_2', 'week_3', 'week_4', 'week_5', 'week_6', 'week_7',\n",
       "       'week_8', 'week_9', 'week_10', 'week_11', 'week_12', 'week_13',\n",
       "       'week_14', 'week_15', 'week_16', 'week_17', 'week_18', 'week_19',\n",
       "       'week_20', 'week_21', 'week_22', 'week_23', 'week_24', 'week_25',\n",
       "       'week_26', 'week_27', 'week_28', 'week_29', 'week_30', 'week_31',\n",
       "       'week_32', 'week_33', 'week_34', 'week_35', 'week_36', 'week_37',\n",
       "       'week_38', 'week_39', 'week_40', 'week_41', 'week_42', 'week_43',\n",
       "       'week_44', 'week_45', 'week_46', 'week_47', 'week_48', 'week_49',\n",
       "       'week_50', 'week_51'],\n",
       "      dtype='object')"
      ]
     },
     "execution_count": 96,
     "metadata": {},
     "output_type": "execute_result"
    }
   ],
   "source": [
    "X.columns"
   ]
  },
  {
   "cell_type": "code",
   "execution_count": 97,
=======
   "execution_count": 191,
>>>>>>> 8025e4b2f7c58f13b5540fb787ecc04616c67fee
   "metadata": {},
   "outputs": [],
   "source": [
    "Y = summed_by_date.avg_visits_per_hour"
   ]
  },
  {
   "cell_type": "markdown",
   "metadata": {},
   "source": [
    "# Getting the most important parts and using only those"
   ]
  },
  {
   "cell_type": "code",
   "execution_count": 192,
   "metadata": {},
   "outputs": [],
   "source": [
    "Xold = X"
   ]
  },
  {
   "cell_type": "code",
<<<<<<< HEAD
   "execution_count": 98,
=======
   "execution_count": null,
   "metadata": {},
   "outputs": [],
   "source": []
  },
  {
   "cell_type": "code",
   "execution_count": 193,
>>>>>>> 8025e4b2f7c58f13b5540fb787ecc04616c67fee
   "metadata": {},
   "outputs": [
    {
     "name": "stdout",
     "output_type": "stream",
     "text": [
<<<<<<< HEAD
      "<zip object at 0x1a228724c8>\n"
=======
      "[('Temperature', 0.1350989477752831), ('day', 0.0418507696462272), ('week', 0.012034691658833608), ('month', 0.00917653415206325), ('year', 0.019118880159556987), ('precipitation', 0.07418877775482005), ('cloud_cover', 0.06816874111174683), ('snow', 0.010673637117516822), ('rain', 0.03616695127019992), ('yesterday_visits_per_hour', 0.04417151502025899), ('year_2016', 0.03822994921474952), ('year_2017', 0.01255836635855202), ('year_2018', 0.006827554695357384), ('year_2019', 0.007023298897241419), ('day_1', 0.01853839251527884), ('day_2', 0.0), ('day_3', 0.01468060536944187), ('day_4', 0.031837621197510046), ('day_5', 0.01539278187919855), ('day_6', 0.021363168413981403), ('month_2', 0.013026893786085219), ('month_3', 0.004970158713492559), ('month_4', 0.011856607579829991), ('month_5', 0.006251378296405839), ('month_6', 0.004188476689647261), ('month_7', 0.006652065327854065), ('month_8', 0.015868795048337915), ('month_9', 0.0027142479311993567), ('month_10', 0.010412433098861806), ('month_11', 0.002665524977103031), ('month_12', 0.03314749291934204), ('week_2', 0.0042959633051328685), ('week_3', 0.0030407649173294134), ('week_4', 0.0013432740407820886), ('week_5', 0.0019448147857221488), ('week_6', 0.008242458775977892), ('week_7', 0.0150654690892837), ('week_8', 0.0210701137974118), ('week_9', 0.0013900525624109621), ('week_10', 0.0035410771480286715), ('week_11', 0.0023721342009550167), ('week_12', 0.004670829025492532), ('week_13', 0.00288028837645253), ('week_14', 0.0069447585716496466), ('week_15', 0.00976147898825003), ('week_16', 0.03880802237350602), ('week_17', 0.016036358709850325), ('week_18', 0.004756979953240013), ('week_19', 0.003174405293390671), ('week_20', 0.00257635032770445), ('week_21', 0.0037636248712392155), ('week_22', 0.007453078612687114), ('week_23', 0.005596745118090224), ('week_24', 0.005458129372634179), ('week_25', 0.005964876866352197), ('week_26', 0.003376499252971462), ('week_27', 0.0021149082917305113), ('week_28', 0.0021182947514528684), ('week_29', 0.002406684762738663), ('week_30', 0.010573534443219321), ('week_31', 0.004462397905522565), ('week_32', 0.003430159118922925), ('week_33', 0.002034380698195604), ('week_34', 0.002568716325476391), ('week_35', 0.004218211542055666), ('week_36', 0.006514373249314459), ('week_37', 0.0017339593880514338), ('week_38', 0.007045214858993236), ('week_39', 0.009126087570514358), ('week_40', 0.006169463529511658), ('week_41', 0.004525537010492912), ('week_42', 0.00313197642701332), ('week_43', 0.0035351420303789322), ('week_44', 0.0013338322206799722), ('week_45', 0.003810458649698911), ('week_46', 0.0034944080019308926), ('week_47', 0.00014527241061537203), ('week_48', 0.0012240621983338972), ('week_49', 0.0011280118170810907), ('week_50', 0.000321176668380177), ('week_51', 0.0004499292171727755)]\n"
>>>>>>> 8025e4b2f7c58f13b5540fb787ecc04616c67fee
     ]
    }
   ],
   "source": [
    "from sklearn.ensemble import ExtraTreesRegressor\n",
    "\n",
    "model = ExtraTreesRegressor()\n",
    "model.fit(X, Y)\n",
    "print(zip(X.columns.values,model.feature_importances_))"
   ]
  },
  {
   "cell_type": "code",
<<<<<<< HEAD
   "execution_count": 99,
=======
   "execution_count": 194,
>>>>>>> 8025e4b2f7c58f13b5540fb787ecc04616c67fee
   "metadata": {},
   "outputs": [],
   "source": [
    "important_features = []\n",
    "for col, val in zip(X.columns.values,model.feature_importances_):\n",
    "    if val > 0.025:\n",
    "        important_features.append(col)"
   ]
  },
  {
   "cell_type": "code",
<<<<<<< HEAD
   "execution_count": 100,
=======
   "execution_count": null,
   "metadata": {},
   "outputs": [],
   "source": []
  },
  {
   "cell_type": "code",
   "execution_count": 195,
>>>>>>> 8025e4b2f7c58f13b5540fb787ecc04616c67fee
   "metadata": {},
   "outputs": [
    {
     "name": "stdout",
     "output_type": "stream",
     "text": [
<<<<<<< HEAD
      "['Temperature', 'day', 'precipitation', 'cloud_cover', 'rain', 'yesterday_visits_per_hour', 'year_2016', 'day_4', 'day_6', 'month_12', 'week_16']\n"
=======
      "['Temperature', 'day', 'precipitation', 'cloud_cover', 'rain', 'yesterday_visits_per_hour', 'year_2016', 'day_4', 'month_12', 'week_16']\n"
>>>>>>> 8025e4b2f7c58f13b5540fb787ecc04616c67fee
     ]
    }
   ],
   "source": [
    "print(important_features)"
   ]
  },
  {
   "cell_type": "code",
<<<<<<< HEAD
   "execution_count": 101,
=======
   "execution_count": 196,
>>>>>>> 8025e4b2f7c58f13b5540fb787ecc04616c67fee
   "metadata": {},
   "outputs": [],
   "source": [
    "from sklearn.model_selection import train_test_split"
   ]
  },
  {
   "cell_type": "code",
<<<<<<< HEAD
   "execution_count": 102,
=======
   "execution_count": 164,
>>>>>>> 8025e4b2f7c58f13b5540fb787ecc04616c67fee
   "metadata": {},
   "outputs": [],
   "source": [
    "X2 = summed_by_date[important_features]"
   ]
  },
  {
   "cell_type": "code",
   "execution_count": null,
   "metadata": {},
   "outputs": [],
   "source": []
  },
  {
   "cell_type": "code",
<<<<<<< HEAD
   "execution_count": 103,
=======
   "execution_count": 171,
>>>>>>> 8025e4b2f7c58f13b5540fb787ecc04616c67fee
   "metadata": {},
   "outputs": [],
   "source": [
    "Y2 = summed_by_date.avg_visits_per_hour"
   ]
  },
  {
   "cell_type": "code",
<<<<<<< HEAD
   "execution_count": 104,
=======
   "execution_count": 172,
>>>>>>> 8025e4b2f7c58f13b5540fb787ecc04616c67fee
   "metadata": {},
   "outputs": [],
   "source": [
    "X_train, X_test, y_train, y_test = train_test_split(X2, Y2, test_size=0.33, random_state=42)"
   ]
  },
  {
   "cell_type": "code",
<<<<<<< HEAD
   "execution_count": 105,
=======
   "execution_count": 174,
>>>>>>> 8025e4b2f7c58f13b5540fb787ecc04616c67fee
   "metadata": {},
   "outputs": [
    {
     "name": "stdout",
     "output_type": "stream",
     "text": [
<<<<<<< HEAD
      "Mean squared error: 54.20\n",
      "Variance score: 0.12\n"
=======
      "Mean squared error: 54.37\n",
      "Variance score: 0.11\n"
>>>>>>> 8025e4b2f7c58f13b5540fb787ecc04616c67fee
     ]
    },
    {
     "data": {
<<<<<<< HEAD
      "image/png": "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\n",
      "text/plain": [
       "<matplotlib.figure.Figure at 0x1a215ff0f0>"
=======
      "image/png": "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\n",
      "text/plain": [
       "<Figure size 360x360 with 1 Axes>"
>>>>>>> 8025e4b2f7c58f13b5540fb787ecc04616c67fee
      ]
     },
     "metadata": {
      "needs_background": "light"
     },
     "output_type": "display_data"
    }
   ],
   "source": [
    "import matplotlib.pyplot as plt\n",
    "import numpy as np\n",
    "from sklearn import datasets, linear_model\n",
    "from sklearn.metrics import mean_squared_error, r2_score\n",
    "\n",
    "from sklearn.ensemble import RandomForestRegressor\n",
    "\n",
    "forest_regr = RandomForestRegressor(max_depth=4, random_state=0)\n",
    "forest_regr.fit(X_train, y_train.values.ravel())\n",
    "\n",
    "#print(forest_regr.feature_importances_)\n",
    "\n",
    "forest_y_pred = forest_regr.predict(X_test)\n",
    "\n",
    "#print('Coefficients: \\n', forest_regr.coef_)\n",
    "print(\"Mean squared error: %.2f\"\n",
    "      % mean_squared_error(y_test, forest_y_pred))\n",
    "print('Variance score: %.2f' % r2_score(y_test, forest_y_pred))\n",
    "\n",
    "plt.figure(figsize=(5,5))\n",
    "plt.scatter(y_test, forest_y_pred, color='blue', linewidth=3)\n",
    "plt.xlabel(\"Real Values\")\n",
    "plt.ylabel(\"Predicted Values\")\n",
    "plt.plot([0,50], [0,50])\n",
    "plt.ylim(0,50)\n",
    "plt.xlim(0,50)\n",
    "plt.show()"
   ]
  },
  {
   "cell_type": "markdown",
   "metadata": {},
   "source": [
    "# Prediction for the day"
   ]
  },
  {
   "cell_type": "code",
<<<<<<< HEAD
   "execution_count": 106,
=======
   "execution_count": 175,
>>>>>>> 8025e4b2f7c58f13b5540fb787ecc04616c67fee
   "metadata": {},
   "outputs": [],
   "source": [
    "#['Temperature', 'day', 'precipitation', 'cloud_cover', 'snow', 'rain', 'yesterday_visits_per_hour', 'year_2016', 'month_8', 'week_16']\n",
    "#forest_regr.predict([63, 6, 0, 0, 0 ,0,7.75, 0, 0,0,0,0])"
   ]
  },
  {
   "cell_type": "code",
<<<<<<< HEAD
   "execution_count": 107,
=======
   "execution_count": 178,
>>>>>>> 8025e4b2f7c58f13b5540fb787ecc04616c67fee
   "metadata": {},
   "outputs": [
    {
     "name": "stdout",
     "output_type": "stream",
     "text": [
<<<<<<< HEAD
      "Mean squared error: 47.83\n",
=======
      "Mean squared error: 47.82\n",
>>>>>>> 8025e4b2f7c58f13b5540fb787ecc04616c67fee
      "Variance score: 0.22\n"
     ]
    },
    {
     "data": {
<<<<<<< HEAD
      "image/png": "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\n",
      "text/plain": [
       "<matplotlib.figure.Figure at 0x1a219c0470>"
=======
      "image/png": "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\n",
      "text/plain": [
       "<Figure size 360x360 with 1 Axes>"
>>>>>>> 8025e4b2f7c58f13b5540fb787ecc04616c67fee
      ]
     },
     "metadata": {
      "needs_background": "light"
     },
     "output_type": "display_data"
    }
   ],
   "source": [
    "from sklearn.ensemble import GradientBoostingRegressor\n",
    "\n",
    "est = GradientBoostingRegressor(n_estimators=100, learning_rate=0.1, max_depth=3, random_state=0, loss='ls').fit(X_train, y_train)\n",
    "\n",
    "print(\"Mean squared error: %.2f\"\n",
    "      % mean_squared_error(y_test, est.predict(X_test)))\n",
    "print('Variance score: %.2f' % r2_score(y_test, est.predict(X_test)))\n",
    "\n",
    "plt.figure(figsize=(5,5))\n",
    "plt.scatter(y_test, est.predict(X_test), color='blue', linewidth=3)\n",
    "plt.xlabel('Real Values')\n",
    "plt.ylabel('Predicted Values')\n",
    "plt.plot([0,50], [0,50])\n",
    "plt.xticks(range(0,50,5))\n",
    "plt.ylim(0,50)\n",
    "plt.xlim(0,50)\n",
    "plt.show()"
   ]
  },
  {
   "cell_type": "code",
   "execution_count": 108,
   "metadata": {},
   "outputs": [],
   "source": [
    "#est.predict([63, 6, 0, 0, 0 ,0,7.75, 0, 0,0])"
   ]
  },
  {
   "cell_type": "code",
   "execution_count": 109,
   "metadata": {},
   "outputs": [],
   "source": [
    "test = feature_selection.SelectKBest( k=10)"
   ]
  },
  {
   "cell_type": "code",
   "execution_count": null,
   "metadata": {},
   "outputs": [],
   "source": []
  },
  {
   "cell_type": "code",
   "execution_count": 110,
   "metadata": {},
   "outputs": [
    {
     "name": "stderr",
     "output_type": "stream",
     "text": [
      "/Users/ngagnon/anaconda3/lib/python3.6/site-packages/sklearn/feature_selection/univariate_selection.py:113: UserWarning: Features [15] are constant.\n",
      "  UserWarning)\n",
      "/Users/ngagnon/anaconda3/lib/python3.6/site-packages/sklearn/feature_selection/univariate_selection.py:114: RuntimeWarning: invalid value encountered in true_divide\n",
      "  f = msb / msw\n"
     ]
    }
   ],
   "source": [
    "fit = test.fit(X, Y)"
   ]
  },
  {
   "cell_type": "code",
   "execution_count": 111,
   "metadata": {},
   "outputs": [
    {
     "data": {
      "text/plain": [
       "SelectKBest(k=10, score_func=<function f_classif at 0x116e142f0>)"
      ]
     },
     "execution_count": 111,
     "metadata": {},
     "output_type": "execute_result"
    }
   ],
   "source": [
    "fit"
   ]
  },
  {
   "cell_type": "code",
   "execution_count": 112,
   "metadata": {},
   "outputs": [
    {
     "name": "stdout",
     "output_type": "stream",
     "text": [
      "day 3.3091252707315832\n",
      "precipitation 2.1449706399325796\n",
      "day_4 10.324675324675324\n",
      "day_6 2.2031686612161896\n"
     ]
    }
   ],
   "source": [
    "for name, val in zip(X.columns.values,fit.scores_):\n",
    "    if val > 2.1:\n",
    "        print (name, val)"
   ]
  },
  {
   "cell_type": "code",
   "execution_count": 113,
   "metadata": {},
   "outputs": [],
   "source": [
    "features = fit.transform(X)"
   ]
  },
  {
   "cell_type": "code",
   "execution_count": null,
   "metadata": {},
   "outputs": [],
   "source": []
  },
  {
   "cell_type": "code",
   "execution_count": 114,
   "metadata": {},
   "outputs": [],
   "source": [
    "feature_names = X.columns.values"
   ]
  },
  {
   "cell_type": "code",
   "execution_count": null,
   "metadata": {},
   "outputs": [],
   "source": []
  },
  {
   "cell_type": "code",
   "execution_count": null,
   "metadata": {},
   "outputs": [],
   "source": []
  },
  {
   "cell_type": "markdown",
   "metadata": {},
   "source": [
    "# Working on figuring out what are the best indicators for the amount of people visiting and only keeping those. Currently not doing it"
   ]
  },
  {
   "cell_type": "code",
   "execution_count": 115,
   "metadata": {},
   "outputs": [],
   "source": [
    "corr_matrix = summed_by_date.corr().abs()\n",
    "\n",
    "# Select upper triangle of correlation matrix\n",
    "upper = corr_matrix.where(np.triu(np.ones(corr_matrix.shape), k=1).astype(np.bool))\n",
    "\n",
    "# Find index of feature columns with correlation greater than 0.95\n",
    "to_drop = [column for column in upper.columns if any(upper[column] < 0.1)]"
   ]
  },
  {
   "cell_type": "code",
   "execution_count": 116,
   "metadata": {},
   "outputs": [
    {
     "data": {
      "text/plain": [
       "['total_returns',\n",
       " 'Temperature',\n",
       " 'avg_returns_per_hour',\n",
       " 'avg_new_per_hour',\n",
       " 'avg_from_11201_per_hour',\n",
       " 'ratio_11201',\n",
       " 'day',\n",
       " 'week',\n",
       " 'month',\n",
       " 'year',\n",
       " 'precipitation',\n",
       " 'cloud_cover',\n",
       " 'snow',\n",
       " 'rain',\n",
       " 'yesterday_visits_per_hour',\n",
       " 'year_2016',\n",
       " 'year_2017',\n",
       " 'year_2018',\n",
       " 'year_2019',\n",
       " 'day_1',\n",
       " 'day_3',\n",
       " 'day_4',\n",
       " 'day_5',\n",
       " 'day_6',\n",
       " 'month_2',\n",
       " 'month_3',\n",
       " 'month_4',\n",
       " 'month_5',\n",
       " 'month_6',\n",
       " 'month_7',\n",
       " 'month_8',\n",
       " 'month_9',\n",
       " 'month_10',\n",
       " 'month_11',\n",
       " 'month_12',\n",
       " 'week_2',\n",
       " 'week_3',\n",
       " 'week_4',\n",
       " 'week_5',\n",
       " 'week_6',\n",
       " 'week_7',\n",
       " 'week_8',\n",
       " 'week_9',\n",
       " 'week_10',\n",
       " 'week_11',\n",
       " 'week_12',\n",
       " 'week_13',\n",
       " 'week_14',\n",
       " 'week_15',\n",
       " 'week_16',\n",
       " 'week_17',\n",
       " 'week_18',\n",
       " 'week_19',\n",
       " 'week_20',\n",
       " 'week_21',\n",
       " 'week_22',\n",
       " 'week_23',\n",
       " 'week_24',\n",
       " 'week_25',\n",
       " 'week_26',\n",
       " 'week_27',\n",
       " 'week_28',\n",
       " 'week_29',\n",
       " 'week_30',\n",
       " 'week_31',\n",
       " 'week_32',\n",
       " 'week_33',\n",
       " 'week_34',\n",
       " 'week_35',\n",
       " 'week_36',\n",
       " 'week_37',\n",
       " 'week_38',\n",
       " 'week_39',\n",
       " 'week_40',\n",
       " 'week_41',\n",
       " 'week_42',\n",
       " 'week_43',\n",
       " 'week_44',\n",
       " 'week_45',\n",
       " 'week_46',\n",
       " 'week_47',\n",
       " 'week_48',\n",
       " 'week_49',\n",
       " 'week_50',\n",
       " 'week_51']"
      ]
     },
     "execution_count": 116,
     "metadata": {},
     "output_type": "execute_result"
    }
   ],
   "source": [
    "to_drop"
   ]
  },
  {
   "cell_type": "code",
   "execution_count": 117,
   "metadata": {},
   "outputs": [
    {
     "name": "stderr",
     "output_type": "stream",
     "text": [
      "/Users/ngagnon/anaconda3/lib/python3.6/site-packages/ipykernel_launcher.py:13: SettingWithCopyWarning: \n",
      "A value is trying to be set on a copy of a slice from a DataFrame\n",
      "\n",
      "See the caveats in the documentation: http://pandas.pydata.org/pandas-docs/stable/indexing.html#indexing-view-versus-copy\n",
      "  del sys.path[0]\n",
      "/Users/ngagnon/anaconda3/lib/python3.6/site-packages/ipykernel_launcher.py:14: SettingWithCopyWarning: \n",
      "A value is trying to be set on a copy of a slice from a DataFrame\n",
      "\n",
      "See the caveats in the documentation: http://pandas.pydata.org/pandas-docs/stable/indexing.html#indexing-view-versus-copy\n",
      "  \n"
     ]
    },
    {
     "ename": "KeyError",
     "evalue": "''",
     "output_type": "error",
     "traceback": [
      "\u001b[0;31m---------------------------------------------------------------------------\u001b[0m",
      "\u001b[0;31mKeyError\u001b[0m                                  Traceback (most recent call last)",
      "\u001b[0;32m~/anaconda3/lib/python3.6/site-packages/pandas/core/indexes/base.py\u001b[0m in \u001b[0;36mget_loc\u001b[0;34m(self, key, method, tolerance)\u001b[0m\n\u001b[1;32m   2524\u001b[0m             \u001b[0;32mtry\u001b[0m\u001b[0;34m:\u001b[0m\u001b[0;34m\u001b[0m\u001b[0m\n\u001b[0;32m-> 2525\u001b[0;31m                 \u001b[0;32mreturn\u001b[0m \u001b[0mself\u001b[0m\u001b[0;34m.\u001b[0m\u001b[0m_engine\u001b[0m\u001b[0;34m.\u001b[0m\u001b[0mget_loc\u001b[0m\u001b[0;34m(\u001b[0m\u001b[0mkey\u001b[0m\u001b[0;34m)\u001b[0m\u001b[0;34m\u001b[0m\u001b[0m\n\u001b[0m\u001b[1;32m   2526\u001b[0m             \u001b[0;32mexcept\u001b[0m \u001b[0mKeyError\u001b[0m\u001b[0;34m:\u001b[0m\u001b[0;34m\u001b[0m\u001b[0m\n",
      "\u001b[0;32mpandas/_libs/index.pyx\u001b[0m in \u001b[0;36mpandas._libs.index.IndexEngine.get_loc\u001b[0;34m()\u001b[0m\n",
      "\u001b[0;32mpandas/_libs/index.pyx\u001b[0m in \u001b[0;36mpandas._libs.index.IndexEngine.get_loc\u001b[0;34m()\u001b[0m\n",
      "\u001b[0;32mpandas/_libs/hashtable_class_helper.pxi\u001b[0m in \u001b[0;36mpandas._libs.hashtable.PyObjectHashTable.get_item\u001b[0;34m()\u001b[0m\n",
      "\u001b[0;32mpandas/_libs/hashtable_class_helper.pxi\u001b[0m in \u001b[0;36mpandas._libs.hashtable.PyObjectHashTable.get_item\u001b[0;34m()\u001b[0m\n",
      "\u001b[0;31mKeyError\u001b[0m: ''",
      "\nDuring handling of the above exception, another exception occurred:\n",
      "\u001b[0;31mKeyError\u001b[0m                                  Traceback (most recent call last)",
      "\u001b[0;32m<ipython-input-117-ce6ac1a30456>\u001b[0m in \u001b[0;36m<module>\u001b[0;34m()\u001b[0m\n\u001b[1;32m     13\u001b[0m \u001b[0mtrain\u001b[0m\u001b[0;34m.\u001b[0m\u001b[0mdrop\u001b[0m\u001b[0;34m(\u001b[0m\u001b[0mdrop_columns\u001b[0m\u001b[0;34m,\u001b[0m \u001b[0minplace\u001b[0m\u001b[0;34m=\u001b[0m\u001b[0;32mTrue\u001b[0m\u001b[0;34m,\u001b[0m \u001b[0maxis\u001b[0m\u001b[0;34m=\u001b[0m\u001b[0;36m1\u001b[0m\u001b[0;34m)\u001b[0m\u001b[0;34m\u001b[0m\u001b[0m\n\u001b[1;32m     14\u001b[0m \u001b[0mtest\u001b[0m\u001b[0;34m.\u001b[0m\u001b[0mdrop\u001b[0m\u001b[0;34m(\u001b[0m\u001b[0mdrop_columns\u001b[0m\u001b[0;34m,\u001b[0m \u001b[0minplace\u001b[0m\u001b[0;34m=\u001b[0m\u001b[0;32mTrue\u001b[0m\u001b[0;34m,\u001b[0m \u001b[0maxis\u001b[0m\u001b[0;34m=\u001b[0m\u001b[0;36m1\u001b[0m\u001b[0;34m)\u001b[0m\u001b[0;34m\u001b[0m\u001b[0m\n\u001b[0;32m---> 15\u001b[0;31m \u001b[0mtrain\u001b[0m \u001b[0;34m=\u001b[0m  \u001b[0mtrain\u001b[0m\u001b[0;34m[\u001b[0m\u001b[0;34m''\u001b[0m\u001b[0;34m]\u001b[0m\u001b[0;34m\u001b[0m\u001b[0m\n\u001b[0m\u001b[1;32m     16\u001b[0m \u001b[0;34m\u001b[0m\u001b[0m\n\u001b[1;32m     17\u001b[0m \u001b[0mX_Train\u001b[0m \u001b[0;34m=\u001b[0m \u001b[0mtrain\u001b[0m\u001b[0;34m.\u001b[0m\u001b[0mfillna\u001b[0m\u001b[0;34m(\u001b[0m\u001b[0;36m0\u001b[0m\u001b[0;34m)\u001b[0m\u001b[0;34m\u001b[0m\u001b[0m\n",
      "\u001b[0;32m~/anaconda3/lib/python3.6/site-packages/pandas/core/frame.py\u001b[0m in \u001b[0;36m__getitem__\u001b[0;34m(self, key)\u001b[0m\n\u001b[1;32m   2137\u001b[0m             \u001b[0;32mreturn\u001b[0m \u001b[0mself\u001b[0m\u001b[0;34m.\u001b[0m\u001b[0m_getitem_multilevel\u001b[0m\u001b[0;34m(\u001b[0m\u001b[0mkey\u001b[0m\u001b[0;34m)\u001b[0m\u001b[0;34m\u001b[0m\u001b[0m\n\u001b[1;32m   2138\u001b[0m         \u001b[0;32melse\u001b[0m\u001b[0;34m:\u001b[0m\u001b[0;34m\u001b[0m\u001b[0m\n\u001b[0;32m-> 2139\u001b[0;31m             \u001b[0;32mreturn\u001b[0m \u001b[0mself\u001b[0m\u001b[0;34m.\u001b[0m\u001b[0m_getitem_column\u001b[0m\u001b[0;34m(\u001b[0m\u001b[0mkey\u001b[0m\u001b[0;34m)\u001b[0m\u001b[0;34m\u001b[0m\u001b[0m\n\u001b[0m\u001b[1;32m   2140\u001b[0m \u001b[0;34m\u001b[0m\u001b[0m\n\u001b[1;32m   2141\u001b[0m     \u001b[0;32mdef\u001b[0m \u001b[0m_getitem_column\u001b[0m\u001b[0;34m(\u001b[0m\u001b[0mself\u001b[0m\u001b[0;34m,\u001b[0m \u001b[0mkey\u001b[0m\u001b[0;34m)\u001b[0m\u001b[0;34m:\u001b[0m\u001b[0;34m\u001b[0m\u001b[0m\n",
      "\u001b[0;32m~/anaconda3/lib/python3.6/site-packages/pandas/core/frame.py\u001b[0m in \u001b[0;36m_getitem_column\u001b[0;34m(self, key)\u001b[0m\n\u001b[1;32m   2144\u001b[0m         \u001b[0;31m# get column\u001b[0m\u001b[0;34m\u001b[0m\u001b[0;34m\u001b[0m\u001b[0m\n\u001b[1;32m   2145\u001b[0m         \u001b[0;32mif\u001b[0m \u001b[0mself\u001b[0m\u001b[0;34m.\u001b[0m\u001b[0mcolumns\u001b[0m\u001b[0;34m.\u001b[0m\u001b[0mis_unique\u001b[0m\u001b[0;34m:\u001b[0m\u001b[0;34m\u001b[0m\u001b[0m\n\u001b[0;32m-> 2146\u001b[0;31m             \u001b[0;32mreturn\u001b[0m \u001b[0mself\u001b[0m\u001b[0;34m.\u001b[0m\u001b[0m_get_item_cache\u001b[0m\u001b[0;34m(\u001b[0m\u001b[0mkey\u001b[0m\u001b[0;34m)\u001b[0m\u001b[0;34m\u001b[0m\u001b[0m\n\u001b[0m\u001b[1;32m   2147\u001b[0m \u001b[0;34m\u001b[0m\u001b[0m\n\u001b[1;32m   2148\u001b[0m         \u001b[0;31m# duplicate columns & possible reduce dimensionality\u001b[0m\u001b[0;34m\u001b[0m\u001b[0;34m\u001b[0m\u001b[0m\n",
      "\u001b[0;32m~/anaconda3/lib/python3.6/site-packages/pandas/core/generic.py\u001b[0m in \u001b[0;36m_get_item_cache\u001b[0;34m(self, item)\u001b[0m\n\u001b[1;32m   1840\u001b[0m         \u001b[0mres\u001b[0m \u001b[0;34m=\u001b[0m \u001b[0mcache\u001b[0m\u001b[0;34m.\u001b[0m\u001b[0mget\u001b[0m\u001b[0;34m(\u001b[0m\u001b[0mitem\u001b[0m\u001b[0;34m)\u001b[0m\u001b[0;34m\u001b[0m\u001b[0m\n\u001b[1;32m   1841\u001b[0m         \u001b[0;32mif\u001b[0m \u001b[0mres\u001b[0m \u001b[0;32mis\u001b[0m \u001b[0;32mNone\u001b[0m\u001b[0;34m:\u001b[0m\u001b[0;34m\u001b[0m\u001b[0m\n\u001b[0;32m-> 1842\u001b[0;31m             \u001b[0mvalues\u001b[0m \u001b[0;34m=\u001b[0m \u001b[0mself\u001b[0m\u001b[0;34m.\u001b[0m\u001b[0m_data\u001b[0m\u001b[0;34m.\u001b[0m\u001b[0mget\u001b[0m\u001b[0;34m(\u001b[0m\u001b[0mitem\u001b[0m\u001b[0;34m)\u001b[0m\u001b[0;34m\u001b[0m\u001b[0m\n\u001b[0m\u001b[1;32m   1843\u001b[0m             \u001b[0mres\u001b[0m \u001b[0;34m=\u001b[0m \u001b[0mself\u001b[0m\u001b[0;34m.\u001b[0m\u001b[0m_box_item_values\u001b[0m\u001b[0;34m(\u001b[0m\u001b[0mitem\u001b[0m\u001b[0;34m,\u001b[0m \u001b[0mvalues\u001b[0m\u001b[0;34m)\u001b[0m\u001b[0;34m\u001b[0m\u001b[0m\n\u001b[1;32m   1844\u001b[0m             \u001b[0mcache\u001b[0m\u001b[0;34m[\u001b[0m\u001b[0mitem\u001b[0m\u001b[0;34m]\u001b[0m \u001b[0;34m=\u001b[0m \u001b[0mres\u001b[0m\u001b[0;34m\u001b[0m\u001b[0m\n",
      "\u001b[0;32m~/anaconda3/lib/python3.6/site-packages/pandas/core/internals.py\u001b[0m in \u001b[0;36mget\u001b[0;34m(self, item, fastpath)\u001b[0m\n\u001b[1;32m   3841\u001b[0m \u001b[0;34m\u001b[0m\u001b[0m\n\u001b[1;32m   3842\u001b[0m             \u001b[0;32mif\u001b[0m \u001b[0;32mnot\u001b[0m \u001b[0misna\u001b[0m\u001b[0;34m(\u001b[0m\u001b[0mitem\u001b[0m\u001b[0;34m)\u001b[0m\u001b[0;34m:\u001b[0m\u001b[0;34m\u001b[0m\u001b[0m\n\u001b[0;32m-> 3843\u001b[0;31m                 \u001b[0mloc\u001b[0m \u001b[0;34m=\u001b[0m \u001b[0mself\u001b[0m\u001b[0;34m.\u001b[0m\u001b[0mitems\u001b[0m\u001b[0;34m.\u001b[0m\u001b[0mget_loc\u001b[0m\u001b[0;34m(\u001b[0m\u001b[0mitem\u001b[0m\u001b[0;34m)\u001b[0m\u001b[0;34m\u001b[0m\u001b[0m\n\u001b[0m\u001b[1;32m   3844\u001b[0m             \u001b[0;32melse\u001b[0m\u001b[0;34m:\u001b[0m\u001b[0;34m\u001b[0m\u001b[0m\n\u001b[1;32m   3845\u001b[0m                 \u001b[0mindexer\u001b[0m \u001b[0;34m=\u001b[0m \u001b[0mnp\u001b[0m\u001b[0;34m.\u001b[0m\u001b[0marange\u001b[0m\u001b[0;34m(\u001b[0m\u001b[0mlen\u001b[0m\u001b[0;34m(\u001b[0m\u001b[0mself\u001b[0m\u001b[0;34m.\u001b[0m\u001b[0mitems\u001b[0m\u001b[0;34m)\u001b[0m\u001b[0;34m)\u001b[0m\u001b[0;34m[\u001b[0m\u001b[0misna\u001b[0m\u001b[0;34m(\u001b[0m\u001b[0mself\u001b[0m\u001b[0;34m.\u001b[0m\u001b[0mitems\u001b[0m\u001b[0;34m)\u001b[0m\u001b[0;34m]\u001b[0m\u001b[0;34m\u001b[0m\u001b[0m\n",
      "\u001b[0;32m~/anaconda3/lib/python3.6/site-packages/pandas/core/indexes/base.py\u001b[0m in \u001b[0;36mget_loc\u001b[0;34m(self, key, method, tolerance)\u001b[0m\n\u001b[1;32m   2525\u001b[0m                 \u001b[0;32mreturn\u001b[0m \u001b[0mself\u001b[0m\u001b[0;34m.\u001b[0m\u001b[0m_engine\u001b[0m\u001b[0;34m.\u001b[0m\u001b[0mget_loc\u001b[0m\u001b[0;34m(\u001b[0m\u001b[0mkey\u001b[0m\u001b[0;34m)\u001b[0m\u001b[0;34m\u001b[0m\u001b[0m\n\u001b[1;32m   2526\u001b[0m             \u001b[0;32mexcept\u001b[0m \u001b[0mKeyError\u001b[0m\u001b[0;34m:\u001b[0m\u001b[0;34m\u001b[0m\u001b[0m\n\u001b[0;32m-> 2527\u001b[0;31m                 \u001b[0;32mreturn\u001b[0m \u001b[0mself\u001b[0m\u001b[0;34m.\u001b[0m\u001b[0m_engine\u001b[0m\u001b[0;34m.\u001b[0m\u001b[0mget_loc\u001b[0m\u001b[0;34m(\u001b[0m\u001b[0mself\u001b[0m\u001b[0;34m.\u001b[0m\u001b[0m_maybe_cast_indexer\u001b[0m\u001b[0;34m(\u001b[0m\u001b[0mkey\u001b[0m\u001b[0;34m)\u001b[0m\u001b[0;34m)\u001b[0m\u001b[0;34m\u001b[0m\u001b[0m\n\u001b[0m\u001b[1;32m   2528\u001b[0m \u001b[0;34m\u001b[0m\u001b[0m\n\u001b[1;32m   2529\u001b[0m         \u001b[0mindexer\u001b[0m \u001b[0;34m=\u001b[0m \u001b[0mself\u001b[0m\u001b[0;34m.\u001b[0m\u001b[0mget_indexer\u001b[0m\u001b[0;34m(\u001b[0m\u001b[0;34m[\u001b[0m\u001b[0mkey\u001b[0m\u001b[0;34m]\u001b[0m\u001b[0;34m,\u001b[0m \u001b[0mmethod\u001b[0m\u001b[0;34m=\u001b[0m\u001b[0mmethod\u001b[0m\u001b[0;34m,\u001b[0m \u001b[0mtolerance\u001b[0m\u001b[0;34m=\u001b[0m\u001b[0mtolerance\u001b[0m\u001b[0;34m)\u001b[0m\u001b[0;34m\u001b[0m\u001b[0m\n",
      "\u001b[0;32mpandas/_libs/index.pyx\u001b[0m in \u001b[0;36mpandas._libs.index.IndexEngine.get_loc\u001b[0;34m()\u001b[0m\n",
      "\u001b[0;32mpandas/_libs/index.pyx\u001b[0m in \u001b[0;36mpandas._libs.index.IndexEngine.get_loc\u001b[0;34m()\u001b[0m\n",
      "\u001b[0;32mpandas/_libs/hashtable_class_helper.pxi\u001b[0m in \u001b[0;36mpandas._libs.hashtable.PyObjectHashTable.get_item\u001b[0;34m()\u001b[0m\n",
      "\u001b[0;32mpandas/_libs/hashtable_class_helper.pxi\u001b[0m in \u001b[0;36mpandas._libs.hashtable.PyObjectHashTable.get_item\u001b[0;34m()\u001b[0m\n",
      "\u001b[0;31mKeyError\u001b[0m: ''"
     ]
    }
   ],
   "source": [
    "import pandas as pd\n",
    "import numpy as np\n",
    "from sklearn.model_selection import train_test_split\n",
    "from sklearn.preprocessing import StandardScaler\n",
    "\n",
    "train, test = train_test_split(summed_by_date, test_size=0.2)\n",
    "\n",
    "Y_Train = train[['total_visitors']]\n",
    "Y_Test = test[['total_visitors']]\n",
    "\n",
    "\n",
    "drop_columns = ['Unnamed: 0','total_visitors','Unnamed: 0.1', 'given_temp','from_11201','avg_from_11201_per_hour','ratio_11201','total_returns', 'total_new','avg_visits_per_hour', 'avg_returns_per_hour', 'avg_new_per_hour']\n",
    "train.drop(drop_columns, inplace=True, axis=1)\n",
    "test.drop(drop_columns, inplace=True, axis=1)\n",
    "train =  train['']\n",
    "\n",
    "X_Train = train.fillna(0)\n",
    "X_Test = test.fillna(0)\n",
    "\n",
    "#Normalizing data\n",
    "X_Test_norm  = StandardScaler().fit_transform(X_Test)\n",
    "X_Train_norm  = StandardScaler().fit_transform(X_Train)"
   ]
  },
  {
   "cell_type": "code",
   "execution_count": null,
   "metadata": {},
   "outputs": [],
   "source": [
    "corr_matrix = df.corr().abs()\n",
    "\n",
    "# Select upper triangle of correlation matrix\n",
    "upper = corr_matrix.where(np.triu(np.ones(corr_matrix.shape), k=1).astype(np.bool))\n",
    "\n",
    "# Find index of feature columns with correlation greater than 0.95\n",
    "to_drop = [column for column in upper.columns if any(upper[column] > 0.95)]"
   ]
  },
  {
   "cell_type": "code",
   "execution_count": null,
   "metadata": {},
   "outputs": [],
   "source": [
    "summed_by_date.columns.values"
   ]
  },
  {
   "cell_type": "code",
   "execution_count": null,
   "metadata": {},
   "outputs": [],
   "source": [
    "summed_by_date.corr().sort_values('total_visitors', ascending=False)"
   ]
  },
  {
   "cell_type": "code",
   "execution_count": null,
   "metadata": {},
   "outputs": [],
   "source": [
    "\n",
    "import seaborn as sns\n",
    "%matplotlib inline\n",
    "\n",
    "# load the R package ISLR\n",
    "#infert = com.importr(\"ISLR\")\n",
    "\n",
    "# load the Auto dataset\n",
    "#auto_df = com.load_data('Auto')\n",
    "\n",
    "# calculate the correlation matrix\n",
    "corr = summed_by_date.corr()\n",
    "\n",
    "# plot the heatmap\n",
    "sns.heatmap(corr, \n",
    "        xticklabels=corr.columns,\n",
    "        yticklabels=corr.columns)"
   ]
  },
  {
   "cell_type": "code",
   "execution_count": null,
   "metadata": {},
   "outputs": [],
   "source": [
    "X_Train.columns.values"
   ]
  },
  {
   "cell_type": "code",
   "execution_count": null,
   "metadata": {},
   "outputs": [],
   "source": []
  },
  {
   "cell_type": "code",
   "execution_count": null,
   "metadata": {},
   "outputs": [],
   "source": [
    "import matplotlib.pyplot as plt\n",
    "import numpy as np\n",
    "from sklearn import datasets, linear_model\n",
    "from sklearn.metrics import mean_squared_error, r2_score\n",
    "\n",
    "from sklearn.ensemble import RandomForestRegressor\n",
    "\n",
    "forest_regr = RandomForestRegressor(max_depth=4, random_state=0)\n",
    "forest_regr.fit(X_Train_norm, Y_Train.values.ravel())\n",
    "\n",
    "print(forest_regr.feature_importances_)\n",
    "\n",
    "forest_y_pred = forest_regr.predict(X_Test_norm)\n",
    "\n",
    "#print('Coefficients: \\n', forest_regr.coef_)\n",
    "print(\"Mean squared error: %.2f\"\n",
    "      % mean_squared_error(Y_Test, forest_y_pred))\n",
    "print('Variance score: %.2f' % r2_score(Y_Test, forest_y_pred))\n",
    "\n",
    "plt.figure(figsize=(5,5))\n",
    "plt.scatter(Y_Test, forest_y_pred, color='blue', linewidth=3)\n",
    "plt.plot([0,200], [0,200])\n",
    "plt.ylim(0,200)\n",
    "plt.xlim(0,200)\n",
    "plt.show()"
   ]
  },
  {
   "cell_type": "code",
   "execution_count": null,
   "metadata": {},
   "outputs": [],
   "source": [
    "from sklearn.ensemble import GradientBoostingRegressor\n",
    "\n",
    "est = GradientBoostingRegressor(n_estimators=100, learning_rate=0.1, max_depth=3, random_state=0, loss='ls').fit(X_Train_norm, Y_Train)\n",
    "\n",
    "print(\"Mean squared error: %.2f\"\n",
    "      % mean_squared_error(Y_Test, est.predict(X_Test_norm)))\n",
    "print('Variance score: %.2f' % r2_score(Y_Test, est.predict(X_Test_norm)))\n",
    "\n",
    "plt.figure(figsize=(5,5))\n",
    "plt.scatter(Y_Test, est.predict(X_Test_norm), color='blue', linewidth=3)\n",
    "plt.plot([0,200], [0,200])\n",
    "plt.ylim(0,200)\n",
    "plt.xlim(0,200)\n",
    "plt.show()"
   ]
  },
  {
   "cell_type": "code",
   "execution_count": null,
   "metadata": {},
   "outputs": [],
   "source": [
    "print(forest_regr.feature_importances_)"
   ]
  },
  {
   "cell_type": "code",
   "execution_count": null,
   "metadata": {},
   "outputs": [],
   "source": [
    "print est.feature_importances_"
   ]
  },
  {
   "cell_type": "code",
   "execution_count": null,
   "metadata": {},
   "outputs": [],
   "source": []
  },
  {
   "cell_type": "code",
   "execution_count": null,
   "metadata": {},
   "outputs": [],
   "source": []
  },
  {
   "cell_type": "code",
   "execution_count": null,
   "metadata": {},
   "outputs": [],
   "source": []
  }
 ],
 "metadata": {
  "anaconda-cloud": {},
  "kernelspec": {
   "display_name": "Python 2",
   "language": "python",
   "name": "python2"
  },
  "language_info": {
   "codemirror_mode": {
    "name": "ipython",
    "version": 2
   },
   "file_extension": ".py",
   "mimetype": "text/x-python",
   "name": "python",
   "nbconvert_exporter": "python",
   "pygments_lexer": "ipython2",
   "version": "2.7.16"
  }
 },
 "nbformat": 4,
 "nbformat_minor": 1
}
