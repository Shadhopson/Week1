{
 "cells": [
  {
   "cell_type": "code",
   "execution_count": 1,
   "metadata": {
    "collapsed": false
   },
   "outputs": [],
   "source": [
    "import pandas as pd"
   ]
  },
  {
   "cell_type": "markdown",
   "metadata": {},
   "source": [
    "# Currently Visits, returns, new, from_11201, and per_hours of those averages, and standard deviations\n",
    "# Next steps: get the daily values"
   ]
  },
  {
   "cell_type": "code",
   "execution_count": 5,
   "metadata": {
    "collapsed": false
   },
   "outputs": [],
   "source": [
    "summed_by_date = pd.read_csv('advanced_welcome_table_summed.csv')\n",
    "\n",
    "summary = summed_by_date.describe()\n",
    "\n",
    "summary = summary[['total_visitors', 'total_returns','total_new','from_11201','visits_per_hour', 'new_per_hour','returns_per_hour', 'from_11201_per_hour', 'ratio_11201']]\n"
   ]
  },
  {
   "cell_type": "code",
   "execution_count": 6,
   "metadata": {
    "collapsed": false
   },
   "outputs": [],
   "source": [
    "total_visitors =  int(summary.loc['mean'][['total_visitors']])* int(summary.loc['count'][['total_visitors']])"
   ]
  },
  {
   "cell_type": "code",
   "execution_count": 7,
   "metadata": {
    "collapsed": false
   },
   "outputs": [],
   "source": [
    "total_ratio_11201 = int(summary.loc['mean'][['total_visitors']])*int(summary.loc['mean'][['from_11201']])"
   ]
  },
  {
   "cell_type": "code",
   "execution_count": 8,
   "metadata": {
    "collapsed": false
   },
   "outputs": [
    {
     "data": {
      "text/html": [
       "<div>\n",
       "<table border=\"1\" class=\"dataframe\">\n",
       "  <thead>\n",
       "    <tr style=\"text-align: right;\">\n",
       "      <th></th>\n",
       "      <th>total_visitors</th>\n",
       "      <th>total_returns</th>\n",
       "      <th>total_new</th>\n",
       "      <th>from_11201</th>\n",
       "      <th>avg_visits_per_hour</th>\n",
       "      <th>avg_new_per_hour</th>\n",
       "      <th>avg_returns_per_hour</th>\n",
       "      <th>avg_from_11201_per_hour</th>\n",
       "      <th>ratio_11201</th>\n",
       "    </tr>\n",
       "  </thead>\n",
       "  <tbody>\n",
       "    <tr>\n",
       "      <th>mean</th>\n",
       "      <td>58.765472</td>\n",
       "      <td>20.23127</td>\n",
       "      <td>38.416938</td>\n",
       "      <td>25.061475</td>\n",
       "      <td>18.467427</td>\n",
       "      <td>11.328990</td>\n",
       "      <td>7.096906</td>\n",
       "      <td>8.837090</td>\n",
       "      <td>0.541058</td>\n",
       "    </tr>\n",
       "    <tr>\n",
       "      <th>std</th>\n",
       "      <td>39.977408</td>\n",
       "      <td>12.05171</td>\n",
       "      <td>35.626541</td>\n",
       "      <td>13.787643</td>\n",
       "      <td>9.617021</td>\n",
       "      <td>8.776155</td>\n",
       "      <td>4.699701</td>\n",
       "      <td>4.854609</td>\n",
       "      <td>0.262411</td>\n",
       "    </tr>\n",
       "  </tbody>\n",
       "</table>\n",
       "</div>"
      ],
      "text/plain": [
       "      total_visitors  total_returns  total_new  from_11201  \\\n",
       "mean       58.765472       20.23127  38.416938   25.061475   \n",
       "std        39.977408       12.05171  35.626541   13.787643   \n",
       "\n",
       "      avg_visits_per_hour  avg_new_per_hour  avg_returns_per_hour  \\\n",
       "mean            18.467427         11.328990              7.096906   \n",
       "std              9.617021          8.776155              4.699701   \n",
       "\n",
       "      avg_from_11201_per_hour  ratio_11201  \n",
       "mean                 8.837090     0.541058  \n",
       "std                  4.854609     0.262411  "
      ]
     },
     "execution_count": 8,
     "metadata": {},
     "output_type": "execute_result"
    }
   ],
   "source": [
    "summary = summary.loc[['mean','std']]\n",
    "summary.rename(columns={'visits_per_hour': 'avg_visits_per_hour', 'new_per_hour': 'avg_new_per_hour','returns_per_hour':'avg_returns_per_hour', 'from_11201_per_hour':'avg_from_11201_per_hour'})"
   ]
  },
  {
   "cell_type": "code",
   "execution_count": 24,
   "metadata": {
    "collapsed": false
   },
   "outputs": [
    {
     "name": "stdout",
     "output_type": "stream",
     "text": [
      "[1, 2, 3, 4, 5, 6, 7, 8, 9, 10, 11, 12]\n",
      "      total_visitors  total_returns  total_new  Temperature  from_11201  \\\n",
      "mean       41.965517      20.275862  21.620690    42.010345   21.588235   \n",
      "std        30.578334      12.614891  20.593712     8.795505   11.197426   \n",
      "\n",
      "      avg_visits_per_hour  avg_returns_per_hour  avg_new_per_hour  \\\n",
      "mean            13.284483              6.956897          6.310345   \n",
      "std              7.009790              4.116641          4.796136   \n",
      "\n",
      "      avg_from_11201_per_hour  ratio_11201       day  month         year  \\\n",
      "mean                 8.000000     0.727731  3.689655    1.0  2016.586207   \n",
      "std                  4.261932     0.236667  1.983926    0.0     0.501230   \n",
      "\n",
      "      precipitation  cloud_cover      snow      rain  \n",
      "mean       0.004700     0.430345  0.137931  0.344828  \n",
      "std        0.010619     0.274089  0.350931  0.483725  \n"
     ]
    }
   ],
   "source": [
    "summary_by_month = summed_by_date.groupby('month')#.describe()[['total_visitors', 'total_returns','total_new','from_11201','visits_per_hour', 'new_per_hour', 'from_11201_per_hour']]\n",
    "print summary_by_month.groups.keys()\n",
    "January = summary_by_month.get_group(1).describe().loc[['mean','std']]\n",
    "January = January.rename(columns={'visits_per_hour': 'avg_visits_per_hour', 'new_per_hour': 'avg_new_per_hour','returns_per_hour':'avg_returns_per_hour', 'from_11201_per_hour':'avg_from_11201_per_hour'})\n",
    "print January"
   ]
  },
  {
   "cell_type": "code",
   "execution_count": null,
   "metadata": {
    "collapsed": true
   },
   "outputs": [],
   "source": []
  }
 ],
 "metadata": {
  "anaconda-cloud": {},
  "kernelspec": {
   "display_name": "Python [conda root]",
   "language": "python",
   "name": "conda-root-py"
  },
  "language_info": {
   "codemirror_mode": {
    "name": "ipython",
    "version": 2
   },
   "file_extension": ".py",
   "mimetype": "text/x-python",
   "name": "python",
   "nbconvert_exporter": "python",
   "pygments_lexer": "ipython2",
   "version": "2.7.12"
  }
 },
 "nbformat": 4,
 "nbformat_minor": 1
}
