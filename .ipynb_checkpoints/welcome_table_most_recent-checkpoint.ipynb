{
 "cells": [
  {
   "cell_type": "code",
   "execution_count": 226,
   "metadata": {
    "collapsed": false
   },
   "outputs": [],
   "source": [
    "#Important values:\n",
    "#welcome_table_june is the original csv, the values are turned from strings into more useable forms but should be unchanged\n",
    "#\n",
    "import unicodecsv\n",
    "import weather_dict\n",
    "import math"
   ]
  },
  {
   "cell_type": "code",
   "execution_count": 123,
   "metadata": {
    "collapsed": true
   },
   "outputs": [],
   "source": [
    "from datetime import datetime as dt\n",
    "\n",
    "#Reading and cleaning data\n"
   ]
  },
  {
   "cell_type": "code",
   "execution_count": 124,
   "metadata": {
    "collapsed": true
   },
   "outputs": [],
   "source": [
    "def read_csv(filename):\n",
    "    with open(filename, 'rb') as f:\n",
    "        reader = unicodecsv.DictReader(f)\n",
    "        return list(reader)"
   ]
  },
  {
   "cell_type": "code",
   "execution_count": 125,
   "metadata": {
    "collapsed": false
   },
   "outputs": [],
   "source": [
    "csv_list = []\n",
    "welcome_table_june = read_csv('welcome_table_June_2016_On.csv')\n"
   ]
  },
  {
   "cell_type": "code",
   "execution_count": 126,
   "metadata": {
    "collapsed": false
   },
   "outputs": [],
   "source": [
    "def set_to_int(column_name):\n",
    "    for row in welcome_table_june:\n",
    "        if row[column_name].strip() == \"\":\n",
    "            row[column_name] = 0\n",
    "        row[column_name] = int(row[column_name])\n"
   ]
  },
  {
   "cell_type": "code",
   "execution_count": 127,
   "metadata": {
    "collapsed": false
   },
   "outputs": [],
   "source": [
    "set_to_int('# Returns')"
   ]
  },
  {
   "cell_type": "code",
   "execution_count": 128,
   "metadata": {
    "collapsed": true
   },
   "outputs": [],
   "source": [
    "set_to_int('# New')"
   ]
  },
  {
   "cell_type": "code",
   "execution_count": 129,
   "metadata": {
    "collapsed": true
   },
   "outputs": [],
   "source": [
    "set_to_int('# in Group')"
   ]
  },
  {
   "cell_type": "code",
   "execution_count": 130,
   "metadata": {
    "collapsed": true
   },
   "outputs": [],
   "source": [
    "def parse_date(date):\n",
    "    if date == '':\n",
    "        return None\n",
    "    else:\n",
    "        try:\n",
    "            return dt.strptime(date, '%m/%d/%Y')\n",
    "        except:\n",
    "            return dt.strptime(date, '%m/%d/%y')"
   ]
  },
  {
   "cell_type": "code",
   "execution_count": 131,
   "metadata": {
    "collapsed": false
   },
   "outputs": [],
   "source": [
    "for row in welcome_table_june:\n",
    "    try:\n",
    "        if len(row['Date']) > 4:\n",
    "            new_date = row['Date']\n",
    "        row['Date'] = parse_date(new_date)\n",
    "    except:\n",
    "        print row['Date']"
   ]
  },
  {
   "cell_type": "code",
   "execution_count": 132,
   "metadata": {
    "collapsed": false
   },
   "outputs": [],
   "source": [
    "#grouping data by date"
   ]
  },
  {
   "cell_type": "code",
   "execution_count": 133,
   "metadata": {
    "collapsed": true
   },
   "outputs": [],
   "source": [
    "# make compiled list by date\n",
    "from collections import defaultdict"
   ]
  },
  {
   "cell_type": "code",
   "execution_count": 134,
   "metadata": {
    "collapsed": true
   },
   "outputs": [],
   "source": [
    "welcome_table_stats_by_date = defaultdict(list)"
   ]
  },
  {
   "cell_type": "code",
   "execution_count": 135,
   "metadata": {
    "collapsed": false
   },
   "outputs": [],
   "source": [
    "for row in welcome_table_june:\n",
    "    welcome_table_stats_by_date[str(row[\"Date\"]).split(' ',1)[0]].append(row)"
   ]
  },
  {
   "cell_type": "code",
   "execution_count": 136,
   "metadata": {
    "collapsed": false
   },
   "outputs": [],
   "source": [
    "\n",
    "#Collecting the total information for each date\n",
    "\n",
    "summed_by_date = {}\n",
    "for key in welcome_table_stats_by_date:\n",
    "    total_visitors = 0\n",
    "    total_new = 0\n",
    "    total_returns = 0\n",
    "    weather = \"\"\n",
    "    temperature = \"\"\n",
    "    local = 0\n",
    "    fake = False\n",
    "    for visit in welcome_table_stats_by_date[key]:\n",
    "        if visit[\"Zip code\"]:\n",
    "            total_visitors += visit[\"# in Group\"]\n",
    "            total_new += visit[\"# New\"]\n",
    "            total_returns += visit[\"# Returns\"]\n",
    "        else:\n",
    "            fake = True\n",
    "        if(visit[\"Zip code\"] == \"11201\"):\n",
    "            local += visit[\"# in Group\"]\n",
    "        if (visit[\"Temperature\"]):\n",
    "            temperature = visit[\"Temperature\"]\n",
    "    if total_visitors != 0 and not fake:\n",
    "        summed_by_date[key] = {\"total_visitors\": total_visitors, \"total_new\": total_new, \"total_returns\":total_returns,\"from_11201\": local, \"Temperature\": temperature}"
   ]
  },
  {
   "cell_type": "code",
   "execution_count": 137,
   "metadata": {
    "collapsed": true
   },
   "outputs": [],
   "source": [
    "import pandas"
   ]
  },
  {
   "cell_type": "code",
   "execution_count": 138,
   "metadata": {
    "collapsed": false
   },
   "outputs": [],
   "source": [
    "summed_by_date =  pandas.DataFrame.from_dict(summed_by_date, orient = 'index' )"
   ]
  },
  {
   "cell_type": "code",
   "execution_count": 139,
   "metadata": {
    "collapsed": false
   },
   "outputs": [],
   "source": [
    "summed_by_date.to_csv('welcome_table_summed.csv', sep =',')"
   ]
  },
  {
   "cell_type": "code",
   "execution_count": 140,
   "metadata": {
    "collapsed": false
   },
   "outputs": [],
   "source": [
    "#print summed_by_date['total_visitors']"
   ]
  },
  {
   "cell_type": "code",
   "execution_count": 141,
   "metadata": {
    "collapsed": false
   },
   "outputs": [],
   "source": [
    "#print summed_by_date"
   ]
  },
  {
   "cell_type": "code",
   "execution_count": 142,
   "metadata": {
    "collapsed": false
   },
   "outputs": [],
   "source": [
    "summed_by_date.columns.name = \"dates\""
   ]
  },
  {
   "cell_type": "code",
   "execution_count": 143,
   "metadata": {
    "collapsed": false
   },
   "outputs": [],
   "source": [
    "#print summed_by_date"
   ]
  },
  {
   "cell_type": "code",
   "execution_count": 144,
   "metadata": {
    "collapsed": false
   },
   "outputs": [],
   "source": [
    "#print summed_by_date.index.values"
   ]
  },
  {
   "cell_type": "code",
   "execution_count": 145,
   "metadata": {
    "collapsed": false
   },
   "outputs": [
    {
     "name": "stdout",
     "output_type": "stream",
     "text": [
      "{u'apparentTemperatureMinTime': 1468897200, u'precipType': u'rain', u'cloudCover': 0.49, u'precipIntensityMaxTime': 1468875600, u'temperatureMin': 76.16, u'summary': u'Rain in the evening.', u'dewPoint': 64.73, u'apparentTemperatureMax': 88.37, u'temperatureMax': 88.18, u'temperatureMaxTime': 1468864800, u'windBearing': 241, u'moonPhase': 0.45, u'temperatureMinTime': 1468897200, u'visibility': 9.93, u'sunsetTime': 1468887904, u'pressure': 1017.64, u'apparentTemperatureMin': 76.16, u'precipIntensityMax': 0.1, u'icon': u'rain', u'apparentTemperatureMaxTime': 1468864800, u'humidity': 0.6, u'windSpeed': 9.9, u'time': 1468814400, u'precipIntensity': 0.0078, u'sunriseTime': 1468834894, u'precipProbability': 0.67}\n"
     ]
    }
   ],
   "source": [
    "print weather_dict.weather[\"2016-07-18\"]"
   ]
  },
  {
   "cell_type": "code",
   "execution_count": 182,
   "metadata": {
    "collapsed": false,
    "scrolled": true
   },
   "outputs": [
    {
     "name": "stdout",
     "output_type": "stream",
     "text": [
      "rain\n",
      "rain\n",
      "rain\n",
      "rain\n",
      "rain\n",
      "rain\n",
      "rain\n",
      "rain\n",
      "rain\n",
      "rain\n",
      "rain\n",
      "rain\n",
      "rain\n",
      "rain\n",
      "rain\n",
      "rain\n",
      "rain\n",
      "rain\n",
      "rain\n",
      "rain\n",
      "2016-09-06\n",
      "2016-09-08\n",
      "2016-09-11\n",
      "2016-09-13\n",
      "2016-09-18\n",
      "2016-09-20\n",
      "2016-09-22\n",
      "2016-09-24\n",
      "2016-09-25\n",
      "2016-09-27\n",
      "2016-09-29\n",
      "2016-10-01\n",
      "2016-10-02\n",
      "2016-10-04\n",
      "2016-10-06\n",
      "2016-10-08\n",
      "2016-10-09\n",
      "2016-10-11\n",
      "2016-10-13\n",
      "2016-10-15\n",
      "2016-10-18\n",
      "2016-10-20\n",
      "2016-10-22\n",
      "2016-10-23\n",
      "2016-10-25\n",
      "2016-10-27\n",
      "2016-10-29\n",
      "2016-10-30\n",
      "2016-11-03\n",
      "2016-11-05\n",
      "2016-11-06\n",
      "2016-11-08\n",
      "2016-11-10\n",
      "2016-11-13\n",
      "2016-11-15\n",
      "2016-11-17\n",
      "2016-11-19\n",
      "2016-11-20\n",
      "2016-11-22\n",
      "2016-11-29\n",
      "2016-12-03\n",
      "2026-07-24\n"
     ]
    }
   ],
   "source": [
    "summed_by_date[\"visits_per_hour\"] = float('nan')\n",
    "summed_by_date[\"returns_per_hour\"] = float('nan')\n",
    "summed_by_date[\"new_per_hour\"] = float('nan')\n",
    "summed_by_date[\"from_11201_per_hour\"] = float('nan')\n",
    "summed_by_date[\"day\"] = \"\"\n",
    "summed_by_date[\"month\"] = 6\n",
    "summed_by_date[\"year\"] = 2016\n",
    "summed_by_date[\"precipitation\"] =  float('nan')\n",
    "summed_by_date[\"cloud_cover\"] = float('nan')\n",
    "summed_by_date[\"snow\"] = float('nan')\n",
    "summed_by_date[\"rain\"] = float('nan')\n",
    "for val in summed_by_date.index.values:\n",
    "\n",
    "    if val != 'None':\n",
    "        the_date = dt.strptime(val, \"%Y-%m-%d\")\n",
    "        if the_date.weekday() >= 5:\n",
    "            hours = 4\n",
    "        elif the_date.weekday() == 1 or  the_date.weekday() == 3:\n",
    "            hours = 2\n",
    "        else:\n",
    "            hours = float('nan')\n",
    "        try:\n",
    "            if weather_dict.weather[val]['precipIntensity'] > 0:\n",
    "                print weather_dict.weather[val]['precipType']\n",
    "                if weather_dict.weather[val]['precipType'] == 'snow':\n",
    "                    summed_by_date.set_value(val, 'snow', 1)\n",
    "                else:\n",
    "                    summed_by_date.set_value(val, 'rain', 1)\n",
    "            else:\n",
    "                summed_by_date.set_value(val, 'snow', 0)\n",
    "                summed_by_date.set_value(val, 'rain', 0)\n",
    "                \n",
    "\n",
    "            summed_by_date.set_value(val, 'Temperature', weather_dict.weather[val][\"temperatureMax\"])\n",
    "            summed_by_date.set_value(val, 'precipitation', weather_dict.weather[val]['precipIntensity'])\n",
    "            summed_by_date.set_value(val, 'cloud_cover', weather_dict.weather[val]['cloudCover'])\n",
    "            summed_by_date.set_value(val, \"day\", the_date.weekday())\n",
    "            summed_by_date.set_value(val, \"visits_per_hour\", summed_by_date.loc[val][\"total_visitors\"]/(1.0*hours))\n",
    "            summed_by_date.set_value(val, \"returns_per_hour\", summed_by_date.loc[val][\"total_returns\"]/(1.0*hours))\n",
    "            summed_by_date.set_value(val, \"new_per_hour\", summed_by_date.loc[val][\"total_new\"]/(1.0*hours))\n",
    "            summed_by_date.set_value(val, \"from_11201_per_hour\", summed_by_date.loc[val][\"from_11201\"]/(1.0*hours))\n",
    "        except:\n",
    "            print val\n",
    "\n",
    "        \n",
    "        #print val, weather_dict.weather[val][\"temperatureMax\"]\n",
    "        "
   ]
  },
  {
   "cell_type": "code",
   "execution_count": 183,
   "metadata": {
    "collapsed": false
   },
   "outputs": [
    {
     "name": "stdout",
     "output_type": "stream",
     "text": [
      "dates       total_visitors  total_returns  total_new Temperature  from_11201  \\\n",
      "2016-06-02              35             11         24       69.37          13   \n",
      "2016-06-04             148             26        122       78.86          35   \n",
      "2016-06-09              59             19         40       73.45          24   \n",
      "2016-06-11              77             32         45          88          23   \n",
      "2016-06-12             129             26        103        83.2          28   \n",
      "2016-06-14              32             18         14       79.55          21   \n",
      "2016-06-16              42             20         22          74          32   \n",
      "2016-06-18             135             27        104       81.02          30   \n",
      "2016-06-19             131             17        114       77.87          26   \n",
      "2016-06-21              24             10         14       87.55          12   \n",
      "2016-06-23              27              7         20       78.98          14   \n",
      "2016-06-25              74             15         59       80.09          19   \n",
      "2016-06-26             176             30        146       81.84          22   \n",
      "2016-06-28              39             19         20        74.1          28   \n",
      "2016-06-30              43             21         22       82.09          13   \n",
      "2016-07-02              94             12         82       77.55          11   \n",
      "2016-07-03             118             15        103          81          27   \n",
      "2016-07-05              52             13         39       88.55          15   \n",
      "2016-07-07              20              7         13       87.51          14   \n",
      "2016-07-09              76             24         52       70.01          24   \n",
      "2016-07-10             132             12        120       79.12          23   \n",
      "2016-07-12              42             11         31       78.29          17   \n",
      "2016-07-14              16              0         16       85.31           2   \n",
      "2016-07-16             107             21         86       86.42          24   \n",
      "2016-07-17              78              5         74       89.68           5   \n",
      "2016-07-19              38              9         29       82.56          13   \n",
      "2016-07-21              37             17         20       83.82          17   \n",
      "2016-07-23              53             14         39       94.54          15   \n",
      "2016-07-24              69             21         48       86.09          13   \n",
      "2016-07-26              22              5         17       90.45           7   \n",
      "...                    ...            ...        ...         ...         ...   \n",
      "2016-10-02             107             30         77          65          46   \n",
      "2016-10-04              51             29         20          71          34   \n",
      "2016-10-06              29             22          7          72          25   \n",
      "2016-10-08              51             18         33          70          19   \n",
      "2016-10-09              51             27         24          55          31   \n",
      "2016-10-11              22             17          5                      22   \n",
      "2016-10-13              28             17         11                      26   \n",
      "2016-10-15              83             28         55          62          25   \n",
      "2016-10-18              34             27          7          82          30   \n",
      "2016-10-20              53             24         29                      25   \n",
      "2016-10-22              50             21         29          46          23   \n",
      "2016-10-23              86             15         71          57          21   \n",
      "2016-10-25              35             32          3          54          33   \n",
      "2016-10-27              25             21          4                      21   \n",
      "2016-10-29              50             23         27          54          23   \n",
      "2016-10-30              83             16         67          73          20   \n",
      "2016-11-03              18             13          5          70          13   \n",
      "2016-11-05              79             18         61          59          20   \n",
      "2016-11-06              87             52         35          58          55   \n",
      "2016-11-08              64             42         22          62          48   \n",
      "2016-11-10              29             23          6          55          25   \n",
      "2016-11-13             114             38         76          58          42   \n",
      "2016-11-15              34             24         10          52          32   \n",
      "2016-11-17              27             20          7          61          19   \n",
      "2016-11-19             128             54         74          60          56   \n",
      "2016-11-20              11              5          6          41           5   \n",
      "2016-11-22              24             16          8          42          17   \n",
      "2016-11-29               9              9          0          58           9   \n",
      "2016-12-03              15             10          5          47          11   \n",
      "2026-07-24               3              0          3          90           0   \n",
      "\n",
      "dates       visits_per_hour  returns_per_hour  new_per_hour  \\\n",
      "2016-06-02            17.50              5.50         12.00   \n",
      "2016-06-04            37.00              6.50         30.50   \n",
      "2016-06-09            29.50              9.50         20.00   \n",
      "2016-06-11            19.25              8.00         11.25   \n",
      "2016-06-12            32.25              6.50         25.75   \n",
      "2016-06-14            16.00              9.00          7.00   \n",
      "2016-06-16            21.00             10.00         11.00   \n",
      "2016-06-18            33.75              6.75         26.00   \n",
      "2016-06-19            32.75              4.25         28.50   \n",
      "2016-06-21            12.00              5.00          7.00   \n",
      "2016-06-23            13.50              3.50         10.00   \n",
      "2016-06-25            18.50              3.75         14.75   \n",
      "2016-06-26            44.00              7.50         36.50   \n",
      "2016-06-28            19.50              9.50         10.00   \n",
      "2016-06-30            21.50             10.50         11.00   \n",
      "2016-07-02            23.50              3.00         20.50   \n",
      "2016-07-03            29.50              3.75         25.75   \n",
      "2016-07-05            26.00              6.50         19.50   \n",
      "2016-07-07            10.00              3.50          6.50   \n",
      "2016-07-09            19.00              6.00         13.00   \n",
      "2016-07-10            33.00              3.00         30.00   \n",
      "2016-07-12            21.00              5.50         15.50   \n",
      "2016-07-14             8.00              0.00          8.00   \n",
      "2016-07-16            26.75              5.25         21.50   \n",
      "2016-07-17            19.50              1.25         18.50   \n",
      "2016-07-19            19.00              4.50         14.50   \n",
      "2016-07-21            18.50              8.50         10.00   \n",
      "2016-07-23            13.25              3.50          9.75   \n",
      "2016-07-24            17.25              5.25         12.00   \n",
      "2016-07-26            11.00              2.50          8.50   \n",
      "...                     ...               ...           ...   \n",
      "2016-10-02              NaN               NaN           NaN   \n",
      "2016-10-04              NaN               NaN           NaN   \n",
      "2016-10-06              NaN               NaN           NaN   \n",
      "2016-10-08              NaN               NaN           NaN   \n",
      "2016-10-09              NaN               NaN           NaN   \n",
      "2016-10-11              NaN               NaN           NaN   \n",
      "2016-10-13              NaN               NaN           NaN   \n",
      "2016-10-15              NaN               NaN           NaN   \n",
      "2016-10-18              NaN               NaN           NaN   \n",
      "2016-10-20              NaN               NaN           NaN   \n",
      "2016-10-22              NaN               NaN           NaN   \n",
      "2016-10-23              NaN               NaN           NaN   \n",
      "2016-10-25              NaN               NaN           NaN   \n",
      "2016-10-27              NaN               NaN           NaN   \n",
      "2016-10-29              NaN               NaN           NaN   \n",
      "2016-10-30              NaN               NaN           NaN   \n",
      "2016-11-03              NaN               NaN           NaN   \n",
      "2016-11-05              NaN               NaN           NaN   \n",
      "2016-11-06              NaN               NaN           NaN   \n",
      "2016-11-08              NaN               NaN           NaN   \n",
      "2016-11-10              NaN               NaN           NaN   \n",
      "2016-11-13              NaN               NaN           NaN   \n",
      "2016-11-15              NaN               NaN           NaN   \n",
      "2016-11-17              NaN               NaN           NaN   \n",
      "2016-11-19              NaN               NaN           NaN   \n",
      "2016-11-20              NaN               NaN           NaN   \n",
      "2016-11-22              NaN               NaN           NaN   \n",
      "2016-11-29              NaN               NaN           NaN   \n",
      "2016-12-03              NaN               NaN           NaN   \n",
      "2026-07-24              NaN               NaN           NaN   \n",
      "\n",
      "dates       from_11201_per_hour day  month  year  precipitation  cloud_cover  \\\n",
      "2016-06-02                 6.50   3      6  2016         0.0000         0.55   \n",
      "2016-06-04                 8.75   5      6  2016         0.0052         0.88   \n",
      "2016-06-09                12.00   3      6  2016         0.0000         0.28   \n",
      "2016-06-11                 5.75   5      6  2016         0.0023         0.45   \n",
      "2016-06-12                 7.00   6      6  2016         0.0000         0.27   \n",
      "2016-06-14                10.50   1      6  2016         0.0000         0.31   \n",
      "2016-06-16                16.00   3      6  2016         0.0027         0.88   \n",
      "2016-06-18                 7.50   5      6  2016         0.0000         0.24   \n",
      "2016-06-19                 6.50   6      6  2016         0.0000         0.43   \n",
      "2016-06-21                 6.00   1      6  2016         0.0000         0.47   \n",
      "2016-06-23                 7.00   3      6  2016         0.0000         0.57   \n",
      "2016-06-25                 4.75   5      6  2016         0.0000         0.22   \n",
      "2016-06-26                 5.50   6      6  2016         0.0000         0.41   \n",
      "2016-06-28                14.00   1      6  2016         0.0144         0.91   \n",
      "2016-06-30                 6.50   3      6  2016         0.0000         0.21   \n",
      "2016-07-02                 2.75   5      6  2016         0.0000         0.44   \n",
      "2016-07-03                 6.75   6      6  2016         0.0000         0.71   \n",
      "2016-07-05                 7.50   1      6  2016         0.0272         0.70   \n",
      "2016-07-07                 7.00   3      6  2016         0.0006         0.44   \n",
      "2016-07-09                 6.00   5      6  2016         0.0048         1.00   \n",
      "2016-07-10                 5.75   6      6  2016         0.0015         0.59   \n",
      "2016-07-12                 8.50   1      6  2016         0.0000         0.40   \n",
      "2016-07-14                 1.00   3      6  2016         0.0242         0.48   \n",
      "2016-07-16                 6.00   5      6  2016         0.0178         0.49   \n",
      "2016-07-17                 1.25   6      6  2016         0.0000         0.41   \n",
      "2016-07-19                 6.50   1      6  2016         0.0000         0.44   \n",
      "2016-07-21                 8.50   3      6  2016         0.0000         0.33   \n",
      "2016-07-23                 3.75   5      6  2016         0.0000         0.31   \n",
      "2016-07-24                 3.25   6      6  2016         0.0000         0.33   \n",
      "2016-07-26                 3.50   1      6  2016         0.0000         0.38   \n",
      "...                         ...  ..    ...   ...            ...          ...   \n",
      "2016-10-02                  NaN          6  2016            NaN          NaN   \n",
      "2016-10-04                  NaN          6  2016            NaN          NaN   \n",
      "2016-10-06                  NaN          6  2016            NaN          NaN   \n",
      "2016-10-08                  NaN          6  2016            NaN          NaN   \n",
      "2016-10-09                  NaN          6  2016            NaN          NaN   \n",
      "2016-10-11                  NaN          6  2016            NaN          NaN   \n",
      "2016-10-13                  NaN          6  2016            NaN          NaN   \n",
      "2016-10-15                  NaN          6  2016            NaN          NaN   \n",
      "2016-10-18                  NaN          6  2016            NaN          NaN   \n",
      "2016-10-20                  NaN          6  2016            NaN          NaN   \n",
      "2016-10-22                  NaN          6  2016            NaN          NaN   \n",
      "2016-10-23                  NaN          6  2016            NaN          NaN   \n",
      "2016-10-25                  NaN          6  2016            NaN          NaN   \n",
      "2016-10-27                  NaN          6  2016            NaN          NaN   \n",
      "2016-10-29                  NaN          6  2016            NaN          NaN   \n",
      "2016-10-30                  NaN          6  2016            NaN          NaN   \n",
      "2016-11-03                  NaN          6  2016            NaN          NaN   \n",
      "2016-11-05                  NaN          6  2016            NaN          NaN   \n",
      "2016-11-06                  NaN          6  2016            NaN          NaN   \n",
      "2016-11-08                  NaN          6  2016            NaN          NaN   \n",
      "2016-11-10                  NaN          6  2016            NaN          NaN   \n",
      "2016-11-13                  NaN          6  2016            NaN          NaN   \n",
      "2016-11-15                  NaN          6  2016            NaN          NaN   \n",
      "2016-11-17                  NaN          6  2016            NaN          NaN   \n",
      "2016-11-19                  NaN          6  2016            NaN          NaN   \n",
      "2016-11-20                  NaN          6  2016            NaN          NaN   \n",
      "2016-11-22                  NaN          6  2016            NaN          NaN   \n",
      "2016-11-29                  NaN          6  2016            NaN          NaN   \n",
      "2016-12-03                  NaN          6  2016            NaN          NaN   \n",
      "2026-07-24                  NaN          6  2016            NaN          NaN   \n",
      "\n",
      "dates       snow  rain  \n",
      "2016-06-02   0.0   0.0  \n",
      "2016-06-04   NaN   1.0  \n",
      "2016-06-09   0.0   0.0  \n",
      "2016-06-11   NaN   1.0  \n",
      "2016-06-12   0.0   0.0  \n",
      "2016-06-14   0.0   0.0  \n",
      "2016-06-16   NaN   1.0  \n",
      "2016-06-18   0.0   0.0  \n",
      "2016-06-19   0.0   0.0  \n",
      "2016-06-21   0.0   0.0  \n",
      "2016-06-23   0.0   0.0  \n",
      "2016-06-25   0.0   0.0  \n",
      "2016-06-26   0.0   0.0  \n",
      "2016-06-28   NaN   1.0  \n",
      "2016-06-30   0.0   0.0  \n",
      "2016-07-02   0.0   0.0  \n",
      "2016-07-03   0.0   0.0  \n",
      "2016-07-05   NaN   1.0  \n",
      "2016-07-07   NaN   1.0  \n",
      "2016-07-09   NaN   1.0  \n",
      "2016-07-10   NaN   1.0  \n",
      "2016-07-12   0.0   0.0  \n",
      "2016-07-14   NaN   1.0  \n",
      "2016-07-16   NaN   1.0  \n",
      "2016-07-17   0.0   0.0  \n",
      "2016-07-19   0.0   0.0  \n",
      "2016-07-21   0.0   0.0  \n",
      "2016-07-23   0.0   0.0  \n",
      "2016-07-24   0.0   0.0  \n",
      "2016-07-26   0.0   0.0  \n",
      "...          ...   ...  \n",
      "2016-10-02   NaN   NaN  \n",
      "2016-10-04   NaN   NaN  \n",
      "2016-10-06   NaN   NaN  \n",
      "2016-10-08   NaN   NaN  \n",
      "2016-10-09   NaN   NaN  \n",
      "2016-10-11   NaN   NaN  \n",
      "2016-10-13   NaN   NaN  \n",
      "2016-10-15   NaN   NaN  \n",
      "2016-10-18   NaN   NaN  \n",
      "2016-10-20   NaN   NaN  \n",
      "2016-10-22   NaN   NaN  \n",
      "2016-10-23   NaN   NaN  \n",
      "2016-10-25   NaN   NaN  \n",
      "2016-10-27   NaN   NaN  \n",
      "2016-10-29   NaN   NaN  \n",
      "2016-10-30   NaN   NaN  \n",
      "2016-11-03   NaN   NaN  \n",
      "2016-11-05   NaN   NaN  \n",
      "2016-11-06   NaN   NaN  \n",
      "2016-11-08   NaN   NaN  \n",
      "2016-11-10   NaN   NaN  \n",
      "2016-11-13   NaN   NaN  \n",
      "2016-11-15   NaN   NaN  \n",
      "2016-11-17   NaN   NaN  \n",
      "2016-11-19   NaN   NaN  \n",
      "2016-11-20   NaN   NaN  \n",
      "2016-11-22   NaN   NaN  \n",
      "2016-11-29   NaN   NaN  \n",
      "2016-12-03   NaN   NaN  \n",
      "2026-07-24   NaN   NaN  \n",
      "\n",
      "[92 rows x 16 columns]\n"
     ]
    }
   ],
   "source": [
    "print summed_by_date\n"
   ]
  },
  {
   "cell_type": "code",
   "execution_count": 239,
   "metadata": {
    "collapsed": false
   },
   "outputs": [
    {
     "name": "stdout",
     "output_type": "stream",
     "text": [
      "hot\n",
      "nan 80\n",
      "nan 88\n",
      "nan 81\n",
      "nan 80\n",
      "nan 81\n",
      "nan 79\n",
      "nan 83\n",
      "nan 61\n",
      "nan 73\n",
      "nan 72\n",
      "nan \n",
      "nan \n",
      "nan 65\n",
      "nan 71\n",
      "nan 72\n",
      "nan 70\n",
      "nan 55\n",
      "nan \n",
      "nan \n",
      "nan 62\n",
      "nan 82\n",
      "nan \n",
      "nan 46\n",
      "nan 57\n",
      "nan 54\n",
      "nan \n",
      "nan 54\n",
      "nan 73\n",
      "nan 70\n",
      "nan 59\n",
      "nan 58\n",
      "nan 62\n",
      "nan 55\n",
      "nan 58\n",
      "nan 52\n",
      "nan 61\n",
      "nan 60\n",
      "nan 41\n",
      "nan 42\n",
      "nan 58\n",
      "nan 47\n",
      "nan 90\n",
      "1\n",
      "17.5\n",
      "49\n",
      "23.0765306122\n"
     ]
    }
   ],
   "source": [
    "cloudy_total = 0\n",
    "cloudy_count = 0\n",
    "clear_total = 0\n",
    "clear_count = 0\n",
    "for index, row in summed_by_date.iterrows():\n",
    "    #print row[\"Temperature\"]\n",
    "    #print math.isnan(row['visits_per_hour'])\n",
    "    if math.isnan(row['visits_per_hour']) or math.isnan(row[\"Temperature\"]):\n",
    "        #print \"fail\"\n",
    "        print row['visits_per_hour'], row['Temperature']\n",
    "    else:\n",
    "        #print \"good\"\n",
    "        #print row['visits_per_hour'], row['Temperature']\n",
    "        #print \"good\"\n",
    "        if float(row['Temperature']) < 70:\n",
    "            print \"hot\"\n",
    "            #print row['visits_per_hour']\n",
    "            #print index\n",
    "            clear_total += row['visits_per_hour']\n",
    "            clear_count += 1\n",
    "            #print row['precipitation']\n",
    "\n",
    "        elif float(row['Temperature']) > 70:\n",
    "            #print \"cold\"\n",
    "            cloudy_total += row['visits_per_hour']\n",
    "            cloudy_count +=1\n",
    "            #print row['precipitation']\n",
    "    \n",
    "        \n",
    "print clear_count\n",
    "print 1.0*clear_total/clear_count\n",
    "print cloudy_count\n",
    "print 1.0*cloudy_total/cloudy_count"
   ]
  },
  {
   "cell_type": "code",
   "execution_count": null,
   "metadata": {
    "collapsed": false
   },
   "outputs": [],
   "source": []
  },
  {
   "cell_type": "code",
   "execution_count": null,
   "metadata": {
    "collapsed": false
   },
   "outputs": [],
   "source": []
  },
  {
   "cell_type": "code",
   "execution_count": null,
   "metadata": {
    "collapsed": true
   },
   "outputs": [],
   "source": []
  }
 ],
 "metadata": {
  "anaconda-cloud": {},
  "kernelspec": {
   "display_name": "Python [default]",
   "language": "python",
   "name": "python2"
  },
  "language_info": {
   "codemirror_mode": {
    "name": "ipython",
    "version": 2
   },
   "file_extension": ".py",
   "mimetype": "text/x-python",
   "name": "python",
   "nbconvert_exporter": "python",
   "pygments_lexer": "ipython2",
   "version": "2.7.12"
  }
 },
 "nbformat": 4,
 "nbformat_minor": 1
}
