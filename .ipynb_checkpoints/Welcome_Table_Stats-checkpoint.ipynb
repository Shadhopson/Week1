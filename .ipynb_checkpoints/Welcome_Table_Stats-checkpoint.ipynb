{
 "cells": [
  {
   "cell_type": "code",
   "execution_count": 52,
   "metadata": {
    "collapsed": false
   },
   "outputs": [],
   "source": [
    "#Important values:\n",
    "#welcome_table_june is the original csv, the values are turned from strings into more useable forms but should be unchanged\n",
    "#\n",
    "import unicodecsv\n",
    "import math\n",
    "import numpy\n",
    "import matplotlib.pyplot as plt\n",
    "from datetime import datetime as dt"
   ]
  },
  {
   "cell_type": "markdown",
   "metadata": {},
   "source": [
    "# Cleaning the Data"
   ]
  },
  {
   "cell_type": "code",
   "execution_count": 53,
   "metadata": {
    "collapsed": true
   },
   "outputs": [],
   "source": [
    "def read_csv(filename):\n",
    "    with open(filename, 'rb') as f:\n",
    "        reader = unicodecsv.DictReader(f)\n",
    "        return list(reader)"
   ]
  },
  {
   "cell_type": "code",
   "execution_count": 54,
   "metadata": {
    "collapsed": false
   },
   "outputs": [],
   "source": [
    "csv_list = []\n",
    "welcome_table_june = read_csv('Welcome_Table_All_Dates.csv')\n"
   ]
  },
  {
   "cell_type": "code",
   "execution_count": 55,
   "metadata": {
    "collapsed": false
   },
   "outputs": [],
   "source": [
    "def set_to_int(column_name):\n",
    "    for row in welcome_table_june:\n",
    "        if row[column_name].strip() == \"\":\n",
    "            row[column_name] = 0\n",
    "        row[column_name] = int(row[column_name])\n"
   ]
  },
  {
   "cell_type": "code",
   "execution_count": 56,
   "metadata": {
    "collapsed": false
   },
   "outputs": [],
   "source": [
    "set_to_int('# Returns')"
   ]
  },
  {
   "cell_type": "code",
   "execution_count": 57,
   "metadata": {
    "collapsed": true
   },
   "outputs": [],
   "source": [
    "set_to_int('# New')"
   ]
  },
  {
   "cell_type": "code",
   "execution_count": 58,
   "metadata": {
    "collapsed": true
   },
   "outputs": [],
   "source": [
    "set_to_int('# in Group')"
   ]
  },
  {
   "cell_type": "code",
   "execution_count": 59,
   "metadata": {
    "collapsed": true
   },
   "outputs": [],
   "source": [
    "def parse_date(date):\n",
    "    if date == '':\n",
    "        return None\n",
    "    else:\n",
    "        try:\n",
    "            return dt.strptime(date, '%m/%d/%Y')\n",
    "        except:\n",
    "            return dt.strptime(date, '%m/%d/%y')"
   ]
  },
  {
   "cell_type": "code",
   "execution_count": 60,
   "metadata": {
    "collapsed": false
   },
   "outputs": [],
   "source": [
    "for row in welcome_table_june:\n",
    "    try:\n",
    "        if len(row['Date']) > 4:\n",
    "            new_date = row['Date']\n",
    "        row['Date'] = parse_date(new_date)\n",
    "    except:\n",
    "        print row['Date']"
   ]
  },
  {
   "cell_type": "markdown",
   "metadata": {
    "collapsed": false
   },
   "source": [
    "## Grouping the Data by Date"
   ]
  },
  {
   "cell_type": "code",
   "execution_count": 61,
   "metadata": {
    "collapsed": true
   },
   "outputs": [],
   "source": [
    "# make compiled list by date\n",
    "from collections import defaultdict"
   ]
  },
  {
   "cell_type": "code",
   "execution_count": 62,
   "metadata": {
    "collapsed": true
   },
   "outputs": [],
   "source": [
    "welcome_table_stats_by_date = defaultdict(list)"
   ]
  },
  {
   "cell_type": "code",
   "execution_count": 63,
   "metadata": {
    "collapsed": false
   },
   "outputs": [],
   "source": [
    "for row in welcome_table_june:\n",
    "    welcome_table_stats_by_date[str(row[\"Date\"]).split(' ',1)[0]].append(row)"
   ]
  },
  {
   "cell_type": "code",
   "execution_count": 64,
   "metadata": {
    "collapsed": false
   },
   "outputs": [],
   "source": [
    "\n",
    "#Collecting the total information for each date\n",
    "\n",
    "summed_by_date = {}\n",
    "for key in welcome_table_stats_by_date:\n",
    "    total_visitors = 0\n",
    "    total_new = 0\n",
    "    total_returns = 0\n",
    "    weather = \"\"\n",
    "    temperature = \"\"\n",
    "    local = 0\n",
    "    fake = False\n",
    "    for visit in welcome_table_stats_by_date[key]:\n",
    "        if visit[\"Zip code\"]:\n",
    "            total_visitors += visit[\"# in Group\"]\n",
    "            total_new += visit[\"# New\"]\n",
    "            total_returns += visit[\"# Returns\"]\n",
    "        else:\n",
    "            fake = True\n",
    "        if(visit[\"Zip code\"] == \"11201\"):\n",
    "            local += visit[\"# in Group\"]\n",
    "        if (visit[\"Temperature\"]):\n",
    "            temperature = visit[\"Temperature\"]\n",
    "    if total_visitors != 0 and not fake:\n",
    "        summed_by_date[key] = {\"total_visitors\": total_visitors, \"total_new\": total_new, \"total_returns\":total_returns,\"from_11201\": local, \"Temperature\": temperature}"
   ]
  },
  {
   "cell_type": "code",
   "execution_count": 65,
   "metadata": {
    "collapsed": true
   },
   "outputs": [],
   "source": [
    "import pandas"
   ]
  },
  {
   "cell_type": "code",
   "execution_count": 66,
   "metadata": {
    "collapsed": false
   },
   "outputs": [],
   "source": [
    "summed_by_date =  pandas.DataFrame.from_dict(summed_by_date, orient = 'index' )"
   ]
  },
  {
   "cell_type": "code",
   "execution_count": 67,
   "metadata": {
    "collapsed": false
   },
   "outputs": [],
   "source": [
    "summed_by_date.to_csv('welcome_table_summed.csv', sep =',')"
   ]
  },
  {
   "cell_type": "markdown",
   "metadata": {},
   "source": [
    "# Adding Weather Data From Weather Site and Adding Per Hour Values"
   ]
  },
  {
   "cell_type": "code",
   "execution_count": 68,
   "metadata": {
    "collapsed": false
   },
   "outputs": [],
   "source": [
    "import json\n",
    "\n",
    "# load from file:\n",
    "with open('past_weather.json', 'r') as f:\n",
    "    try:\n",
    "        weather_dict = json.load(f)\n",
    "    # if the file is empty the ValueError will be thrown\n",
    "    except ValueError:\n",
    "        data = {}"
   ]
  },
  {
   "cell_type": "code",
   "execution_count": 69,
   "metadata": {
    "collapsed": false,
    "scrolled": true
   },
   "outputs": [],
   "source": [
    "summed_by_date[\"visits_per_hour\"] = float('nan')\n",
    "summed_by_date[\"returns_per_hour\"] = float('nan')\n",
    "summed_by_date[\"new_per_hour\"] = float('nan')\n",
    "summed_by_date[\"from_11201_per_hour\"] = float('nan')\n",
    "summed_by_date[\"day\"] = \"\"\n",
    "summed_by_date[\"month\"] = 6\n",
    "summed_by_date[\"year\"] = 2016\n",
    "summed_by_date[\"given_temp\"] = summed_by_date[\"Temperature\"]\n",
    "summed_by_date[\"precipitation\"] =  float('nan')\n",
    "summed_by_date[\"cloud_cover\"] = float('nan')\n",
    "summed_by_date[\"snow\"] = float('nan')\n",
    "summed_by_date[\"rain\"] = float('nan')\n",
    "summed_by_date.total_returns = summed_by_date.total_returns.astype(float)\n",
    "summed_by_date.total_new = summed_by_date.total_new.astype(float)\n",
    "summed_by_date.from_11201 = summed_by_date.from_11201.astype(float)\n",
    "        \n",
    "for val in summed_by_date.index.values:\n",
    "    if summed_by_date.loc[val]['total_visitors'] != 0 and summed_by_date.loc[val]['total_returns'] <1 and summed_by_date.loc[val]['total_new'] <1:\n",
    "        summed_by_date.set_value(val,'total_returns', float('nan'))\n",
    "        summed_by_date.set_value(val, 'total_new', float('nan'))\n",
    "    if val != 'None':\n",
    "        the_date = dt.strptime(val, \"%Y-%m-%d\")\n",
    "        if the_date < dt.strptime(\"2016-02-06\", \"%Y-%m-%d\"):\n",
    "            summed_by_date.set_value(val,'from_11201', float('nan'))\n",
    "        if the_date.weekday() >= 5:\n",
    "            hours = 4\n",
    "        elif the_date.weekday() == 1 or  the_date.weekday() == 3:\n",
    "            hours = 2\n",
    "        else:\n",
    "            hours = 2\n",
    "        try:\n",
    "            if weather_dict[val][0]['precipIntensity'] > 0:\n",
    "                if weather_dict[val][0]['precipType'] == 'snow':\n",
    "                    summed_by_date.set_value(val, 'snow', 1)\n",
    "                    summed_by_date.set_value(val, 'rain', 0)\n",
    "                elif weather_dict[val][0]['precipType'] == 'rain':\n",
    "                    summed_by_date.set_value(val, 'rain', 1)\n",
    "                    summed_by_date.set_value(val, 'snow', 0)\n",
    "                else:\n",
    "                    print weather_dict[val][0]['precipType']\n",
    "            else:\n",
    "                summed_by_date.set_value(val, 'snow', 0)\n",
    "                summed_by_date.set_value(val, 'rain', 0)\n",
    "                \n",
    "            summed_by_date.set_value(val, 'Temperature', weather_dict[val][0][\"temperatureMax\"])\n",
    "            summed_by_date.set_value(val, 'precipitation', weather_dict[val][0]['precipIntensity'])\n",
    "            summed_by_date.set_value(val, 'cloud_cover', weather_dict[val][0]['cloudCover'])\n",
    "            summed_by_date.set_value(val, \"day\", the_date.weekday())\n",
    "            summed_by_date.set_value(val, \"month\", the_date.month)\n",
    "            summed_by_date.set_value(val, \"year\", the_date.year)\n",
    "            summed_by_date.set_value(val, \"visits_per_hour\", summed_by_date.loc[val][\"total_visitors\"]/(1.0*hours))\n",
    "            summed_by_date.set_value(val, \"returns_per_hour\", summed_by_date.loc[val][\"total_returns\"]/(1.0*hours))\n",
    "            summed_by_date.set_value(val, \"new_per_hour\", summed_by_date.loc[val][\"total_new\"]/(1.0*hours))\n",
    "            summed_by_date.set_value(val, \"from_11201_per_hour\", summed_by_date.loc[val][\"from_11201\"]/(1.0*hours))\n",
    "            \n",
    "        except:\n",
    "            print val\n",
    "\n",
    "        \n",
    "        \n",
    "        "
   ]
  },
  {
   "cell_type": "markdown",
   "metadata": {
    "collapsed": false
   },
   "source": [
    "## Create Excel Like Form of Data and Saving it to a File"
   ]
  },
  {
   "cell_type": "code",
   "execution_count": 70,
   "metadata": {
    "collapsed": false
   },
   "outputs": [],
   "source": [
    "summed_by_date.to_csv('advanced_welcome_table_summed.csv', sep =',')\n",
    "#Uncomment the following line to see the data here as well\n",
    "#print summed_by_date"
   ]
  },
  {
   "cell_type": "code",
   "execution_count": 71,
   "metadata": {
    "collapsed": false
   },
   "outputs": [],
   "source": [
    "import matplotlib.pyplot as plt\n",
    "import numpy as np"
   ]
  },
  {
   "cell_type": "code",
   "execution_count": 72,
   "metadata": {
    "collapsed": true
   },
   "outputs": [],
   "source": [
    "import matplotlib"
   ]
  },
  {
   "cell_type": "code",
   "execution_count": 73,
   "metadata": {
    "collapsed": true
   },
   "outputs": [],
   "source": [
    "matplotlib.style.use('ggplot')"
   ]
  },
  {
   "cell_type": "code",
   "execution_count": 74,
   "metadata": {
    "collapsed": false
   },
   "outputs": [],
   "source": [
    "%matplotlib inline"
   ]
  },
  {
   "cell_type": "markdown",
   "metadata": {
    "collapsed": false
   },
   "source": [
    "# Averages"
   ]
  },
  {
   "cell_type": "markdown",
   "metadata": {
    "collapsed": false
   },
   "source": [
    "#### Average Visitors Per Hour"
   ]
  },
  {
   "cell_type": "code",
   "execution_count": 75,
   "metadata": {
    "collapsed": false,
    "scrolled": true
   },
   "outputs": [
    {
     "name": "stdout",
     "output_type": "stream",
     "text": [
      "19.1529017857\n"
     ]
    }
   ],
   "source": [
    "avg_visits_per_hour =  summed_by_date['visits_per_hour'].mean()\n",
    "print avg_visits_per_hour"
   ]
  },
  {
   "cell_type": "markdown",
   "metadata": {},
   "source": [
    "#### Average Visitors Per Hour By Day of the Week"
   ]
  },
  {
   "cell_type": "code",
   "execution_count": 76,
   "metadata": {
    "collapsed": false
   },
   "outputs": [
    {
     "name": "stdout",
     "output_type": "stream",
     "text": [
      "Tuesday: 15.9404761905\n",
      "Thursday: 16.725\n",
      "Saturday: 21.25\n",
      "Sunday: 22.7245762712\n"
     ]
    }
   ],
   "source": [
    "avg_sunday =  summed_by_date.loc[lambda summed_by_date: summed_by_date.day == 6, :][\"visits_per_hour\"].mean()\n",
    "avg_saturday = summed_by_date.loc[lambda summed_by_date: summed_by_date.day == 5, :][\"visits_per_hour\"].mean()\n",
    "avg_tuesday = summed_by_date.loc[lambda summed_by_date: summed_by_date.day == 1, :][\"visits_per_hour\"].mean()\n",
    "avg_thursday =  summed_by_date.loc[lambda summed_by_date: summed_by_date.day == 3, :][\"visits_per_hour\"].mean()\n",
    "\n",
    "print \"Tuesday: \" + str(avg_tuesday)\n",
    "print \"Thursday: \" + str(avg_thursday)\n",
    "print \"Saturday: \" + str(avg_saturday)\n",
    "print \"Sunday: \" + str(avg_sunday)\n",
    "\n",
    "#y = [avg_tuesday, avg_thursday, avg_saturday, avg_sunday]\n",
    "#N = len(y)\n",
    "#x = range(N)\n",
    "#width = 1/1.5\n",
    "#plt.bar(x, y, width, color=\"blue\")\n",
    "#plt.xticks(x, ['Tues', \"Thurs\", \"Sat\", \"Sun\"])\n",
    "#plt.show()"
   ]
  },
  {
   "cell_type": "markdown",
   "metadata": {},
   "source": [
    "#### Average New, Returns, and 11201 Visits Per Hour "
   ]
  },
  {
   "cell_type": "code",
   "execution_count": 77,
   "metadata": {
    "collapsed": false
   },
   "outputs": [
    {
     "name": "stdout",
     "output_type": "stream",
     "text": [
      "New:     12.8682795699\n",
      "Returns: 6.61559139785\n",
      "11201:   9.05434782609\n"
     ]
    }
   ],
   "source": [
    "#Fix database so days with 0 folks can be counted, currently over estimating by about a person per hour\n",
    "avg_new = summed_by_date['new_per_hour'].mean()\n",
    "avg_return = summed_by_date['returns_per_hour'].mean()\n",
    "avg_11201 =  summed_by_date['from_11201_per_hour'].mean()\n",
    "\n",
    "print \"New:     \"+ str(avg_new)\n",
    "print \"Returns: \" + str(avg_return)\n",
    "print \"11201:   \" + str(avg_11201)"
   ]
  },
  {
   "cell_type": "markdown",
   "metadata": {},
   "source": [
    "#### Average New, Returns, and 11201 Visits Per Hour by Day "
   ]
  },
  {
   "cell_type": "code",
   "execution_count": 78,
   "metadata": {
    "collapsed": false,
    "scrolled": true
   },
   "outputs": [
    {
     "name": "stdout",
     "output_type": "stream",
     "text": [
      "Tuesday\n",
      "New:     7.63636363636\n",
      "Returns: 10.6818181818\n",
      "11201:   10.225\n",
      "\n",
      "Thursday\n",
      "New:     9.25490196078\n",
      "Returns: 7.17647058824\n",
      "11201:   10.825\n",
      "\n",
      "Saturday\n",
      "New:     16.3520408163\n",
      "Returns: 5.05612244898\n",
      "11201:   7.29487179487\n",
      "\n",
      "Sunday\n",
      "New:     17.0357142857\n",
      "Returns: 5.35204081633\n",
      "11201:   8.16875\n"
     ]
    }
   ],
   "source": [
    "def get_subsets_by_day(day):\n",
    "    day_new = summed_by_date.loc[lambda summed_by_date: summed_by_date.day == day, :]['new_per_hour'].mean() \n",
    "    day_return = summed_by_date.loc[lambda summed_by_date: summed_by_date.day == day, :]['returns_per_hour'].mean()\n",
    "    day_11201 = summed_by_date.loc[lambda summed_by_date: summed_by_date.day == day, :]['from_11201_per_hour'].mean()\n",
    "    return day_new, day_return, day_11201\n",
    "\n",
    "tues_new, tues_return, tues_11201 = get_subsets_by_day(1)\n",
    "thurs_new, thurs_return, thurs_11201 = get_subsets_by_day(3)\n",
    "sat_new, sat_return, sat_11201 = get_subsets_by_day(5)\n",
    "sun_new, sun_return, sun_11201 = get_subsets_by_day(6)\n",
    "\n",
    "print \"Tuesday\"\n",
    "print \"New:     \" + str(tues_new)\n",
    "print \"Returns: \" + str(tues_return)\n",
    "print \"11201:   \" + str(tues_11201)\n",
    "print\n",
    "print \"Thursday\"\n",
    "print \"New:     \" + str(thurs_new)\n",
    "print \"Returns: \" + str(thurs_return)\n",
    "print \"11201:   \" + str(thurs_11201)\n",
    "print\n",
    "print \"Saturday\"\n",
    "print \"New:     \" + str(sat_new)\n",
    "print \"Returns: \" + str(sat_return)\n",
    "print \"11201:   \" + str(sat_11201)\n",
    "print\n",
    "print \"Sunday\"\n",
    "print \"New:     \" + str(sun_new)\n",
    "print \"Returns: \" + str(sun_return)\n",
    "print \"11201:   \" + str(sun_11201)\n",
    "\n",
    "\n",
    "#Testing to make sure averages make sense. Checks out!\n",
    "#print\n",
    "#print 'expected average per day:'\n",
    "#print 'New: ' + str((tues_new + thurs_new + sat_new + sun_new)/4)\n",
    "#print 'Returns: ' + str((tues_return + thurs_return + sat_return + sun_return)/4)\n",
    "#print '11201: ' + str((tues_11201 + thurs_11201 + sat_11201 + sun_11201)/4)"
   ]
  },
  {
   "cell_type": "markdown",
   "metadata": {},
   "source": [
    "#### Average Hourly Visits With and Without Precipitation"
   ]
  },
  {
   "cell_type": "code",
   "execution_count": 79,
   "metadata": {
    "collapsed": false
   },
   "outputs": [
    {
     "name": "stdout",
     "output_type": "stream",
     "text": [
      "Rain:              18.2635135135\n",
      "Snow:              5.83333333333  *Only three data points*\n",
      "Any Precipitation: 17.7792207792\n",
      "No Precipitation:  19.8724489796\n",
      "\n",
      "Ratio of change between rain and none: 0.919036880269\n"
     ]
    }
   ],
   "source": [
    "avg_with_rain = summed_by_date.loc[lambda summed_by_date: summed_by_date.rain == 1, :]['visits_per_hour'].mean()\n",
    "avg_with_snow = summed_by_date.loc[lambda summed_by_date: summed_by_date.snow == 1, :]['visits_per_hour'].mean()\n",
    "avg_with_precip = summed_by_date.loc[lambda summed_by_date: summed_by_date.precipitation > 0, :]['visits_per_hour'].mean()\n",
    "avg_without_precip = summed_by_date.loc[lambda summed_by_date: summed_by_date.precipitation == 0, :]['visits_per_hour'].mean()\n",
    "\n",
    "print \"Rain:              \" + str(avg_with_rain)\n",
    "print \"Snow:              \" + str(avg_with_snow) + \"  *Only three data points*\"\n",
    "print \"Any Precipitation: \" + str(avg_with_precip)\n",
    "print \"No Precipitation:  \" + str(avg_without_precip)\n",
    "print\n",
    "print \"Ratio of change between rain and none: \"  + str(avg_with_rain/avg_without_precip)"
   ]
  },
  {
   "cell_type": "markdown",
   "metadata": {},
   "source": [
    "#### Affect of Rain on New, Returns, and 11201 Populations"
   ]
  },
  {
   "cell_type": "code",
   "execution_count": 80,
   "metadata": {
    "collapsed": false
   },
   "outputs": [
    {
     "name": "stdout",
     "output_type": "stream",
     "text": [
      "New With Rain:     12.2023809524\n",
      "Returns With Rain: 6.97222222222\n",
      "11201 With Rain:   8.70982142857\n",
      "\n",
      "New Visitors Ratio of Rain and No Rain:      0.918802947811\n",
      "Returned Visitors Ratio of Rain and No Rain: 1.07638229815\n",
      "11201 Visitors Ratio of Rain and No Rain:    0.935465700879\n"
     ]
    }
   ],
   "source": [
    "avg_with_rain_11201 = summed_by_date.loc[lambda summed_by_date: summed_by_date.rain == 1, :]['from_11201_per_hour'].mean()\n",
    "avg_with_rain_new = summed_by_date.loc[lambda summed_by_date: summed_by_date.rain == 1, :]['new_per_hour'].mean()\n",
    "avg_with_rain_return = summed_by_date.loc[lambda summed_by_date: summed_by_date.rain == 1, :]['returns_per_hour'].mean()\n",
    "\n",
    "print \"New With Rain:     \" + str(avg_with_rain_new)\n",
    "print \"Returns With Rain: \" +str(avg_with_rain_return)\n",
    "print \"11201 With Rain:   \" + str(avg_with_rain_11201)\n",
    "\n",
    "#remaining\n",
    "ratio_with_rain_11201 = avg_with_rain_11201 / summed_by_date.loc[lambda summed_by_date: summed_by_date.precipitation == 0, :]['from_11201_per_hour'].mean()\n",
    "ratio_with_rain_new = avg_with_rain_new / summed_by_date.loc[lambda summed_by_date: summed_by_date.precipitation == 0, :]['new_per_hour'].mean()\n",
    "ratio_with_rain_return = avg_with_rain_return/ summed_by_date.loc[lambda summed_by_date: summed_by_date.precipitation == 0, :]['returns_per_hour'].mean()\n",
    "\n",
    "print\n",
    "print \"New Visitors Ratio of Rain and No Rain:      \"  + str(ratio_with_rain_new)\n",
    "print \"Returned Visitors Ratio of Rain and No Rain: \" + str(ratio_with_rain_return)\n",
    "print \"11201 Visitors Ratio of Rain and No Rain:    \" + str(ratio_with_rain_11201)"
   ]
  },
  {
   "cell_type": "markdown",
   "metadata": {},
   "source": [
    "#### Temperature and Visitors Per Hour"
   ]
  },
  {
   "cell_type": "code",
   "execution_count": 81,
   "metadata": {
    "collapsed": false
   },
   "outputs": [
    {
     "name": "stdout",
     "output_type": "stream",
     "text": [
      "[  0.1369574   10.23046929]\n"
     ]
    },
    {
     "data": {
      "image/png": "[encoded data removed]",
      "text/plain": [
       "<matplotlib.figure.Figure at 0xc952128>"
      ]
     },
     "metadata": {},
     "output_type": "display_data"
    }
   ],
   "source": [
    "import numpy as np\n",
    "s = summed_by_date\n",
    "x = s['Temperature'].fillna(0)\n",
    "y = s['visits_per_hour'].fillna(0)\n",
    "try:\n",
    "    fit = np.polyfit(x,y,1)\n",
    "    fit_fn = np.poly1d(fit) \n",
    "# fit_fn is now a function which takes in x and returns an estimate for y\n",
    "except:\n",
    "    print \"no\"\n",
    "plt.plot(x,y, 'ro', x, fit_fn(x), '--k')\n",
    "plt.xlim(-20, 120)\n",
    "plt.ylim(-10, 100)\n",
    "plt.title(\"Temperature vs. Amount of Visitors Per Hour\")\n",
    "\n",
    "print fit"
   ]
  },
  {
   "cell_type": "code",
   "execution_count": 133,
   "metadata": {
    "collapsed": false
   },
   "outputs": [
    {
     "name": "stdout",
     "output_type": "stream",
     "text": [
      "no\n",
      "[  3.11289636e-03   1.91315840e+01]\n"
     ]
    },
    {
     "data": {
      "image/png": "[encoded data removed]",
      "text/plain": [
       "<matplotlib.figure.Figure at 0xb8bab00>"
      ]
     },
     "metadata": {},
     "output_type": "display_data"
    }
   ],
   "source": [
    "#uncommment for error\n",
    "import numpy as np\n",
    "s = summed_by_date\n",
    "x = s['given_temp'].fillna(0)\n",
    "y = s['visits_per_hour'].fillna(0)\n",
    "try:\n",
    "    fit = np.polyfit(x,y,1)\n",
    "    fit_fn = np.poly1d(fit) \n",
    "# fit_fn is now a function which takes in x and returns an estimate for y\n",
    "except:\n",
    "    print \"no\"\n",
    "#plt.plot(x,y, 'ro', x, fit_fn(x), '--k')\n",
    "plt.xlim(0, 12)\n",
    "plt.ylim(-10, 100)\n",
    "plt.title(\"Temperature vs. Amount of Visitors Per Hour\")\n",
    "\n",
    "print fit"
   ]
  },
  {
   "cell_type": "markdown",
   "metadata": {},
   "source": [
    "####  Amount of Precipitation and Visitors Per Hour"
   ]
  },
  {
   "cell_type": "code",
   "execution_count": 82,
   "metadata": {
    "collapsed": false
   },
   "outputs": [
    {
     "name": "stdout",
     "output_type": "stream",
     "text": [
      "[-169.05660879   19.69750558]\n"
     ]
    },
    {
     "data": {
      "image/png": "[encoded data removed]",
      "text/plain": [
       "<matplotlib.figure.Figure at 0xbabada0>"
      ]
     },
     "metadata": {},
     "output_type": "display_data"
    }
   ],
   "source": [
    "#Precipitation vs. amount of visitors. Approximately 3 less people per .01 of rain\n",
    "import numpy as np\n",
    "s = summed_by_date\n",
    "x = s['precipitation'].fillna(0)\n",
    "y = s['visits_per_hour'].fillna(0)\n",
    "try:\n",
    "    fit = np.polyfit(x,y,1)\n",
    "    fit_fn = np.poly1d(fit) \n",
    "# fit_fn is now a function which takes in x and returns an estimate for y\n",
    "except:\n",
    "    print \"no\"\n",
    "plt.plot(x,y, 'bo', x, fit_fn(x), '--k')\n",
    "plt.xlim(0, 0.06)\n",
    "plt.ylim(-10, 100)\n",
    "plt.title(\"Amount of Rain vs. Amount of Visitors Per Hour\")\n",
    "\n",
    "print fit"
   ]
  },
  {
   "cell_type": "markdown",
   "metadata": {},
   "source": [
    "#### Cloud Coverage And Visitors Per Hour"
   ]
  },
  {
   "cell_type": "code",
   "execution_count": 118,
   "metadata": {
    "collapsed": false
   },
   "outputs": [
    {
     "name": "stdout",
     "output_type": "stream",
     "text": [
      "[ -4.98545784  21.76492559]\n"
     ]
    },
    {
     "data": {
      "image/png": "[encoded data removed]",
      "text/plain": [
       "<matplotlib.figure.Figure at 0xd202cc0>"
      ]
     },
     "metadata": {},
     "output_type": "display_data"
    }
   ],
   "source": [
    "#Precipitation vs. amount of visitors. Approximately 3 less people per .01 of rain\n",
    "import numpy as np\n",
    "s = summed_by_date\n",
    "x = s['cloud_cover'].fillna(0)\n",
    "y = s['visits_per_hour'].fillna(0)\n",
    "try:\n",
    "    fit = np.polyfit(x,y,1)\n",
    "    fit_fn = np.poly1d(fit) \n",
    "# fit_fn is now a function which takes in x and returns an estimate for y\n",
    "except:\n",
    "    print \"no\"\n",
    "plt.plot(x,y, 'bo', x, fit_fn(x), '--k')\n",
    "plt.xlim(0, 1.1)\n",
    "plt.ylim(-10, 100)\n",
    "plt.title(\"Amount of Cloud Cover vs. Amount of Visitors Per Hour\")\n",
    "\n",
    "print fit"
   ]
  },
  {
   "cell_type": "code",
   "execution_count": 83,
   "metadata": {
    "collapsed": false
   },
   "outputs": [
    {
     "data": {
      "image/png": "[encoded data removed]",
      "text/plain": [
       "<matplotlib.figure.Figure at 0xc7e97f0>"
      ]
     },
     "metadata": {},
     "output_type": "display_data"
    }
   ],
   "source": [
    "#Amount of people by amount of rain\n",
    "plt.plot(summed_by_date['precipitation'], summed_by_date['visits_per_hour'], 'bo')\n",
    "plt.show()"
   ]
  },
  {
   "cell_type": "code",
   "execution_count": 84,
   "metadata": {
    "collapsed": false
   },
   "outputs": [
    {
     "name": "stdout",
     "output_type": "stream",
     "text": [
      "average of 13.1510989011 new folks\n",
      "average of 6.83611111111 returns\n"
     ]
    },
    {
     "data": {
      "image/png": "[encoded data removed]",
      "text/plain": [
       "<matplotlib.figure.Figure at 0x749f860>"
      ]
     },
     "metadata": {},
     "output_type": "display_data"
    }
   ],
   "source": [
    "#comparison of new and returns\n",
    "histogram3 = plt.figure()\n",
    "new_drop = summed_by_date.loc[lambda summed_by_date: summed_by_date.new_per_hour > 0, :]['new_per_hour'].mean()\n",
    "return_drop = summed_by_date.loc[lambda summed_by_date: summed_by_date.returns_per_hour > 0, :]['returns_per_hour'].mean()\n",
    "print \"average of \"+ str(new_drop) + \" new folks\"\n",
    "print \"average of \" + str(return_drop) + \" returns\"\n",
    "x = summed_by_date['new_per_hour'].dropna()\n",
    "y = summed_by_date['returns_per_hour'].dropna()\n",
    "\n",
    "bins = numpy.linspace(0,100,100)\n",
    "plt.hist(x, bins, alpha=1)\n",
    "plt.hist(y, bins, alpha=0.5)\n",
    "plt.xlim(1,30)\n",
    "plt.show()"
   ]
  },
  {
   "cell_type": "code",
   "execution_count": 85,
   "metadata": {
    "collapsed": false
   },
   "outputs": [
    {
     "name": "stdout",
     "output_type": "stream",
     "text": [
      "average of 13.1510989011 new folks\n",
      "average of 6.83611111111 returns\n"
     ]
    },
    {
     "data": {
      "image/png": "[encoded data removed]",
      "text/plain": [
       "<matplotlib.figure.Figure at 0x749fbe0>"
      ]
     },
     "metadata": {},
     "output_type": "display_data"
    }
   ],
   "source": [
    "histogram4 = plt.figure()\n",
    "from_11201_drop = summed_by_date.loc[lambda summed_by_date: summed_by_date.from_11201_per_hour > 0, :]['from_11201_per_hour'].mean()\n",
    "\n",
    "print \"average of \"+ str(new_drop) + \" new folks\"\n",
    "print \"average of \" + str(return_drop) + \" returns\"\n",
    "x = summed_by_date['new_per_hour'].dropna()\n",
    "y = summed_by_date['returns_per_hour'].dropna()\n",
    "\n",
    "bins = numpy.linspace(0,100,100)\n",
    "plt.hist(x, bins, alpha=1)\n",
    "plt.hist(y, bins, alpha=0.5)\n",
    "plt.xlim(1,30)\n",
    "plt.show()"
   ]
  },
  {
   "cell_type": "code",
   "execution_count": 86,
   "metadata": {
    "collapsed": false,
    "scrolled": true
   },
   "outputs": [
    {
     "data": {
      "image/png": "[encoded data removed]",
      "text/plain": [
       "<matplotlib.figure.Figure at 0xbad69b0>"
      ]
     },
     "metadata": {},
     "output_type": "display_data"
    }
   ],
   "source": [
    "#comparison of all days we're open. Shows that Tuesdays are the most random days.\n",
    "import random\n",
    "histogram=plt.figure()\n",
    "\n",
    "x = summed_by_date['visits_per_hour'].dropna()\n",
    "y = summed_by_date.loc[lambda summed_by_date: summed_by_date.day > 5, :]['visits_per_hour'].dropna()\n",
    "z = summed_by_date.loc[lambda summed_by_date: summed_by_date.day ==5, :]['visits_per_hour'].dropna()\n",
    "z1 = summed_by_date.loc[lambda summed_by_date: summed_by_date.day ==3, :]['visits_per_hour'].dropna()\n",
    "z2 = summed_by_date.loc[lambda summed_by_date: summed_by_date.day ==1, :]['visits_per_hour'].dropna()\n",
    "bins = numpy.linspace(0, 100, 25)\n",
    "#plt.subplot(221)\n",
    "#plt.hist(x, bins, alpha=0.5)\n",
    "plt.subplot(222)\n",
    "plt.hist(y, bins, alpha=1)\n",
    "plt.title('Sunday')\n",
    "plt.subplot(223)\n",
    "plt.hist(z, bins, alpha =1)\n",
    "plt.title('Saturday')\n",
    "plt.subplot(224)\n",
    "plt.hist(z1, bins, alpha = 1)\n",
    "plt.title('Thursday')\n",
    "plt.subplot(221)\n",
    "plt.hist(z2, bins, alpha = 1)\n",
    "plt.title('Tuesday')\n",
    "plt.show()"
   ]
  },
  {
   "cell_type": "code",
   "execution_count": 87,
   "metadata": {
    "collapsed": false
   },
   "outputs": [
    {
     "data": {
      "image/png": "[encoded data removed]",
      "text/plain": [
       "<matplotlib.figure.Figure at 0x747dd68>"
      ]
     },
     "metadata": {},
     "output_type": "display_data"
    }
   ],
   "source": [
    "#comparison of all days we're open. Shows that Tuesdays are the most random days.\n",
    "import random\n",
    "histogram=plt.figure()\n",
    "\n",
    "x = summed_by_date['visits_per_hour'].dropna()\n",
    "y = summed_by_date.loc[lambda summed_by_date: summed_by_date.day > 5, :]['visits_per_hour'].dropna()\n",
    "z = summed_by_date.loc[lambda summed_by_date: summed_by_date.day ==5, :]['visits_per_hour'].dropna()\n",
    "z1 = summed_by_date.loc[lambda summed_by_date: summed_by_date.day ==3, :]['visits_per_hour'].dropna()\n",
    "z2 = summed_by_date.loc[lambda summed_by_date: summed_by_date.day ==1, :]['visits_per_hour'].dropna()\n",
    "bins = numpy.linspace(0, 100, 50)\n",
    "\n",
    "plt.hist(x, bins, alpha=0.5)\n",
    "plt.hist(y, bins, alpha=1)\n",
    "plt.hist(z, bins, alpha =1)\n",
    "plt.hist(z1, bins, alpha = 1)\n",
    "plt.hist(z2, bins, alpha = 1)\n",
    "plt.show()"
   ]
  },
  {
   "cell_type": "code",
   "execution_count": 88,
   "metadata": {
    "collapsed": false,
    "scrolled": true
   },
   "outputs": [
    {
     "data": {
      "image/png": "[encoded data removed]",
      "text/plain": [
       "<matplotlib.figure.Figure at 0xb619358>"
      ]
     },
     "metadata": {},
     "output_type": "display_data"
    }
   ],
   "source": [
    "# rainy vs. Not Rainy days\n",
    "histogram2=plt.figure()\n",
    "y = summed_by_date.loc[lambda summed_by_date: summed_by_date.rain == 1, :]['visits_per_hour'].dropna()\n",
    "z = summed_by_date.loc[lambda summed_by_date: summed_by_date.rain == 0, :]['visits_per_hour'].dropna()\n",
    "plt.hist(z, bins, alpha=1)\n",
    "plt.hist(y, bins, alpha=1)\n",
    "\n",
    "plt.show()\n"
   ]
  },
  {
   "cell_type": "code",
   "execution_count": 89,
   "metadata": {
    "collapsed": false
   },
   "outputs": [
    {
     "data": {
      "image/png": "[encoded data removed]",
      "text/plain": [
       "<matplotlib.figure.Figure at 0xc92a390>"
      ]
     },
     "metadata": {},
     "output_type": "display_data"
    }
   ],
   "source": [
    "# snowy vs. Not snowy days\n",
    "histogram2=plt.figure()\n",
    "y = summed_by_date.loc[lambda summed_by_date: summed_by_date.snow == 1, :]['visits_per_hour'].dropna()\n",
    "z = summed_by_date.loc[lambda summed_by_date: summed_by_date.snow == 0, :]['visits_per_hour'].dropna()\n",
    "plt.hist(z, bins, alpha=1)\n",
    "plt.hist(y, bins, alpha=1)\n",
    "\n",
    "plt.show()"
   ]
  },
  {
   "cell_type": "code",
   "execution_count": 90,
   "metadata": {
    "collapsed": false
   },
   "outputs": [
    {
     "data": {
      "text/plain": [
       "<matplotlib.axes._subplots.AxesSubplot at 0xd26a748>"
      ]
     },
     "execution_count": 90,
     "metadata": {},
     "output_type": "execute_result"
    },
    {
     "data": {
      "image/png": "[encoded data removed]",
      "text/plain": [
       "<matplotlib.figure.Figure at 0xb15ae48>"
      ]
     },
     "metadata": {},
     "output_type": "display_data"
    }
   ],
   "source": [
    "#the amount of people visiting each hour binned\n",
    "summed_by_date.plot.hist(y = \"visits_per_hour\")"
   ]
  },
  {
   "cell_type": "code",
   "execution_count": 91,
   "metadata": {
    "collapsed": false
   },
   "outputs": [
    {
     "name": "stdout",
     "output_type": "stream",
     "text": [
      "            total_visitors  total_returns  total_new Temperature  from_11201  \\\n",
      "2016-02-18              82            NaN        NaN       36.59        74.0   \n",
      "2016-02-28             170            NaN        NaN       57.39        59.0   \n",
      "2016-04-23             362           29.0      333.0       68.46       100.0   \n",
      "2016-04-26              89           82.0        7.0       58.72        20.0   \n",
      "2016-06-26             176           30.0      146.0       81.45        22.0   \n",
      "\n",
      "            visits_per_hour  returns_per_hour  new_per_hour  \\\n",
      "2016-02-18             41.0               NaN           NaN   \n",
      "2016-02-28             42.5               NaN           NaN   \n",
      "2016-04-23             90.5              7.25         83.25   \n",
      "2016-04-26             44.5             41.00          3.50   \n",
      "2016-06-26             44.0              7.50         36.50   \n",
      "\n",
      "            from_11201_per_hour day  month  year given_temp  precipitation  \\\n",
      "2016-02-18                37.00   3      2  2016                    0.0000   \n",
      "2016-02-28                14.75   6      2  2016                    0.0000   \n",
      "2016-04-23                25.00   5      4  2016         75         0.0040   \n",
      "2016-04-26                10.00   1      4  2016         54         0.0056   \n",
      "2016-06-26                 5.50   6      6  2016         81         0.0000   \n",
      "\n",
      "            cloud_cover  snow  rain  \n",
      "2016-02-18         0.13   0.0   0.0  \n",
      "2016-02-28         0.33   0.0   0.0  \n",
      "2016-04-23         0.55   0.0   1.0  \n",
      "2016-04-26         0.88   0.0   1.0  \n",
      "2016-06-26         0.41   0.0   0.0  \n"
     ]
    }
   ],
   "source": [
    "# days that had more than 40 visitors\n",
    "print summed_by_date.loc[lambda summed_by_date: summed_by_date.visits_per_hour > 40, :]"
   ]
  },
  {
   "cell_type": "code",
   "execution_count": 92,
   "metadata": {
    "collapsed": false
   },
   "outputs": [
    {
     "name": "stdout",
     "output_type": "stream",
     "text": [
      "2016-01-18    5.5\n",
      "2016-02-09    4.0\n",
      "2016-02-11    8.0\n",
      "Name: visits_per_hour, dtype: float64\n"
     ]
    }
   ],
   "source": [
    "print summed_by_date.loc[lambda summed_by_date: summed_by_date.snow == 1, :][\"visits_per_hour\"]\n"
   ]
  },
  {
   "cell_type": "code",
   "execution_count": 93,
   "metadata": {
    "collapsed": false
   },
   "outputs": [
    {
     "name": "stdout",
     "output_type": "stream",
     "text": [
      "19.3337104072\n"
     ]
    }
   ],
   "source": [
    "print summed_by_date.loc[lambda summed_by_date: summed_by_date.snow == 0, :][\"visits_per_hour\"].mean()"
   ]
  },
  {
   "cell_type": "code",
   "execution_count": 94,
   "metadata": {
    "collapsed": false
   },
   "outputs": [
    {
     "name": "stdout",
     "output_type": "stream",
     "text": [
      "5.83333333333\n"
     ]
    }
   ],
   "source": [
    "print summed_by_date.loc[lambda summed_by_date: summed_by_date.snow == 1, :][\"visits_per_hour\"].mean() #only 2 data points"
   ]
  },
  {
   "cell_type": "code",
   "execution_count": 95,
   "metadata": {
    "collapsed": true
   },
   "outputs": [],
   "source": [
    "#Average for rain and no rain"
   ]
  },
  {
   "cell_type": "code",
   "execution_count": 96,
   "metadata": {
    "collapsed": false
   },
   "outputs": [
    {
     "name": "stdout",
     "output_type": "stream",
     "text": [
      "18.2635135135\n"
     ]
    }
   ],
   "source": [
    "print summed_by_date.loc[lambda summed_by_date: summed_by_date.rain == 1, :][\"visits_per_hour\"].mean()"
   ]
  },
  {
   "cell_type": "code",
   "execution_count": 97,
   "metadata": {
    "collapsed": false
   },
   "outputs": [
    {
     "name": "stdout",
     "output_type": "stream",
     "text": [
      "19.5916666667\n"
     ]
    }
   ],
   "source": [
    "print summed_by_date.loc[lambda summed_by_date: summed_by_date.rain == 0, :][\"visits_per_hour\"].mean()"
   ]
  },
  {
   "cell_type": "code",
   "execution_count": 98,
   "metadata": {
    "collapsed": true
   },
   "outputs": [],
   "source": [
    "# average of days of the week"
   ]
  },
  {
   "cell_type": "code",
   "execution_count": 99,
   "metadata": {
    "collapsed": false
   },
   "outputs": [
    {
     "name": "stdout",
     "output_type": "stream",
     "text": [
      "22.7245762712\n"
     ]
    }
   ],
   "source": [
    "print summed_by_date.loc[lambda summed_by_date: summed_by_date.day > 5, :][\"visits_per_hour\"].mean()"
   ]
  },
  {
   "cell_type": "code",
   "execution_count": 100,
   "metadata": {
    "collapsed": false
   },
   "outputs": [
    {
     "name": "stdout",
     "output_type": "stream",
     "text": [
      "21.25\n"
     ]
    }
   ],
   "source": [
    "print summed_by_date.loc[lambda summed_by_date: summed_by_date.day == 5, :][\"visits_per_hour\"].mean()"
   ]
  },
  {
   "cell_type": "code",
   "execution_count": 101,
   "metadata": {
    "collapsed": false
   },
   "outputs": [
    {
     "name": "stdout",
     "output_type": "stream",
     "text": [
      "15.9404761905\n"
     ]
    }
   ],
   "source": [
    "print summed_by_date.loc[lambda summed_by_date: summed_by_date.day == 1, :][\"visits_per_hour\"].mean()"
   ]
  },
  {
   "cell_type": "code",
   "execution_count": 102,
   "metadata": {
    "collapsed": false
   },
   "outputs": [
    {
     "name": "stdout",
     "output_type": "stream",
     "text": [
      "16.725\n"
     ]
    }
   ],
   "source": [
    "print summed_by_date.loc[lambda summed_by_date: summed_by_date.day == 3, :][\"visits_per_hour\"].mean()"
   ]
  },
  {
   "cell_type": "code",
   "execution_count": 103,
   "metadata": {
    "collapsed": false
   },
   "outputs": [],
   "source": [
    "#from ggplot import *\n",
    "\n",
    "#gg = ggplot(summed_by_date, aes( x = summed_by_date.index, y = \"visits_per_hour\", color = \"day\")) + geom_point() + geom_line()"
   ]
  },
  {
   "cell_type": "code",
   "execution_count": null,
   "metadata": {
    "collapsed": true
   },
   "outputs": [],
   "source": []
  },
  {
   "cell_type": "code",
   "execution_count": 104,
   "metadata": {
    "collapsed": false
   },
   "outputs": [
    {
     "ename": "AttributeError",
     "evalue": "'int' object has no attribute 'sqrt'",
     "output_type": "error",
     "traceback": [
      "\u001b[0;31m---------------------------------------------------------------------------\u001b[0m",
      "\u001b[0;31mAttributeError\u001b[0m                            Traceback (most recent call last)",
      "\u001b[0;32m<ipython-input-104-b5f1438701eb>\u001b[0m in \u001b[0;36m<module>\u001b[0;34m()\u001b[0m\n\u001b[1;32m      1\u001b[0m \u001b[0mplt\u001b[0m\u001b[1;33m.\u001b[0m\u001b[0mfigure\u001b[0m\u001b[1;33m(\u001b[0m\u001b[1;33m)\u001b[0m\u001b[1;33m\u001b[0m\u001b[0m\n\u001b[0;32m----> 2\u001b[0;31m \u001b[0msummed_by_date\u001b[0m\u001b[1;33m.\u001b[0m\u001b[0mplot\u001b[0m\u001b[1;33m.\u001b[0m\u001b[0mscatter\u001b[0m\u001b[1;33m(\u001b[0m\u001b[0mx\u001b[0m \u001b[1;33m=\u001b[0m \u001b[1;34m\"Temperature\"\u001b[0m\u001b[1;33m,\u001b[0m \u001b[0my\u001b[0m \u001b[1;33m=\u001b[0m \u001b[1;34m\"visits_per_hour\"\u001b[0m\u001b[1;33m,\u001b[0m \u001b[0ms\u001b[0m\u001b[1;33m=\u001b[0m \u001b[0msummed_by_date\u001b[0m\u001b[1;33m[\u001b[0m\u001b[1;34m'day'\u001b[0m\u001b[1;33m]\u001b[0m\u001b[1;33m)\u001b[0m\u001b[1;33m\u001b[0m\u001b[0m\n\u001b[0m",
      "\u001b[0;32mC:\\Program Files\\Anaconda2\\lib\\site-packages\\pandas\\tools\\plotting.py\u001b[0m in \u001b[0;36mscatter\u001b[0;34m(self, x, y, s, c, **kwds)\u001b[0m\n\u001b[1;32m   3916\u001b[0m         \u001b[0maxes\u001b[0m \u001b[1;33m:\u001b[0m \u001b[0mmatplotlib\u001b[0m\u001b[1;33m.\u001b[0m\u001b[0mAxesSubplot\u001b[0m \u001b[1;32mor\u001b[0m \u001b[0mnp\u001b[0m\u001b[1;33m.\u001b[0m\u001b[0marray\u001b[0m \u001b[0mof\u001b[0m \u001b[0mthem\u001b[0m\u001b[1;33m\u001b[0m\u001b[0m\n\u001b[1;32m   3917\u001b[0m         \"\"\"\n\u001b[0;32m-> 3918\u001b[0;31m         \u001b[1;32mreturn\u001b[0m \u001b[0mself\u001b[0m\u001b[1;33m(\u001b[0m\u001b[0mkind\u001b[0m\u001b[1;33m=\u001b[0m\u001b[1;34m'scatter'\u001b[0m\u001b[1;33m,\u001b[0m \u001b[0mx\u001b[0m\u001b[1;33m=\u001b[0m\u001b[0mx\u001b[0m\u001b[1;33m,\u001b[0m \u001b[0my\u001b[0m\u001b[1;33m=\u001b[0m\u001b[0my\u001b[0m\u001b[1;33m,\u001b[0m \u001b[0mc\u001b[0m\u001b[1;33m=\u001b[0m\u001b[0mc\u001b[0m\u001b[1;33m,\u001b[0m \u001b[0ms\u001b[0m\u001b[1;33m=\u001b[0m\u001b[0ms\u001b[0m\u001b[1;33m,\u001b[0m \u001b[1;33m**\u001b[0m\u001b[0mkwds\u001b[0m\u001b[1;33m)\u001b[0m\u001b[1;33m\u001b[0m\u001b[0m\n\u001b[0m\u001b[1;32m   3919\u001b[0m \u001b[1;33m\u001b[0m\u001b[0m\n\u001b[1;32m   3920\u001b[0m     def hexbin(self, x, y, C=None, reduce_C_function=None, gridsize=None,\n",
      "\u001b[0;32mC:\\Program Files\\Anaconda2\\lib\\site-packages\\pandas\\tools\\plotting.py\u001b[0m in \u001b[0;36m__call__\u001b[0;34m(self, x, y, kind, ax, subplots, sharex, sharey, layout, figsize, use_index, title, grid, legend, style, logx, logy, loglog, xticks, yticks, xlim, ylim, rot, fontsize, colormap, table, yerr, xerr, secondary_y, sort_columns, **kwds)\u001b[0m\n\u001b[1;32m   3738\u001b[0m                           \u001b[0mfontsize\u001b[0m\u001b[1;33m=\u001b[0m\u001b[0mfontsize\u001b[0m\u001b[1;33m,\u001b[0m \u001b[0mcolormap\u001b[0m\u001b[1;33m=\u001b[0m\u001b[0mcolormap\u001b[0m\u001b[1;33m,\u001b[0m \u001b[0mtable\u001b[0m\u001b[1;33m=\u001b[0m\u001b[0mtable\u001b[0m\u001b[1;33m,\u001b[0m\u001b[1;33m\u001b[0m\u001b[0m\n\u001b[1;32m   3739\u001b[0m                           \u001b[0myerr\u001b[0m\u001b[1;33m=\u001b[0m\u001b[0myerr\u001b[0m\u001b[1;33m,\u001b[0m \u001b[0mxerr\u001b[0m\u001b[1;33m=\u001b[0m\u001b[0mxerr\u001b[0m\u001b[1;33m,\u001b[0m \u001b[0msecondary_y\u001b[0m\u001b[1;33m=\u001b[0m\u001b[0msecondary_y\u001b[0m\u001b[1;33m,\u001b[0m\u001b[1;33m\u001b[0m\u001b[0m\n\u001b[0;32m-> 3740\u001b[0;31m                           sort_columns=sort_columns, **kwds)\n\u001b[0m\u001b[1;32m   3741\u001b[0m     \u001b[0m__call__\u001b[0m\u001b[1;33m.\u001b[0m\u001b[0m__doc__\u001b[0m \u001b[1;33m=\u001b[0m \u001b[0mplot_frame\u001b[0m\u001b[1;33m.\u001b[0m\u001b[0m__doc__\u001b[0m\u001b[1;33m\u001b[0m\u001b[0m\n\u001b[1;32m   3742\u001b[0m \u001b[1;33m\u001b[0m\u001b[0m\n",
      "\u001b[0;32mC:\\Program Files\\Anaconda2\\lib\\site-packages\\pandas\\tools\\plotting.py\u001b[0m in \u001b[0;36mplot_frame\u001b[0;34m(data, x, y, kind, ax, subplots, sharex, sharey, layout, figsize, use_index, title, grid, legend, style, logx, logy, loglog, xticks, yticks, xlim, ylim, rot, fontsize, colormap, table, yerr, xerr, secondary_y, sort_columns, **kwds)\u001b[0m\n\u001b[1;32m   2612\u001b[0m                  \u001b[0myerr\u001b[0m\u001b[1;33m=\u001b[0m\u001b[0myerr\u001b[0m\u001b[1;33m,\u001b[0m \u001b[0mxerr\u001b[0m\u001b[1;33m=\u001b[0m\u001b[0mxerr\u001b[0m\u001b[1;33m,\u001b[0m\u001b[1;33m\u001b[0m\u001b[0m\n\u001b[1;32m   2613\u001b[0m                  \u001b[0msecondary_y\u001b[0m\u001b[1;33m=\u001b[0m\u001b[0msecondary_y\u001b[0m\u001b[1;33m,\u001b[0m \u001b[0msort_columns\u001b[0m\u001b[1;33m=\u001b[0m\u001b[0msort_columns\u001b[0m\u001b[1;33m,\u001b[0m\u001b[1;33m\u001b[0m\u001b[0m\n\u001b[0;32m-> 2614\u001b[0;31m                  **kwds)\n\u001b[0m\u001b[1;32m   2615\u001b[0m \u001b[1;33m\u001b[0m\u001b[0m\n\u001b[1;32m   2616\u001b[0m \u001b[1;33m\u001b[0m\u001b[0m\n",
      "\u001b[0;32mC:\\Program Files\\Anaconda2\\lib\\site-packages\\pandas\\tools\\plotting.py\u001b[0m in \u001b[0;36m_plot\u001b[0;34m(data, x, y, subplots, ax, kind, **kwds)\u001b[0m\n\u001b[1;32m   2439\u001b[0m         \u001b[0mplot_obj\u001b[0m \u001b[1;33m=\u001b[0m \u001b[0mklass\u001b[0m\u001b[1;33m(\u001b[0m\u001b[0mdata\u001b[0m\u001b[1;33m,\u001b[0m \u001b[0msubplots\u001b[0m\u001b[1;33m=\u001b[0m\u001b[0msubplots\u001b[0m\u001b[1;33m,\u001b[0m \u001b[0max\u001b[0m\u001b[1;33m=\u001b[0m\u001b[0max\u001b[0m\u001b[1;33m,\u001b[0m \u001b[0mkind\u001b[0m\u001b[1;33m=\u001b[0m\u001b[0mkind\u001b[0m\u001b[1;33m,\u001b[0m \u001b[1;33m**\u001b[0m\u001b[0mkwds\u001b[0m\u001b[1;33m)\u001b[0m\u001b[1;33m\u001b[0m\u001b[0m\n\u001b[1;32m   2440\u001b[0m \u001b[1;33m\u001b[0m\u001b[0m\n\u001b[0;32m-> 2441\u001b[0;31m     \u001b[0mplot_obj\u001b[0m\u001b[1;33m.\u001b[0m\u001b[0mgenerate\u001b[0m\u001b[1;33m(\u001b[0m\u001b[1;33m)\u001b[0m\u001b[1;33m\u001b[0m\u001b[0m\n\u001b[0m\u001b[1;32m   2442\u001b[0m     \u001b[0mplot_obj\u001b[0m\u001b[1;33m.\u001b[0m\u001b[0mdraw\u001b[0m\u001b[1;33m(\u001b[0m\u001b[1;33m)\u001b[0m\u001b[1;33m\u001b[0m\u001b[0m\n\u001b[1;32m   2443\u001b[0m     \u001b[1;32mreturn\u001b[0m \u001b[0mplot_obj\u001b[0m\u001b[1;33m.\u001b[0m\u001b[0mresult\u001b[0m\u001b[1;33m\u001b[0m\u001b[0m\n",
      "\u001b[0;32mC:\\Program Files\\Anaconda2\\lib\\site-packages\\pandas\\tools\\plotting.py\u001b[0m in \u001b[0;36mgenerate\u001b[0;34m(self)\u001b[0m\n\u001b[1;32m   1026\u001b[0m         \u001b[0mself\u001b[0m\u001b[1;33m.\u001b[0m\u001b[0m_compute_plot_data\u001b[0m\u001b[1;33m(\u001b[0m\u001b[1;33m)\u001b[0m\u001b[1;33m\u001b[0m\u001b[0m\n\u001b[1;32m   1027\u001b[0m         \u001b[0mself\u001b[0m\u001b[1;33m.\u001b[0m\u001b[0m_setup_subplots\u001b[0m\u001b[1;33m(\u001b[0m\u001b[1;33m)\u001b[0m\u001b[1;33m\u001b[0m\u001b[0m\n\u001b[0;32m-> 1028\u001b[0;31m         \u001b[0mself\u001b[0m\u001b[1;33m.\u001b[0m\u001b[0m_make_plot\u001b[0m\u001b[1;33m(\u001b[0m\u001b[1;33m)\u001b[0m\u001b[1;33m\u001b[0m\u001b[0m\n\u001b[0m\u001b[1;32m   1029\u001b[0m         \u001b[0mself\u001b[0m\u001b[1;33m.\u001b[0m\u001b[0m_add_table\u001b[0m\u001b[1;33m(\u001b[0m\u001b[1;33m)\u001b[0m\u001b[1;33m\u001b[0m\u001b[0m\n\u001b[1;32m   1030\u001b[0m         \u001b[0mself\u001b[0m\u001b[1;33m.\u001b[0m\u001b[0m_make_legend\u001b[0m\u001b[1;33m(\u001b[0m\u001b[1;33m)\u001b[0m\u001b[1;33m\u001b[0m\u001b[0m\n",
      "\u001b[0;32mC:\\Program Files\\Anaconda2\\lib\\site-packages\\pandas\\tools\\plotting.py\u001b[0m in \u001b[0;36m_make_plot\u001b[0;34m(self)\u001b[0m\n\u001b[1;32m   1599\u001b[0m             \u001b[0mlabel\u001b[0m \u001b[1;33m=\u001b[0m \u001b[0mNone\u001b[0m\u001b[1;33m\u001b[0m\u001b[0m\n\u001b[1;32m   1600\u001b[0m         scatter = ax.scatter(data[x].values, data[y].values, c=c_values,\n\u001b[0;32m-> 1601\u001b[0;31m                              label=label, cmap=cmap, **self.kwds)\n\u001b[0m\u001b[1;32m   1602\u001b[0m         \u001b[1;32mif\u001b[0m \u001b[0mcb\u001b[0m\u001b[1;33m:\u001b[0m\u001b[1;33m\u001b[0m\u001b[0m\n\u001b[1;32m   1603\u001b[0m             \u001b[0mimg\u001b[0m \u001b[1;33m=\u001b[0m \u001b[0max\u001b[0m\u001b[1;33m.\u001b[0m\u001b[0mcollections\u001b[0m\u001b[1;33m[\u001b[0m\u001b[1;36m0\u001b[0m\u001b[1;33m]\u001b[0m\u001b[1;33m\u001b[0m\u001b[0m\n",
      "\u001b[0;32mC:\\Program Files\\Anaconda2\\lib\\site-packages\\matplotlib\\__init__.py\u001b[0m in \u001b[0;36minner\u001b[0;34m(ax, *args, **kwargs)\u001b[0m\n\u001b[1;32m   1816\u001b[0m                     warnings.warn(msg % (label_namer, func.__name__),\n\u001b[1;32m   1817\u001b[0m                                   RuntimeWarning, stacklevel=2)\n\u001b[0;32m-> 1818\u001b[0;31m             \u001b[1;32mreturn\u001b[0m \u001b[0mfunc\u001b[0m\u001b[1;33m(\u001b[0m\u001b[0max\u001b[0m\u001b[1;33m,\u001b[0m \u001b[1;33m*\u001b[0m\u001b[0margs\u001b[0m\u001b[1;33m,\u001b[0m \u001b[1;33m**\u001b[0m\u001b[0mkwargs\u001b[0m\u001b[1;33m)\u001b[0m\u001b[1;33m\u001b[0m\u001b[0m\n\u001b[0m\u001b[1;32m   1819\u001b[0m         \u001b[0mpre_doc\u001b[0m \u001b[1;33m=\u001b[0m \u001b[0minner\u001b[0m\u001b[1;33m.\u001b[0m\u001b[0m__doc__\u001b[0m\u001b[1;33m\u001b[0m\u001b[0m\n\u001b[1;32m   1820\u001b[0m         \u001b[1;32mif\u001b[0m \u001b[0mpre_doc\u001b[0m \u001b[1;32mis\u001b[0m \u001b[0mNone\u001b[0m\u001b[1;33m:\u001b[0m\u001b[1;33m\u001b[0m\u001b[0m\n",
      "\u001b[0;32mC:\\Program Files\\Anaconda2\\lib\\site-packages\\matplotlib\\axes\\_axes.py\u001b[0m in \u001b[0;36mscatter\u001b[0;34m(self, x, y, s, c, marker, cmap, norm, vmin, vmax, alpha, linewidths, verts, edgecolors, **kwargs)\u001b[0m\n\u001b[1;32m   3864\u001b[0m                 \u001b[0moffsets\u001b[0m\u001b[1;33m=\u001b[0m\u001b[0moffsets\u001b[0m\u001b[1;33m,\u001b[0m\u001b[1;33m\u001b[0m\u001b[0m\n\u001b[1;32m   3865\u001b[0m                 \u001b[0mtransOffset\u001b[0m\u001b[1;33m=\u001b[0m\u001b[0mkwargs\u001b[0m\u001b[1;33m.\u001b[0m\u001b[0mpop\u001b[0m\u001b[1;33m(\u001b[0m\u001b[1;34m'transform'\u001b[0m\u001b[1;33m,\u001b[0m \u001b[0mself\u001b[0m\u001b[1;33m.\u001b[0m\u001b[0mtransData\u001b[0m\u001b[1;33m)\u001b[0m\u001b[1;33m,\u001b[0m\u001b[1;33m\u001b[0m\u001b[0m\n\u001b[0;32m-> 3866\u001b[0;31m                 \u001b[0malpha\u001b[0m\u001b[1;33m=\u001b[0m\u001b[0malpha\u001b[0m\u001b[1;33m\u001b[0m\u001b[0m\n\u001b[0m\u001b[1;32m   3867\u001b[0m                 )\n\u001b[1;32m   3868\u001b[0m         \u001b[0mcollection\u001b[0m\u001b[1;33m.\u001b[0m\u001b[0mset_transform\u001b[0m\u001b[1;33m(\u001b[0m\u001b[0mmtransforms\u001b[0m\u001b[1;33m.\u001b[0m\u001b[0mIdentityTransform\u001b[0m\u001b[1;33m(\u001b[0m\u001b[1;33m)\u001b[0m\u001b[1;33m)\u001b[0m\u001b[1;33m\u001b[0m\u001b[0m\n",
      "\u001b[0;32mC:\\Program Files\\Anaconda2\\lib\\site-packages\\matplotlib\\collections.py\u001b[0m in \u001b[0;36m__init__\u001b[0;34m(self, paths, sizes, **kwargs)\u001b[0m\n\u001b[1;32m    831\u001b[0m         \u001b[0mCollection\u001b[0m\u001b[1;33m.\u001b[0m\u001b[0m__init__\u001b[0m\u001b[1;33m(\u001b[0m\u001b[0mself\u001b[0m\u001b[1;33m,\u001b[0m \u001b[1;33m**\u001b[0m\u001b[0mkwargs\u001b[0m\u001b[1;33m)\u001b[0m\u001b[1;33m\u001b[0m\u001b[0m\n\u001b[1;32m    832\u001b[0m         \u001b[0mself\u001b[0m\u001b[1;33m.\u001b[0m\u001b[0mset_paths\u001b[0m\u001b[1;33m(\u001b[0m\u001b[0mpaths\u001b[0m\u001b[1;33m)\u001b[0m\u001b[1;33m\u001b[0m\u001b[0m\n\u001b[0;32m--> 833\u001b[0;31m         \u001b[0mself\u001b[0m\u001b[1;33m.\u001b[0m\u001b[0mset_sizes\u001b[0m\u001b[1;33m(\u001b[0m\u001b[0msizes\u001b[0m\u001b[1;33m)\u001b[0m\u001b[1;33m\u001b[0m\u001b[0m\n\u001b[0m\u001b[1;32m    834\u001b[0m         \u001b[0mself\u001b[0m\u001b[1;33m.\u001b[0m\u001b[0mstale\u001b[0m \u001b[1;33m=\u001b[0m \u001b[0mTrue\u001b[0m\u001b[1;33m\u001b[0m\u001b[0m\n\u001b[1;32m    835\u001b[0m \u001b[1;33m\u001b[0m\u001b[0m\n",
      "\u001b[0;32mC:\\Program Files\\Anaconda2\\lib\\site-packages\\matplotlib\\collections.py\u001b[0m in \u001b[0;36mset_sizes\u001b[0;34m(self, sizes, dpi)\u001b[0m\n\u001b[1;32m    804\u001b[0m             \u001b[0mself\u001b[0m\u001b[1;33m.\u001b[0m\u001b[0m_sizes\u001b[0m \u001b[1;33m=\u001b[0m \u001b[0mnp\u001b[0m\u001b[1;33m.\u001b[0m\u001b[0masarray\u001b[0m\u001b[1;33m(\u001b[0m\u001b[0msizes\u001b[0m\u001b[1;33m)\u001b[0m\u001b[1;33m\u001b[0m\u001b[0m\n\u001b[1;32m    805\u001b[0m             \u001b[0mself\u001b[0m\u001b[1;33m.\u001b[0m\u001b[0m_transforms\u001b[0m \u001b[1;33m=\u001b[0m \u001b[0mnp\u001b[0m\u001b[1;33m.\u001b[0m\u001b[0mzeros\u001b[0m\u001b[1;33m(\u001b[0m\u001b[1;33m(\u001b[0m\u001b[0mlen\u001b[0m\u001b[1;33m(\u001b[0m\u001b[0mself\u001b[0m\u001b[1;33m.\u001b[0m\u001b[0m_sizes\u001b[0m\u001b[1;33m)\u001b[0m\u001b[1;33m,\u001b[0m \u001b[1;36m3\u001b[0m\u001b[1;33m,\u001b[0m \u001b[1;36m3\u001b[0m\u001b[1;33m)\u001b[0m\u001b[1;33m)\u001b[0m\u001b[1;33m\u001b[0m\u001b[0m\n\u001b[0;32m--> 806\u001b[0;31m             \u001b[0mscale\u001b[0m \u001b[1;33m=\u001b[0m \u001b[0mnp\u001b[0m\u001b[1;33m.\u001b[0m\u001b[0msqrt\u001b[0m\u001b[1;33m(\u001b[0m\u001b[0mself\u001b[0m\u001b[1;33m.\u001b[0m\u001b[0m_sizes\u001b[0m\u001b[1;33m)\u001b[0m \u001b[1;33m*\u001b[0m \u001b[0mdpi\u001b[0m \u001b[1;33m/\u001b[0m \u001b[1;36m72.0\u001b[0m \u001b[1;33m*\u001b[0m \u001b[0mself\u001b[0m\u001b[1;33m.\u001b[0m\u001b[0m_factor\u001b[0m\u001b[1;33m\u001b[0m\u001b[0m\n\u001b[0m\u001b[1;32m    807\u001b[0m             \u001b[0mself\u001b[0m\u001b[1;33m.\u001b[0m\u001b[0m_transforms\u001b[0m\u001b[1;33m[\u001b[0m\u001b[1;33m:\u001b[0m\u001b[1;33m,\u001b[0m \u001b[1;36m0\u001b[0m\u001b[1;33m,\u001b[0m \u001b[1;36m0\u001b[0m\u001b[1;33m]\u001b[0m \u001b[1;33m=\u001b[0m \u001b[0mscale\u001b[0m\u001b[1;33m\u001b[0m\u001b[0m\n\u001b[1;32m    808\u001b[0m             \u001b[0mself\u001b[0m\u001b[1;33m.\u001b[0m\u001b[0m_transforms\u001b[0m\u001b[1;33m[\u001b[0m\u001b[1;33m:\u001b[0m\u001b[1;33m,\u001b[0m \u001b[1;36m1\u001b[0m\u001b[1;33m,\u001b[0m \u001b[1;36m1\u001b[0m\u001b[1;33m]\u001b[0m \u001b[1;33m=\u001b[0m \u001b[0mscale\u001b[0m\u001b[1;33m\u001b[0m\u001b[0m\n",
      "\u001b[0;31mAttributeError\u001b[0m: 'int' object has no attribute 'sqrt'"
     ]
    },
    {
     "data": {
      "text/plain": [
       "<matplotlib.figure.Figure at 0xcd58f60>"
      ]
     },
     "metadata": {},
     "output_type": "display_data"
    },
    {
     "data": {
      "image/png": "[encoded data removed]",
      "text/plain": [
       "<matplotlib.figure.Figure at 0xb9d1320>"
      ]
     },
     "metadata": {},
     "output_type": "display_data"
    }
   ],
   "source": [
    "plt.figure()\n",
    "summed_by_date.plot.scatter(x = \"Temperature\", y = \"visits_per_hour\", s= summed_by_date['day'])"
   ]
  },
  {
   "cell_type": "code",
   "execution_count": null,
   "metadata": {
    "collapsed": false
   },
   "outputs": [],
   "source": [
    "fig, ax = plt.subplots()\n",
    "ax.margins(0.05) # Optional, just adds 5% padding to the autoscaling\n",
    "for name, group in groups:\n",
    "    ax.plot(group.x, group.y, marker='o', linestyle='', ms=12, label=name)\n",
    "ax.legend()\n",
    "\n",
    "plt.show()"
   ]
  },
  {
   "cell_type": "code",
   "execution_count": null,
   "metadata": {
    "collapsed": false
   },
   "outputs": [],
   "source": [
    "import pandasql"
   ]
  },
  {
   "cell_type": "code",
   "execution_count": null,
   "metadata": {
    "collapsed": false
   },
   "outputs": [],
   "source": [
    "q = \"\"\"SELECT AVG(visits_per_hour) FROM summed_by_date GROUP BY day;\"\"\"\n",
    "\n",
    "    # Execute your SQL command against the pandas frame\n",
    "welcome_solution = pandasql.sqldf(q, locals())\n",
    "print welcome_solution     "
   ]
  },
  {
   "cell_type": "code",
   "execution_count": null,
   "metadata": {
    "collapsed": false
   },
   "outputs": [],
   "source": [
    "#precipitation vs visits per hour\n",
    "import numpy\n",
    "import pandas\n",
    "import pylab\n",
    "x = summed_by_date[\"precipitation\"]\n",
    "y = summed_by_date[\"visits_per_hour\"]\n",
    "\n",
    "x, y = zip(*sorted((xVal, numpy.mean([yVal for a, yVal in zip(x, y) if xVal==a])) for xVal in set(x)))\n",
    "df = pandas.DataFrame(\n",
    "    {'x': x,\n",
    "     'y': y,\n",
    "    })\n",
    "df.plot.scatter(x = 'x', y = 'y')\n",
    "z = numpy.polyfit(x, y, 1)\n",
    "p = numpy.poly1d(z)\n",
    "pylab.plot(x,p(x),\"r--\")\n",
    "# the line equation:\n",
    "print \"y=%.6fx+(%.6f)\"%(z[0],z[1])"
   ]
  },
  {
   "cell_type": "code",
   "execution_count": null,
   "metadata": {
    "collapsed": false
   },
   "outputs": [],
   "source": [
    "import matplotlib.pyplot as plt\n",
    "import numpy as np\n",
    "\n",
    "\n",
    "fig, ax = plt.subplots()\n",
    "fit = np.polyfit(x, y, deg=1)\n",
    "ax.plot(x, fit[0] * x + fit[1], color='red')\n",
    "ax.scatter(x, y)\n",
    "\n",
    "fig.show()"
   ]
  },
  {
   "cell_type": "code",
   "execution_count": null,
   "metadata": {
    "collapsed": true
   },
   "outputs": [],
   "source": []
  }
 ],
 "metadata": {
  "anaconda-cloud": {},
  "kernelspec": {
   "display_name": "Python [default]",
   "language": "python",
   "name": "python2"
  },
  "language_info": {
   "codemirror_mode": {
    "name": "ipython",
    "version": 2
   },
   "file_extension": ".py",
   "mimetype": "text/x-python",
   "name": "python",
   "nbconvert_exporter": "python",
   "pygments_lexer": "ipython2",
   "version": "2.7.12"
  }
 },
 "nbformat": 4,
 "nbformat_minor": 1
}
