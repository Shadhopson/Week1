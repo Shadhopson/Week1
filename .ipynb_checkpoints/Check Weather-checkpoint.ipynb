{
 "cells": [
  {
   "cell_type": "markdown",
   "metadata": {},
   "source": [
    "# Get Data For Today"
   ]
  },
  {
   "cell_type": "markdown",
   "metadata": {},
   "source": [
    "## Checks the weather for the next few and last few open hours using weather site api and makes predictions off of it using the past data given through \"advanced welcome table Summed\"\n",
    "\n"
   ]
  },
  {
   "cell_type": "code",
   "execution_count": 3,
   "metadata": {
    "collapsed": false
   },
   "outputs": [
    {
     "name": "stdout",
     "output_type": "stream",
     "text": [
      "2017-05-06T13:56:16\n",
      "[62.05, 0, 1, 0, 0, 0, 1, 0, 0, 0, 0, 0, 0, 0, 0, 0, 0, 0, 1, 0, 0.0038, 0.66, 0, 1]\n",
      "temp,years,months,days,precip, cloud, snow, rain\n",
      "2017-05-04T13:56:16\n",
      "[60.63, 0, 1, 0, 0, 0, 1, 0, 0, 0, 0, 0, 0, 0, 0, 0, 1, 0, 0, 0, 0.005, 0.58, 0, 1]\n",
      "temp,years,months,days,precip, cloud, snow, rain\n",
      "2017-05-02T13:56:16\n",
      "[71.24, 0, 1, 0, 0, 0, 1, 0, 0, 0, 0, 0, 0, 0, 1, 0, 0, 0, 0, 0, 0.0078, 0.34, 0, 1]\n",
      "temp,years,months,days,precip, cloud, snow, rain\n",
      "2017-04-30T13:56:17\n",
      "[62.35, 0, 1, 0, 0, 1, 0, 0, 0, 0, 0, 0, 0, 0, 0, 0, 0, 0, 0, 1, 0.0005, 0.75, 0, 1]\n",
      "temp,years,months,days,precip, cloud, snow, rain\n",
      "2017-04-29T13:56:17\n",
      "[80.17, 0, 1, 0, 0, 1, 0, 0, 0, 0, 0, 0, 0, 0, 0, 0, 0, 0, 1, 0, 0.0152, 0.5, 0, 1]\n",
      "temp,years,months,days,precip, cloud, snow, rain\n",
      "2017-04-27T13:56:17\n",
      "[67.21, 0, 1, 0, 0, 1, 0, 0, 0, 0, 0, 0, 0, 0, 0, 0, 1, 0, 0, 0, 0.0013, 0.73, 0, 1]\n",
      "temp,years,months,days,precip, cloud, snow, rain\n",
      "2017-04-25T13:56:17\n",
      "[55.96, 0, 1, 0, 0, 1, 0, 0, 0, 0, 0, 0, 0, 0, 1, 0, 0, 0, 0, 0, 0.0407, 0.83, 0, 1]\n",
      "temp,years,months,days,precip, cloud, snow, rain\n",
      "2017-04-23T13:56:17\n",
      "[61.59, 0, 1, 0, 0, 1, 0, 0, 0, 0, 0, 0, 0, 0, 0, 0, 0, 0, 0, 1, 0, 0.49, 0, 0]\n",
      "temp,years,months,days,precip, cloud, snow, rain\n",
      "2017-04-22T13:56:17\n",
      "[57.42, 0, 1, 0, 0, 1, 0, 0, 0, 0, 0, 0, 0, 0, 0, 0, 0, 0, 1, 0, 0.0086, 0.9, 0, 1]\n",
      "temp,years,months,days,precip, cloud, snow, rain\n"
     ]
    }
   ],
   "source": [
    "import json\n",
    "import urllib\n",
    "import datetime\n",
    "import pandas as pd\n",
    "i = datetime.datetime.now()\n",
    "from datetime import datetime, timedelta\n",
    "\n",
    "#N = 2\n",
    "day_list = [-7,-5,-3,-1,0,2,4,6,7]\n",
    "prediction_list = []\n",
    "date_array = []\n",
    "for N in day_list:\n",
    "    i = datetime.now() - timedelta(days=N)\n",
    "\n",
    "    #print datetime.now()\n",
    "    #print date_N_days_ago\n",
    "    #print i\n",
    "\n",
    "    date = i.isoformat()\n",
    "    #print date\n",
    "    date =  date[:19]\n",
    "    print date\n",
    "\n",
    "    todays_weather_site = \"https://api.darksky.net/forecast/6ee0b0521cccd43b16a44a63eba7cd8d/40.6987,-73.9859,\" + date\n",
    "\n",
    "    todays_weather_data  = json.load(urllib.urlopen(todays_weather_site))\n",
    "\n",
    "    #print todays_weather_data['daily']['data']\n",
    "\n",
    "    summed_by_date = pd.read_csv('advanced_welcome_table_summed.csv')\n",
    "    #print summed_by_date\n",
    "\n",
    "    #print summed_by_date\n",
    "    year_dummies = pd.get_dummies(summed_by_date.year, prefix ='year').iloc[:,1:]\n",
    "    year_summed_by_date = pd.concat([summed_by_date, year_dummies], axis=1)\n",
    "    day_dummies = pd.get_dummies(year_summed_by_date.day, prefix='day').iloc[:,1:]\n",
    "    day_summed_by_date = pd.concat([year_summed_by_date, day_dummies], axis=1)\n",
    "    #print day_summed_by_date.head()\n",
    "\n",
    "    month_dummies = pd.get_dummies(day_summed_by_date.month, prefix ='month').iloc[:,1:]\n",
    "    dummy_summed_by_date = pd.concat([day_summed_by_date, month_dummies], axis=1)\n",
    "\n",
    "    #print list(dummy_summed_by_date)\n",
    "    #list(dummy_summed_by_date)\n",
    "\n",
    "    full_cols = ['total_visitors','Temperature','year_2016','year_2017','month_2','month_3','month_4','month_5','month_6','month_7','month_8','month_9','month_10','month_11','month_12','day_1','day_2','day_3','day_4','day_5','day_6','precipitation','cloud_cover','snow','rain']\n",
    "    feature_cols = ['Temperature','year_2016','year_2017','month_2','month_3','month_4','month_5','month_6','month_7','month_8','month_9','month_10','month_11','month_12','day_1','day_2','day_3','day_4','day_5','day_6','precipitation','cloud_cover','snow','rain']\n",
    "    dummy_summed_by_date = dummy_summed_by_date[full_cols].dropna() \n",
    "    X = dummy_summed_by_date[feature_cols]\n",
    "    y = dummy_summed_by_date['total_visitors']\n",
    "\n",
    "    # instantiate, fit\n",
    "    from sklearn.linear_model import LinearRegression\n",
    "    lm = LinearRegression()\n",
    "    lm.fit(X, y)\n",
    "    #print date\n",
    "    t = todays_weather_data['daily']['data'][0]\n",
    "    temp = t['temperatureMax']\n",
    "    month = i.month\n",
    "    day =  i.weekday()\n",
    "    year = i.year\n",
    "    precip = t['precipIntensity']\n",
    "    cloud = t['cloudCover']\n",
    "    try:\n",
    "        if t['precipType'] == \"rain\":\n",
    "            rain = 1\n",
    "            snow = 0 \n",
    "        elif t['precipType'] == 'snow':\n",
    "            rain = 0\n",
    "            snow = 1\n",
    "        else:\n",
    "            rain = 0\n",
    "            snow = 0\n",
    "    except:\n",
    "        rain = 0 \n",
    "        snow = 0\n",
    "    #print len(feature_cols)\n",
    "    days_array = [0]*24\n",
    "    days_array[0] =  temp\n",
    "    if year > 2015:\n",
    "        days_array[year -2015] = 1\n",
    "    if month > 1:\n",
    "        days_array[month+1] = 1\n",
    "    if day > 0:\n",
    "        days_array[day+13] =1\n",
    "    days_array[20] = precip\n",
    "    days_array[21] = cloud\n",
    "    days_array[22] = snow\n",
    "    days_array[23] = rain\n",
    "    print days_array\n",
    "    prediction_list.append(days_array)\n",
    "    date_array.append(date)\n",
    "    #print lm.predict(days_array)\n",
    "    \n",
    "    #lm.predict()\n",
    "    #print lm.intercept_\n",
    "    #print lm.coef_\n",
    "    # print coefficients\n",
    "    #print \"stuff\", zip(feature_cols, lm.coef_)\n",
    "    #print \"cat\",lm.predict([43, 0,0, 0,0,0,0,0,0,0,0,0,1,0,0,0,0,0,0,0,0,0])\n",
    "    #lm.score(X, y)\n",
    "\n",
    "    #array_of_days = []\n",
    "    #day_array = [0,2,4,6,7]\n",
    "\n",
    "    print \"temp,years,months,days,precip, cloud, snow, rain\"\n",
    "\n",
    "    #from sklearn.neural_network import MLPRegressor\n",
    "\n",
    "    #clf = MLPRegressor(hidden_layer_sizes=(10,))\n",
    "\n",
    "    #clf.fit(X, y)\n",
    "\n",
    "    #print clf.predict(today_array)\n",
    "\n",
    "\n",
    "\n",
    "\n",
    "\n"
   ]
  },
  {
   "cell_type": "code",
   "execution_count": 2,
   "metadata": {
    "collapsed": false
   },
   "outputs": [
    {
     "name": "stdout",
     "output_type": "stream",
     "text": [
      "[[62.05, 0, 1, 0, 0, 0, 1, 0, 0, 0, 0, 0, 0, 0, 0, 0, 0, 0, 1, 0, 0.0038, 0.66, 0, 1], [60.62, 0, 1, 0, 0, 0, 1, 0, 0, 0, 0, 0, 0, 0, 0, 0, 1, 0, 0, 0, 0.005, 0.58, 0, 1], [71.24, 0, 1, 0, 0, 0, 1, 0, 0, 0, 0, 0, 0, 0, 1, 0, 0, 0, 0, 0, 0.0078, 0.34, 0, 1], [62.35, 0, 1, 0, 0, 1, 0, 0, 0, 0, 0, 0, 0, 0, 0, 0, 0, 0, 0, 1, 0.0005, 0.75, 0, 1], [80.55, 0, 1, 0, 0, 1, 0, 0, 0, 0, 0, 0, 0, 0, 0, 0, 0, 0, 1, 0, 0.0152, 0.44, 0, 1], [67.21, 0, 1, 0, 0, 1, 0, 0, 0, 0, 0, 0, 0, 0, 0, 0, 1, 0, 0, 0, 0.0013, 0.73, 0, 1], [55.96, 0, 1, 0, 0, 1, 0, 0, 0, 0, 0, 0, 0, 0, 1, 0, 0, 0, 0, 0, 0.0407, 0.83, 0, 1], [61.59, 0, 1, 0, 0, 1, 0, 0, 0, 0, 0, 0, 0, 0, 0, 0, 0, 0, 0, 1, 0, 0.49, 0, 0], [57.42, 0, 1, 0, 0, 1, 0, 0, 0, 0, 0, 0, 0, 0, 0, 0, 0, 0, 1, 0, 0.0086, 0.9, 0, 1]]\n",
      "     Temperature  year_2016  year_2017  month_2  month_3  month_4  month_5  \\\n",
      "0          82.07        0.0        0.0      0.0      0.0      0.0      0.0   \n",
      "1          82.16        0.0        0.0      0.0      0.0      0.0      0.0   \n",
      "2          80.22        0.0        0.0      0.0      0.0      0.0      0.0   \n",
      "3          79.68        0.0        0.0      0.0      0.0      0.0      0.0   \n",
      "4          80.12        0.0        0.0      0.0      0.0      0.0      0.0   \n",
      "5          84.15        0.0        0.0      0.0      0.0      0.0      0.0   \n",
      "6          87.57        0.0        0.0      0.0      0.0      0.0      0.0   \n",
      "7          79.00        0.0        0.0      0.0      0.0      0.0      0.0   \n",
      "8          76.47        0.0        0.0      0.0      0.0      0.0      0.0   \n",
      "9          75.04        0.0        0.0      0.0      0.0      0.0      0.0   \n",
      "10         83.42        0.0        0.0      0.0      0.0      0.0      0.0   \n",
      "11         77.92        0.0        0.0      0.0      0.0      0.0      0.0   \n",
      "12         76.23        0.0        0.0      0.0      0.0      0.0      0.0   \n",
      "13         79.11        0.0        0.0      0.0      0.0      0.0      0.0   \n",
      "14         70.35        0.0        0.0      0.0      0.0      0.0      0.0   \n",
      "15         68.00        0.0        0.0      0.0      0.0      0.0      0.0   \n",
      "16         62.85        0.0        0.0      0.0      0.0      0.0      0.0   \n",
      "17         55.40        0.0        0.0      0.0      0.0      0.0      0.0   \n",
      "18         63.18        0.0        0.0      0.0      0.0      0.0      0.0   \n",
      "19         67.08        0.0        0.0      0.0      0.0      0.0      0.0   \n",
      "20         63.62        0.0        0.0      0.0      0.0      0.0      0.0   \n",
      "21         67.68        0.0        0.0      0.0      0.0      0.0      0.0   \n",
      "22         63.00        0.0        0.0      0.0      0.0      0.0      0.0   \n",
      "23         48.11        0.0        0.0      0.0      0.0      0.0      0.0   \n",
      "24         71.65        0.0        0.0      0.0      0.0      0.0      0.0   \n",
      "25         56.38        0.0        0.0      0.0      0.0      0.0      0.0   \n",
      "26         70.15        0.0        0.0      0.0      0.0      0.0      0.0   \n",
      "27         53.19        0.0        0.0      0.0      0.0      0.0      0.0   \n",
      "28         63.55        0.0        0.0      0.0      0.0      0.0      0.0   \n",
      "29         67.31        0.0        0.0      0.0      0.0      0.0      0.0   \n",
      "..           ...        ...        ...      ...      ...      ...      ...   \n",
      "231        54.49        1.0        0.0      0.0      0.0      0.0      0.0   \n",
      "232        48.77        1.0        0.0      0.0      0.0      0.0      0.0   \n",
      "233        47.37        1.0        0.0      0.0      0.0      0.0      0.0   \n",
      "234        45.73        1.0        0.0      0.0      0.0      0.0      0.0   \n",
      "235        43.82        1.0        0.0      0.0      0.0      0.0      0.0   \n",
      "236        35.97        1.0        0.0      0.0      0.0      0.0      0.0   \n",
      "237        35.65        1.0        0.0      0.0      0.0      0.0      0.0   \n",
      "238        43.09        1.0        0.0      0.0      0.0      0.0      0.0   \n",
      "239        34.83        1.0        0.0      0.0      0.0      0.0      0.0   \n",
      "240        37.99        1.0        0.0      0.0      0.0      0.0      0.0   \n",
      "241        56.66        1.0        0.0      0.0      0.0      0.0      0.0   \n",
      "242        34.17        1.0        0.0      0.0      0.0      0.0      0.0   \n",
      "243        49.88        1.0        0.0      0.0      0.0      0.0      0.0   \n",
      "244        44.34        0.0        1.0      0.0      0.0      0.0      0.0   \n",
      "245        34.36        0.0        1.0      0.0      0.0      0.0      0.0   \n",
      "246        26.65        0.0        1.0      0.0      0.0      0.0      0.0   \n",
      "247        27.29        0.0        1.0      0.0      0.0      0.0      0.0   \n",
      "248        44.63        0.0        1.0      0.0      0.0      0.0      0.0   \n",
      "249        62.35        0.0        1.0      0.0      0.0      0.0      0.0   \n",
      "250        33.59        0.0        1.0      0.0      0.0      0.0      0.0   \n",
      "251        40.40        0.0        1.0      0.0      0.0      0.0      0.0   \n",
      "252        40.58        0.0        1.0      0.0      0.0      0.0      0.0   \n",
      "253        47.41        0.0        1.0      0.0      0.0      0.0      0.0   \n",
      "254        47.69        0.0        1.0      0.0      0.0      0.0      0.0   \n",
      "255        47.03        0.0        1.0      0.0      0.0      0.0      0.0   \n",
      "256        37.39        0.0        1.0      0.0      0.0      0.0      0.0   \n",
      "257        51.14        0.0        1.0      0.0      0.0      0.0      0.0   \n",
      "258        38.68        0.0        1.0      0.0      0.0      0.0      0.0   \n",
      "259        41.83        0.0        1.0      0.0      0.0      0.0      0.0   \n",
      "260        33.69        0.0        1.0      0.0      0.0      0.0      0.0   \n",
      "\n",
      "     month_6  month_7  month_8  ...   day_1  day_2  day_3  day_4  day_5  \\\n",
      "0        0.0      0.0      1.0  ...     0.0    0.0    1.0    0.0    0.0   \n",
      "1        0.0      0.0      1.0  ...     0.0    0.0    0.0    0.0    1.0   \n",
      "2        0.0      0.0      1.0  ...     0.0    0.0    0.0    0.0    0.0   \n",
      "3        0.0      0.0      1.0  ...     0.0    1.0    0.0    0.0    0.0   \n",
      "4        0.0      0.0      1.0  ...     0.0    0.0    0.0    1.0    0.0   \n",
      "5        0.0      0.0      1.0  ...     0.0    0.0    0.0    0.0    1.0   \n",
      "6        0.0      0.0      1.0  ...     0.0    0.0    0.0    0.0    0.0   \n",
      "7        0.0      0.0      0.0  ...     0.0    0.0    1.0    0.0    0.0   \n",
      "8        0.0      0.0      0.0  ...     0.0    0.0    0.0    0.0    1.0   \n",
      "9        0.0      0.0      0.0  ...     0.0    0.0    0.0    0.0    0.0   \n",
      "10       0.0      0.0      0.0  ...     0.0    0.0    1.0    0.0    0.0   \n",
      "11       0.0      0.0      0.0  ...     0.0    0.0    0.0    0.0    1.0   \n",
      "12       0.0      0.0      0.0  ...     0.0    0.0    0.0    0.0    0.0   \n",
      "13       0.0      0.0      0.0  ...     0.0    0.0    1.0    0.0    0.0   \n",
      "14       0.0      0.0      0.0  ...     0.0    0.0    0.0    0.0    1.0   \n",
      "15       0.0      0.0      0.0  ...     0.0    0.0    0.0    0.0    0.0   \n",
      "16       0.0      0.0      0.0  ...     0.0    0.0    1.0    0.0    0.0   \n",
      "17       0.0      0.0      0.0  ...     0.0    0.0    0.0    0.0    1.0   \n",
      "18       0.0      0.0      0.0  ...     0.0    0.0    0.0    0.0    0.0   \n",
      "19       0.0      0.0      0.0  ...     0.0    0.0    1.0    0.0    0.0   \n",
      "20       0.0      0.0      0.0  ...     0.0    0.0    0.0    0.0    1.0   \n",
      "21       0.0      0.0      0.0  ...     0.0    0.0    0.0    0.0    0.0   \n",
      "22       0.0      0.0      0.0  ...     0.0    0.0    1.0    0.0    0.0   \n",
      "23       0.0      0.0      0.0  ...     0.0    0.0    0.0    0.0    0.0   \n",
      "24       0.0      0.0      0.0  ...     0.0    0.0    1.0    0.0    0.0   \n",
      "25       0.0      0.0      0.0  ...     0.0    0.0    0.0    0.0    1.0   \n",
      "26       0.0      0.0      0.0  ...     0.0    0.0    1.0    0.0    0.0   \n",
      "27       0.0      0.0      0.0  ...     0.0    0.0    0.0    0.0    1.0   \n",
      "28       0.0      0.0      0.0  ...     0.0    0.0    0.0    0.0    0.0   \n",
      "29       0.0      0.0      0.0  ...     0.0    0.0    1.0    0.0    0.0   \n",
      "..       ...      ...      ...  ...     ...    ...    ...    ...    ...   \n",
      "231      0.0      0.0      0.0  ...     0.0    0.0    1.0    0.0    0.0   \n",
      "232      0.0      0.0      0.0  ...     0.0    0.0    0.0    0.0    1.0   \n",
      "233      0.0      0.0      0.0  ...     0.0    0.0    0.0    0.0    0.0   \n",
      "234      0.0      0.0      0.0  ...     1.0    0.0    0.0    0.0    0.0   \n",
      "235      0.0      0.0      0.0  ...     0.0    0.0    1.0    0.0    0.0   \n",
      "236      0.0      0.0      0.0  ...     0.0    0.0    0.0    0.0    1.0   \n",
      "237      0.0      0.0      0.0  ...     0.0    0.0    0.0    0.0    0.0   \n",
      "238      0.0      0.0      0.0  ...     1.0    0.0    0.0    0.0    0.0   \n",
      "239      0.0      0.0      0.0  ...     0.0    0.0    1.0    0.0    0.0   \n",
      "240      0.0      0.0      0.0  ...     0.0    0.0    0.0    0.0    1.0   \n",
      "241      0.0      0.0      0.0  ...     0.0    0.0    0.0    0.0    0.0   \n",
      "242      0.0      0.0      0.0  ...     1.0    0.0    0.0    0.0    0.0   \n",
      "243      0.0      0.0      0.0  ...     0.0    0.0    1.0    0.0    0.0   \n",
      "244      0.0      0.0      0.0  ...     1.0    0.0    0.0    0.0    0.0   \n",
      "245      0.0      0.0      0.0  ...     0.0    0.0    1.0    0.0    0.0   \n",
      "246      0.0      0.0      0.0  ...     0.0    0.0    0.0    0.0    1.0   \n",
      "247      0.0      0.0      0.0  ...     0.0    0.0    0.0    0.0    0.0   \n",
      "248      0.0      0.0      0.0  ...     1.0    0.0    0.0    0.0    0.0   \n",
      "249      0.0      0.0      0.0  ...     0.0    0.0    1.0    0.0    0.0   \n",
      "250      0.0      0.0      0.0  ...     0.0    0.0    0.0    0.0    1.0   \n",
      "251      0.0      0.0      0.0  ...     0.0    0.0    0.0    0.0    0.0   \n",
      "252      0.0      0.0      0.0  ...     1.0    0.0    0.0    0.0    0.0   \n",
      "253      0.0      0.0      0.0  ...     0.0    0.0    1.0    0.0    0.0   \n",
      "254      0.0      0.0      0.0  ...     0.0    0.0    0.0    0.0    1.0   \n",
      "255      0.0      0.0      0.0  ...     0.0    0.0    0.0    0.0    0.0   \n",
      "256      0.0      0.0      0.0  ...     1.0    0.0    0.0    0.0    0.0   \n",
      "257      0.0      0.0      0.0  ...     0.0    0.0    1.0    0.0    0.0   \n",
      "258      0.0      0.0      0.0  ...     0.0    0.0    0.0    0.0    1.0   \n",
      "259      0.0      0.0      0.0  ...     0.0    0.0    0.0    0.0    0.0   \n",
      "260      0.0      0.0      0.0  ...     1.0    0.0    0.0    0.0    0.0   \n",
      "\n",
      "     day_6  precipitation  cloud_cover  snow  rain  \n",
      "0      0.0         0.0000         0.38   0.0   0.0  \n",
      "1      0.0         0.0000         0.13   0.0   0.0  \n",
      "2      1.0         0.0000         0.28   0.0   0.0  \n",
      "3      0.0         0.0000         0.14   0.0   0.0  \n",
      "4      0.0         0.0000         0.16   0.0   0.0  \n",
      "5      0.0         0.0000         0.18   0.0   0.0  \n",
      "6      1.0         0.0028         0.17   0.0   1.0  \n",
      "7      0.0         0.0413         0.72   0.0   1.0  \n",
      "8      0.0         0.0073         0.36   0.0   1.0  \n",
      "9      1.0         0.0044         0.32   0.0   1.0  \n",
      "10     0.0         0.0000         0.14   0.0   0.0  \n",
      "11     0.0         0.0000         0.19   0.0   0.0  \n",
      "12     1.0         0.0000         0.21   0.0   0.0  \n",
      "13     0.0         0.0000         0.14   0.0   0.0  \n",
      "14     0.0         0.0000         0.16   0.0   0.0  \n",
      "15     1.0         0.0000         0.20   0.0   0.0  \n",
      "16     0.0         0.0029         0.49   0.0   1.0  \n",
      "17     0.0         0.0094         1.00   0.0   1.0  \n",
      "18     1.0         0.0000         0.38   0.0   0.0  \n",
      "19     0.0         0.0000         0.21   0.0   0.0  \n",
      "20     0.0         0.0000         0.14   0.0   0.0  \n",
      "21     1.0         0.0000         0.09   0.0   0.0  \n",
      "22     0.0         0.0000         0.12   0.0   0.0  \n",
      "23     1.0         0.0000         0.18   0.0   0.0  \n",
      "24     0.0         0.0000         0.14   0.0   0.0  \n",
      "25     0.0         0.0000         0.27   0.0   0.0  \n",
      "26     0.0         0.0086         0.29   0.0   1.0  \n",
      "27     0.0         0.0000         0.07   0.0   0.0  \n",
      "28     1.0         0.0000         0.30   0.0   0.0  \n",
      "29     0.0         0.0004         0.57   0.0   1.0  \n",
      "..     ...            ...          ...   ...   ...  \n",
      "231    0.0         1.3267         0.33   0.0   1.0  \n",
      "232    0.0         0.5309         0.34   0.0   1.0  \n",
      "233    1.0         0.5277         0.16   0.0   1.0  \n",
      "234    0.0         2.1417         0.21   0.0   1.0  \n",
      "235    0.0         1.1479         0.21   0.0   1.0  \n",
      "236    0.0         0.5351         0.16   1.0   0.0  \n",
      "237    1.0         0.0002         0.30   1.0   0.0  \n",
      "238    0.0         4.2193         0.14   0.0   1.0  \n",
      "239    0.0         2.8982         0.21   1.0   0.0  \n",
      "240    0.0         1.5995         0.88   1.0   0.0  \n",
      "241    1.0         0.2664         0.50   0.0   1.0  \n",
      "242    0.0         0.0000         0.02   0.0   0.0  \n",
      "243    0.0         1.0599         0.19   0.0   1.0  \n",
      "244    0.0         2.9218         1.00   0.0   1.0  \n",
      "245    0.0         1.5889         0.24   0.0   1.0  \n",
      "246    0.0         0.5342         0.45   1.0   0.0  \n",
      "247    1.0         0.5309         0.15   1.0   0.0  \n",
      "248    0.0         0.5309         0.21   1.0   0.0  \n",
      "249    0.0         1.5915         0.37   0.0   1.0  \n",
      "250    0.0         1.3277         0.26   1.0   0.0  \n",
      "251    1.0         0.2657         0.12   0.0   1.0  \n",
      "252    0.0         2.1294         0.99   0.0   1.0  \n",
      "253    0.0         0.0590         0.36   0.0   1.0  \n",
      "254    0.0         0.0002         0.63   0.0   1.0  \n",
      "255    1.0         0.0040         0.81   0.0   1.0  \n",
      "256    0.0         0.0429         0.79   0.0   1.0  \n",
      "257    0.0         0.0034         0.41   0.0   1.0  \n",
      "258    0.0         0.0000         0.24   0.0   0.0  \n",
      "259    1.0         0.0000         0.29   0.0   0.0  \n",
      "260    0.0         0.0049         0.61   1.0   0.0  \n",
      "\n",
      "[261 rows x 24 columns]\n"
     ]
    }
   ],
   "source": [
    "    print prediction_list\n",
    "    print X"
   ]
  },
  {
   "cell_type": "code",
   "execution_count": 4,
   "metadata": {
    "collapsed": false
   },
   "outputs": [
    {
     "name": "stdout",
     "output_type": "stream",
     "text": [
      "2017-05-06T13:56:16\n",
      "[62.05, 0, 1, 0, 0, 0, 1, 0, 0, 0, 0, 0, 0, 0, 0, 0, 0, 0, 1, 0, 0.0038, 0.66, 0, 1]\n",
      "[ 61.32217879]\n",
      "2017-05-04T13:56:16\n",
      "[60.63, 0, 1, 0, 0, 0, 1, 0, 0, 0, 0, 0, 0, 0, 0, 0, 1, 0, 0, 0, 0.005, 0.58, 0, 1]\n",
      "[ 8.55929936]\n",
      "2017-05-02T13:56:16\n",
      "[71.24, 0, 1, 0, 0, 0, 1, 0, 0, 0, 0, 0, 0, 0, 1, 0, 0, 0, 0, 0, 0.0078, 0.34, 0, 1]\n",
      "[ 18.14181237]\n",
      "2017-04-30T13:56:17\n",
      "[62.35, 0, 1, 0, 0, 1, 0, 0, 0, 0, 0, 0, 0, 0, 0, 0, 0, 0, 0, 1, 0.0005, 0.75, 0, 1]\n",
      "[ 97.7918139]\n",
      "2017-04-29T13:56:17\n",
      "[80.17, 0, 1, 0, 0, 1, 0, 0, 0, 0, 0, 0, 0, 0, 0, 0, 0, 0, 1, 0, 0.0152, 0.5, 0, 1]\n",
      "[ 109.44628422]\n",
      "2017-04-27T13:56:17\n",
      "[67.21, 0, 1, 0, 0, 1, 0, 0, 0, 0, 0, 0, 0, 0, 0, 0, 1, 0, 0, 0, 0.0013, 0.73, 0, 1]\n",
      "[ 44.93080229]\n",
      "2017-04-25T13:56:17\n",
      "[55.96, 0, 1, 0, 0, 1, 0, 0, 0, 0, 0, 0, 0, 0, 1, 0, 0, 0, 0, 0, 0.0407, 0.83, 0, 1]\n",
      "[ 33.30474012]\n",
      "2017-04-23T13:56:17\n",
      "[61.59, 0, 1, 0, 0, 1, 0, 0, 0, 0, 0, 0, 0, 0, 0, 0, 0, 0, 0, 1, 0, 0.49, 0, 0]\n",
      "[ 104.19899299]\n",
      "2017-04-22T13:56:17\n",
      "[57.42, 0, 1, 0, 0, 1, 0, 0, 0, 0, 0, 0, 0, 0, 0, 0, 0, 0, 1, 0, 0.0086, 0.9, 0, 1]\n",
      "[ 87.18536336]\n"
     ]
    },
    {
     "name": "stderr",
     "output_type": "stream",
     "text": [
      "C:\\Program Files\\Anaconda2\\lib\\site-packages\\sklearn\\utils\\validation.py:395: DeprecationWarning: Passing 1d arrays as data is deprecated in 0.17 and will raise ValueError in 0.19. Reshape your data either using X.reshape(-1, 1) if your data has a single feature or X.reshape(1, -1) if it contains a single sample.\n",
      "  DeprecationWarning)\n",
      "C:\\Program Files\\Anaconda2\\lib\\site-packages\\sklearn\\utils\\validation.py:395: DeprecationWarning: Passing 1d arrays as data is deprecated in 0.17 and will raise ValueError in 0.19. Reshape your data either using X.reshape(-1, 1) if your data has a single feature or X.reshape(1, -1) if it contains a single sample.\n",
      "  DeprecationWarning)\n",
      "C:\\Program Files\\Anaconda2\\lib\\site-packages\\sklearn\\utils\\validation.py:395: DeprecationWarning: Passing 1d arrays as data is deprecated in 0.17 and will raise ValueError in 0.19. Reshape your data either using X.reshape(-1, 1) if your data has a single feature or X.reshape(1, -1) if it contains a single sample.\n",
      "  DeprecationWarning)\n",
      "C:\\Program Files\\Anaconda2\\lib\\site-packages\\sklearn\\utils\\validation.py:395: DeprecationWarning: Passing 1d arrays as data is deprecated in 0.17 and will raise ValueError in 0.19. Reshape your data either using X.reshape(-1, 1) if your data has a single feature or X.reshape(1, -1) if it contains a single sample.\n",
      "  DeprecationWarning)\n",
      "C:\\Program Files\\Anaconda2\\lib\\site-packages\\sklearn\\utils\\validation.py:395: DeprecationWarning: Passing 1d arrays as data is deprecated in 0.17 and will raise ValueError in 0.19. Reshape your data either using X.reshape(-1, 1) if your data has a single feature or X.reshape(1, -1) if it contains a single sample.\n",
      "  DeprecationWarning)\n",
      "C:\\Program Files\\Anaconda2\\lib\\site-packages\\sklearn\\utils\\validation.py:395: DeprecationWarning: Passing 1d arrays as data is deprecated in 0.17 and will raise ValueError in 0.19. Reshape your data either using X.reshape(-1, 1) if your data has a single feature or X.reshape(1, -1) if it contains a single sample.\n",
      "  DeprecationWarning)\n",
      "C:\\Program Files\\Anaconda2\\lib\\site-packages\\sklearn\\utils\\validation.py:395: DeprecationWarning: Passing 1d arrays as data is deprecated in 0.17 and will raise ValueError in 0.19. Reshape your data either using X.reshape(-1, 1) if your data has a single feature or X.reshape(1, -1) if it contains a single sample.\n",
      "  DeprecationWarning)\n",
      "C:\\Program Files\\Anaconda2\\lib\\site-packages\\sklearn\\utils\\validation.py:395: DeprecationWarning: Passing 1d arrays as data is deprecated in 0.17 and will raise ValueError in 0.19. Reshape your data either using X.reshape(-1, 1) if your data has a single feature or X.reshape(1, -1) if it contains a single sample.\n",
      "  DeprecationWarning)\n",
      "C:\\Program Files\\Anaconda2\\lib\\site-packages\\sklearn\\utils\\validation.py:395: DeprecationWarning: Passing 1d arrays as data is deprecated in 0.17 and will raise ValueError in 0.19. Reshape your data either using X.reshape(-1, 1) if your data has a single feature or X.reshape(1, -1) if it contains a single sample.\n",
      "  DeprecationWarning)\n"
     ]
    }
   ],
   "source": [
    "count = 0\n",
    "for predict_day in prediction_list:\n",
    "    print date_array[count]\n",
    "    print predict_day\n",
    "    print lm.predict(predict_day)\n",
    "    count += 1"
   ]
  },
  {
   "cell_type": "code",
   "execution_count": 27,
   "metadata": {
    "collapsed": false
   },
   "outputs": [
    {
     "name": "stdout",
     "output_type": "stream",
     "text": [
      "[ 0.4208339   0.35340798  0.38029144  0.32434809]\n"
     ]
    }
   ],
   "source": [
    "from sklearn import cross_validation\n",
    "ctrain, ctest, ztrain, ztest = cross_validation.train_test_split(X, y)\n",
    "print cross_validation.cross_val_score(lm, X, y, cv=4)\n",
    "from sklearn.tree import DecisionTreeRegressor\n",
    "clf = DecisionTreeRegressor()"
   ]
  },
  {
   "cell_type": "code",
   "execution_count": 5,
   "metadata": {
    "collapsed": false
   },
   "outputs": [
    {
     "name": "stdout",
     "output_type": "stream",
     "text": [
      "[ 0.26457711  0.31624629  0.44869194 -0.03315931]\n"
     ]
    }
   ],
   "source": [
    "print cross_validation.cross_val_score(clf, X, y, cv=4)"
   ]
  },
  {
   "cell_type": "code",
   "execution_count": 5,
   "metadata": {
    "collapsed": false
   },
   "outputs": [
    {
     "name": "stdout",
     "output_type": "stream",
     "text": [
      "Populating the interactive namespace from numpy and matplotlib\n"
     ]
    },
    {
     "name": "stderr",
     "output_type": "stream",
     "text": [
      "C:\\Program Files\\Anaconda2\\lib\\site-packages\\IPython\\core\\magics\\pylab.py:161: UserWarning: pylab import has clobbered these variables: ['datetime']\n",
      "`%matplotlib` prevents importing * from pylab and numpy\n",
      "  \"\\n`%matplotlib` prevents importing * from pylab and numpy\"\n"
     ]
    }
   ],
   "source": [
    "%pylab inline\n"
   ]
  },
  {
   "cell_type": "code",
   "execution_count": 7,
   "metadata": {
    "collapsed": true
   },
   "outputs": [],
   "source": [
    "clf = DecisionTreeRegressor()\n",
    "clf.fit(ctrain, ztrain)\n",
    "zpred = clf.predict(ctest)"
   ]
  },
  {
   "cell_type": "code",
   "execution_count": null,
   "metadata": {
    "collapsed": false
   },
   "outputs": [],
   "source": []
  },
  {
   "cell_type": "code",
   "execution_count": 8,
   "metadata": {
    "collapsed": true
   },
   "outputs": [],
   "source": [
    "# we'll explore results for max_depth from 1 to 20\n",
    "max_depth_array = np.arange(1, 21)\n",
    "train_error = np.zeros(len(max_depth_array))\n",
    "test_error = np.zeros(len(max_depth_array))"
   ]
  },
  {
   "cell_type": "code",
   "execution_count": 9,
   "metadata": {
    "collapsed": true
   },
   "outputs": [],
   "source": [
    "for i, max_depth in enumerate(max_depth_array):\n",
    "    clf = DecisionTreeRegressor(max_depth=max_depth)\n",
    "    clf.fit(ctrain, ztrain)\n",
    "\n",
    "    ztrain_pred = clf.predict(ctrain)\n",
    "    ztest_pred = clf.predict(ctest)\n",
    "\n",
    "    train_error[i] = np.sqrt(np.mean((ztrain_pred - ztrain) ** 2))\n",
    "    test_error[i] = np.sqrt(np.mean((ztest_pred - ztest) ** 2))"
   ]
  },
  {
   "cell_type": "code",
   "execution_count": 10,
   "metadata": {
    "collapsed": false
   },
   "outputs": [
    {
     "data": {
      "text/plain": [
       "<matplotlib.text.Text at 0xd4c4cf8>"
      ]
     },
     "execution_count": 10,
     "metadata": {},
     "output_type": "execute_result"
    },
    {
     "data": {
      "image/png": "[encoded data removed]",
      "text/plain": [
       "<matplotlib.figure.Figure at 0xdd2e198>"
      ]
     },
     "metadata": {},
     "output_type": "display_data"
    }
   ],
   "source": [
    "plt.plot(max_depth_array, train_error, label='training')\n",
    "plt.plot(max_depth_array, test_error, label='validation')\n",
    "plt.grid()\n",
    "plt.legend(loc=3)\n",
    "plt.xlabel('max_depth')\n",
    "plt.ylabel('error')"
   ]
  },
  {
   "cell_type": "code",
   "execution_count": 11,
   "metadata": {
    "collapsed": false
   },
   "outputs": [
    {
     "name": "stderr",
     "output_type": "stream",
     "text": [
      "C:\\Program Files\\Anaconda2\\lib\\site-packages\\sklearn\\grid_search.py:43: DeprecationWarning: This module was deprecated in version 0.18 in favor of the model_selection module into which all the refactored classes and functions are moved. This module will be removed in 0.20.\n",
      "  DeprecationWarning)\n"
     ]
    },
    {
     "name": "stdout",
     "output_type": "stream",
     "text": [
      "{'max_depth': 2}\n"
     ]
    }
   ],
   "source": [
    "from sklearn.grid_search import GridSearchCV\n",
    "clf = DecisionTreeRegressor()\n",
    "grid = GridSearchCV(clf, param_grid=dict(max_depth=max_depth_array))\n",
    "grid.fit(X, y)\n",
    "print grid.best_params_"
   ]
  },
  {
   "cell_type": "code",
   "execution_count": 28,
   "metadata": {
    "collapsed": false
   },
   "outputs": [
    {
     "name": "stdout",
     "output_type": "stream",
     "text": [
      "[ 0.49480427  0.33575844  0.45970949  0.0316985 ]\n",
      "2017-02-25T15:28:21\n",
      "[51.66, 0, 1, 1, 0, 0, 0, 0, 0, 0, 0, 0, 0, 0, 0, 0, 0, 0, 1, 0, 0.007, 0.72, 0, 1]\n",
      "[ 80.25]\n",
      "2017-02-23T15:28:38\n",
      "[52.56, 0, 1, 1, 0, 0, 0, 0, 0, 0, 0, 0, 0, 0, 0, 0, 1, 0, 0, 0, 0, 0.68, 0, 0]\n",
      "[ 29.86363636]\n",
      "2017-02-21T15:28:39\n",
      "[42.39, 0, 1, 1, 0, 0, 0, 0, 0, 0, 0, 0, 0, 0, 1, 0, 0, 0, 0, 0, 0.0037, 0.61, 0, 1]\n",
      "[ 29.6]\n",
      "2017-02-19T15:28:39\n",
      "[55.78, 0, 1, 1, 0, 0, 0, 0, 0, 0, 0, 0, 0, 0, 0, 0, 0, 0, 0, 1, 0, 0.38, 0, 0]\n",
      "[ 80.25]\n",
      "2017-02-18T15:28:39\n",
      "[58.15, 0, 1, 1, 0, 0, 0, 0, 0, 0, 0, 0, 0, 0, 0, 0, 0, 0, 1, 0, 0, 0.15, 0, 0]\n",
      "[ 80.25]\n",
      "2017-02-16T15:28:39\n",
      "[36.01, 0, 1, 1, 0, 0, 0, 0, 0, 0, 0, 0, 0, 0, 0, 0, 1, 0, 0, 0, 0, 0.37, 0, 0]\n",
      "[ 29.86363636]\n",
      "2017-02-14T15:28:40\n",
      "[38.52, 0, 1, 1, 0, 0, 0, 0, 0, 0, 0, 0, 0, 0, 1, 0, 0, 0, 0, 0, 0, 0.3, 0, 0]\n",
      "[ 29.6]\n",
      "2017-02-12T15:28:40\n",
      "[36.97, 0, 1, 1, 0, 0, 0, 0, 0, 0, 0, 0, 0, 0, 0, 0, 0, 0, 0, 1, 0.0164, 0.71, 1, 0]\n",
      "[ 80.25]\n",
      "2017-02-11T15:28:40\n",
      "[43.18, 0, 1, 1, 0, 0, 0, 0, 0, 0, 0, 0, 0, 0, 0, 0, 0, 0, 1, 0, 0.0553, 0.77, 0, 1]\n",
      "[ 80.25]\n"
     ]
    },
    {
     "name": "stderr",
     "output_type": "stream",
     "text": [
      "C:\\Program Files\\Anaconda2\\lib\\site-packages\\sklearn\\utils\\validation.py:395: DeprecationWarning: Passing 1d arrays as data is deprecated in 0.17 and will raise ValueError in 0.19. Reshape your data either using X.reshape(-1, 1) if your data has a single feature or X.reshape(1, -1) if it contains a single sample.\n",
      "  DeprecationWarning)\n",
      "C:\\Program Files\\Anaconda2\\lib\\site-packages\\sklearn\\utils\\validation.py:395: DeprecationWarning: Passing 1d arrays as data is deprecated in 0.17 and will raise ValueError in 0.19. Reshape your data either using X.reshape(-1, 1) if your data has a single feature or X.reshape(1, -1) if it contains a single sample.\n",
      "  DeprecationWarning)\n",
      "C:\\Program Files\\Anaconda2\\lib\\site-packages\\sklearn\\utils\\validation.py:395: DeprecationWarning: Passing 1d arrays as data is deprecated in 0.17 and will raise ValueError in 0.19. Reshape your data either using X.reshape(-1, 1) if your data has a single feature or X.reshape(1, -1) if it contains a single sample.\n",
      "  DeprecationWarning)\n",
      "C:\\Program Files\\Anaconda2\\lib\\site-packages\\sklearn\\utils\\validation.py:395: DeprecationWarning: Passing 1d arrays as data is deprecated in 0.17 and will raise ValueError in 0.19. Reshape your data either using X.reshape(-1, 1) if your data has a single feature or X.reshape(1, -1) if it contains a single sample.\n",
      "  DeprecationWarning)\n",
      "C:\\Program Files\\Anaconda2\\lib\\site-packages\\sklearn\\utils\\validation.py:395: DeprecationWarning: Passing 1d arrays as data is deprecated in 0.17 and will raise ValueError in 0.19. Reshape your data either using X.reshape(-1, 1) if your data has a single feature or X.reshape(1, -1) if it contains a single sample.\n",
      "  DeprecationWarning)\n",
      "C:\\Program Files\\Anaconda2\\lib\\site-packages\\sklearn\\utils\\validation.py:395: DeprecationWarning: Passing 1d arrays as data is deprecated in 0.17 and will raise ValueError in 0.19. Reshape your data either using X.reshape(-1, 1) if your data has a single feature or X.reshape(1, -1) if it contains a single sample.\n",
      "  DeprecationWarning)\n",
      "C:\\Program Files\\Anaconda2\\lib\\site-packages\\sklearn\\utils\\validation.py:395: DeprecationWarning: Passing 1d arrays as data is deprecated in 0.17 and will raise ValueError in 0.19. Reshape your data either using X.reshape(-1, 1) if your data has a single feature or X.reshape(1, -1) if it contains a single sample.\n",
      "  DeprecationWarning)\n",
      "C:\\Program Files\\Anaconda2\\lib\\site-packages\\sklearn\\utils\\validation.py:395: DeprecationWarning: Passing 1d arrays as data is deprecated in 0.17 and will raise ValueError in 0.19. Reshape your data either using X.reshape(-1, 1) if your data has a single feature or X.reshape(1, -1) if it contains a single sample.\n",
      "  DeprecationWarning)\n",
      "C:\\Program Files\\Anaconda2\\lib\\site-packages\\sklearn\\utils\\validation.py:395: DeprecationWarning: Passing 1d arrays as data is deprecated in 0.17 and will raise ValueError in 0.19. Reshape your data either using X.reshape(-1, 1) if your data has a single feature or X.reshape(1, -1) if it contains a single sample.\n",
      "  DeprecationWarning)\n"
     ]
    }
   ],
   "source": [
    "clf = DecisionTreeRegressor(max_depth=2)\n",
    "clf.fit(ctrain, ztrain)\n",
    "zpred = clf.predict(ctest)\n",
    "print cross_validation.cross_val_score(clf, X, y, cv=4)\n",
    "count = 0\n",
    "for predict_day in prediction_list:\n",
    "    print date_array[count]\n",
    "    print predict_day\n",
    "    print clf.predict(predict_day)\n",
    "    count += 1"
   ]
  },
  {
   "cell_type": "code",
   "execution_count": 13,
   "metadata": {
    "collapsed": false
   },
   "outputs": [
    {
     "ename": "TypeError",
     "evalue": "scatter() takes at least 2 arguments (1 given)",
     "output_type": "error",
     "traceback": [
      "\u001b[0;31m---------------------------------------------------------------------------\u001b[0m",
      "\u001b[0;31mTypeError\u001b[0m                                 Traceback (most recent call last)",
      "\u001b[0;32m<ipython-input-13-32f4966806bb>\u001b[0m in \u001b[0;36m<module>\u001b[0;34m()\u001b[0m\n\u001b[0;32m----> 1\u001b[0;31m \u001b[0mplt\u001b[0m\u001b[1;33m.\u001b[0m\u001b[0mscatter\u001b[0m\u001b[1;33m(\u001b[0m\u001b[0mztrain\u001b[0m\u001b[1;33m)\u001b[0m\u001b[1;33m\u001b[0m\u001b[0m\n\u001b[0m\u001b[1;32m      2\u001b[0m \u001b[0mplt\u001b[0m\u001b[1;33m.\u001b[0m\u001b[0mscatter\u001b[0m\u001b[1;33m(\u001b[0m\u001b[0mzpred\u001b[0m\u001b[1;33m)\u001b[0m\u001b[1;33m\u001b[0m\u001b[0m\n",
      "\u001b[0;31mTypeError\u001b[0m: scatter() takes at least 2 arguments (1 given)"
     ]
    }
   ],
   "source": [
    "plt.scatter(ztrain)\n",
    "plt.scatter(zpred)"
   ]
  },
  {
   "cell_type": "code",
   "execution_count": 14,
   "metadata": {
    "collapsed": true
   },
   "outputs": [],
   "source": [
    "def outlier_fraction(y_pred, y_true, cutoff=20):\n",
    "    return np.sum((abs(y_pred - y_true) > cutoff)) * 1. / len(y_pred)"
   ]
  },
  {
   "cell_type": "code",
   "execution_count": 15,
   "metadata": {
    "collapsed": true
   },
   "outputs": [],
   "source": [
    "train_outfrac = np.zeros(len(max_depth_array))\n",
    "test_outfrac = np.zeros(len(max_depth_array))\n",
    "\n",
    "for i, max_depth in enumerate(max_depth_array):\n",
    "    clf = DecisionTreeRegressor(max_depth=max_depth)\n",
    "    clf.fit(ctrain, ztrain)\n",
    "\n",
    "    ztrain_pred = clf.predict(ctrain)\n",
    "    ztest_pred = clf.predict(ctest)\n",
    "\n",
    "    train_outfrac[i] = outlier_fraction(ztrain_pred, ztrain)\n",
    "    test_outfrac[i] = outlier_fraction(ztest_pred, ztest)"
   ]
  },
  {
   "cell_type": "code",
   "execution_count": 16,
   "metadata": {
    "collapsed": false
   },
   "outputs": [
    {
     "data": {
      "image/png": "[encoded data removed]",
      "text/plain": [
       "<matplotlib.figure.Figure at 0xda27f28>"
      ]
     },
     "metadata": {},
     "output_type": "display_data"
    }
   ],
   "source": [
    "plt.plot(max_depth_array, train_outfrac)\n",
    "plt.plot(max_depth_array, test_outfrac)\n",
    "plt.grid()"
   ]
  },
  {
   "cell_type": "code",
   "execution_count": 17,
   "metadata": {
    "collapsed": false
   },
   "outputs": [
    {
     "name": "stdout",
     "output_type": "stream",
     "text": [
      "[ 0.28755147  0.28260616  0.32421833 -0.29793802]\n"
     ]
    }
   ],
   "source": [
    "clf = DecisionTreeRegressor(max_depth=20)\n",
    "clf.fit(ctrain, ztrain)\n",
    "zpred = clf.predict(ctest)\n",
    "print cross_validation.cross_val_score(clf, X, y, cv=4)"
   ]
  },
  {
   "cell_type": "code",
   "execution_count": 18,
   "metadata": {
    "collapsed": false
   },
   "outputs": [],
   "source": [
    "from sklearn.ensemble import AdaBoostRegressor"
   ]
  },
  {
   "cell_type": "code",
   "execution_count": 19,
   "metadata": {
    "collapsed": false
   },
   "outputs": [
    {
     "data": {
      "text/plain": [
       "AdaBoostRegressor(base_estimator=None, learning_rate=1.0, loss='linear',\n",
       "         n_estimators=50, random_state=None)"
      ]
     },
     "execution_count": 19,
     "metadata": {},
     "output_type": "execute_result"
    }
   ],
   "source": [
    "#ctrain, ctest, ztrain, ztest = cross_validation.train_test_split(X, y)\n",
    "lm = AdaBoostRegressor()\n",
    "lm.fit(X, y)"
   ]
  },
  {
   "cell_type": "code",
   "execution_count": 20,
   "metadata": {
    "collapsed": false
   },
   "outputs": [
    {
     "name": "stdout",
     "output_type": "stream",
     "text": [
      "2017-02-25T15:28:21\n",
      "[51.66, 0, 1, 1, 0, 0, 0, 0, 0, 0, 0, 0, 0, 0, 0, 0, 0, 0, 1, 0, 0.007, 0.72, 0, 1]\n",
      "[ 79.375]\n",
      "2017-02-23T15:28:38\n",
      "[52.56, 0, 1, 1, 0, 0, 0, 0, 0, 0, 0, 0, 0, 0, 0, 0, 1, 0, 0, 0, 0, 0.68, 0, 0]\n",
      "[ 54.53333333]\n",
      "2017-02-21T15:28:39\n",
      "[42.39, 0, 1, 1, 0, 0, 0, 0, 0, 0, 0, 0, 0, 0, 1, 0, 0, 0, 0, 0, 0.0037, 0.61, 0, 1]\n",
      "[ 21.60416667]\n",
      "2017-02-19T15:28:39\n",
      "[55.78, 0, 1, 1, 0, 0, 0, 0, 0, 0, 0, 0, 0, 0, 0, 0, 0, 0, 0, 1, 0, 0.38, 0, 0]\n",
      "[ 109.16666667]\n",
      "2017-02-18T15:28:39\n",
      "[58.15, 0, 1, 1, 0, 0, 0, 0, 0, 0, 0, 0, 0, 0, 0, 0, 0, 0, 1, 0, 0, 0.15, 0, 0]\n",
      "[ 102.33333333]\n",
      "2017-02-16T15:28:39\n",
      "[36.01, 0, 1, 1, 0, 0, 0, 0, 0, 0, 0, 0, 0, 0, 0, 0, 1, 0, 0, 0, 0, 0.37, 0, 0]\n",
      "[ 52.72857143]\n",
      "2017-02-14T15:28:40\n",
      "[38.52, 0, 1, 1, 0, 0, 0, 0, 0, 0, 0, 0, 0, 0, 1, 0, 0, 0, 0, 0, 0, 0.3, 0, 0]\n",
      "[ 36.66071429]\n",
      "2017-02-12T15:28:40\n",
      "[36.97, 0, 1, 1, 0, 0, 0, 0, 0, 0, 0, 0, 0, 0, 0, 0, 0, 0, 0, 1, 0.0164, 0.71, 1, 0]\n",
      "[ 53.47368421]\n",
      "2017-02-11T15:28:40\n",
      "[43.18, 0, 1, 1, 0, 0, 0, 0, 0, 0, 0, 0, 0, 0, 0, 0, 0, 0, 1, 0, 0.0553, 0.77, 0, 1]\n",
      "[ 54.85714286]\n"
     ]
    },
    {
     "name": "stderr",
     "output_type": "stream",
     "text": [
      "C:\\Program Files\\Anaconda2\\lib\\site-packages\\sklearn\\utils\\validation.py:395: DeprecationWarning: Passing 1d arrays as data is deprecated in 0.17 and will raise ValueError in 0.19. Reshape your data either using X.reshape(-1, 1) if your data has a single feature or X.reshape(1, -1) if it contains a single sample.\n",
      "  DeprecationWarning)\n",
      "C:\\Program Files\\Anaconda2\\lib\\site-packages\\sklearn\\utils\\validation.py:395: DeprecationWarning: Passing 1d arrays as data is deprecated in 0.17 and will raise ValueError in 0.19. Reshape your data either using X.reshape(-1, 1) if your data has a single feature or X.reshape(1, -1) if it contains a single sample.\n",
      "  DeprecationWarning)\n",
      "C:\\Program Files\\Anaconda2\\lib\\site-packages\\sklearn\\utils\\validation.py:395: DeprecationWarning: Passing 1d arrays as data is deprecated in 0.17 and will raise ValueError in 0.19. Reshape your data either using X.reshape(-1, 1) if your data has a single feature or X.reshape(1, -1) if it contains a single sample.\n",
      "  DeprecationWarning)\n",
      "C:\\Program Files\\Anaconda2\\lib\\site-packages\\sklearn\\utils\\validation.py:395: DeprecationWarning: Passing 1d arrays as data is deprecated in 0.17 and will raise ValueError in 0.19. Reshape your data either using X.reshape(-1, 1) if your data has a single feature or X.reshape(1, -1) if it contains a single sample.\n",
      "  DeprecationWarning)\n",
      "C:\\Program Files\\Anaconda2\\lib\\site-packages\\sklearn\\utils\\validation.py:395: DeprecationWarning: Passing 1d arrays as data is deprecated in 0.17 and will raise ValueError in 0.19. Reshape your data either using X.reshape(-1, 1) if your data has a single feature or X.reshape(1, -1) if it contains a single sample.\n",
      "  DeprecationWarning)\n",
      "C:\\Program Files\\Anaconda2\\lib\\site-packages\\sklearn\\utils\\validation.py:395: DeprecationWarning: Passing 1d arrays as data is deprecated in 0.17 and will raise ValueError in 0.19. Reshape your data either using X.reshape(-1, 1) if your data has a single feature or X.reshape(1, -1) if it contains a single sample.\n",
      "  DeprecationWarning)\n",
      "C:\\Program Files\\Anaconda2\\lib\\site-packages\\sklearn\\utils\\validation.py:395: DeprecationWarning: Passing 1d arrays as data is deprecated in 0.17 and will raise ValueError in 0.19. Reshape your data either using X.reshape(-1, 1) if your data has a single feature or X.reshape(1, -1) if it contains a single sample.\n",
      "  DeprecationWarning)\n",
      "C:\\Program Files\\Anaconda2\\lib\\site-packages\\sklearn\\utils\\validation.py:395: DeprecationWarning: Passing 1d arrays as data is deprecated in 0.17 and will raise ValueError in 0.19. Reshape your data either using X.reshape(-1, 1) if your data has a single feature or X.reshape(1, -1) if it contains a single sample.\n",
      "  DeprecationWarning)\n",
      "C:\\Program Files\\Anaconda2\\lib\\site-packages\\sklearn\\utils\\validation.py:395: DeprecationWarning: Passing 1d arrays as data is deprecated in 0.17 and will raise ValueError in 0.19. Reshape your data either using X.reshape(-1, 1) if your data has a single feature or X.reshape(1, -1) if it contains a single sample.\n",
      "  DeprecationWarning)\n"
     ]
    }
   ],
   "source": [
    "count = 0\n",
    "for predict_day in prediction_list:\n",
    "    print date_array[count]\n",
    "    print predict_day\n",
    "    print lm.predict(predict_day)\n",
    "    count +=1"
   ]
  },
  {
   "cell_type": "code",
   "execution_count": 25,
   "metadata": {
    "collapsed": false
   },
   "outputs": [
    {
     "name": "stdout",
     "output_type": "stream",
     "text": [
      "[ 0.24656979  0.28635385  0.41477588 -0.44830283]\n"
     ]
    }
   ],
   "source": [
    "print cross_validation.cross_val_score(clf, X, y, cv=4)"
   ]
  },
  {
   "cell_type": "code",
   "execution_count": 26,
   "metadata": {
    "collapsed": false
   },
   "outputs": [
    {
     "data": {
      "text/plain": [
       "<matplotlib.text.Text at 0xe91cb38>"
      ]
     },
     "execution_count": 26,
     "metadata": {},
     "output_type": "execute_result"
    },
    {
     "data": {
      "image/png": "[encoded data removed]",
      "text/plain": [
       "<matplotlib.figure.Figure at 0xdd11da0>"
      ]
     },
     "metadata": {},
     "output_type": "display_data"
    }
   ],
   "source": [
    "plt.scatter(lm.predict(X),y)\n",
    "plt.plot([0,370], [0,370])\n",
    "plt.ylim(0,200)\n",
    "plt.xlabel('prediction')\n",
    "plt.ylabel('actual')"
   ]
  },
  {
   "cell_type": "code",
   "execution_count": 7,
   "metadata": {
    "collapsed": false
   },
   "outputs": [],
   "source": [
    "dates = pd.to_datetime(summed_by_date[summed_by_date.columns[0]])"
   ]
  },
  {
   "cell_type": "code",
   "execution_count": 10,
   "metadata": {
    "collapsed": false,
    "scrolled": true
   },
   "outputs": [
    {
     "data": {
      "text/plain": [
       "(-0.2, 1.2)"
      ]
     },
     "execution_count": 10,
     "metadata": {},
     "output_type": "execute_result"
    },
    {
     "data": {
      "image/png": "[encoded data removed]",
      "text/plain": [
       "<matplotlib.figure.Figure at 0xe244898>"
      ]
     },
     "metadata": {},
     "output_type": "display_data"
    }
   ],
   "source": [
    "plt.figure(figsize=(10,5))\n",
    "plt.plot_date(dates, summed_by_date['ratio_11201'], \"b-\")\n",
    "plt.ylim(-0.2,1.2)"
   ]
  },
  {
   "cell_type": "code",
   "execution_count": null,
   "metadata": {
    "collapsed": true
   },
   "outputs": [],
   "source": []
  },
  {
   "cell_type": "code",
   "execution_count": null,
   "metadata": {
    "collapsed": true
   },
   "outputs": [],
   "source": []
  }
 ],
 "metadata": {
  "anaconda-cloud": {},
  "kernelspec": {
   "display_name": "Python [conda root]",
   "language": "python",
   "name": "conda-root-py"
  },
  "language_info": {
   "codemirror_mode": {
    "name": "ipython",
    "version": 2
   },
   "file_extension": ".py",
   "mimetype": "text/x-python",
   "name": "python",
   "nbconvert_exporter": "python",
   "pygments_lexer": "ipython2",
   "version": "2.7.12"
  }
 },
 "nbformat": 4,
 "nbformat_minor": 1
}
