{
 "cells": [
  {
   "cell_type": "code",
   "execution_count": 5,
   "metadata": {
    "collapsed": true
   },
   "outputs": [],
   "source": [
    "import math\n",
    "def t_test(mean1, std1, N1, mean2, std2, N2):\n",
    "    num = mean1-mean2\n",
    "    denom = math.sqrt(std1/N1 + std2/N2)\n",
    "    return num/denom"
   ]
  },
  {
   "cell_type": "code",
   "execution_count": 6,
   "metadata": {
    "collapsed": false
   },
   "outputs": [
    {
     "name": "stdout",
     "output_type": "stream",
     "text": [
      "-0.279682359512\n"
     ]
    }
   ],
   "source": [
    "print t_test(0.299,0.05,150,0.307,0.08, 165)"
   ]
  },
  {
   "cell_type": "code",
   "execution_count": 11,
   "metadata": {
    "collapsed": true
   },
   "outputs": [],
   "source": [
    "def degree_freedom(std1, N1, std2, N2):\n",
    "    num = std1/N1 + std2/N2\n",
    "    print num\n",
    "    num = num * num\n",
    "    denom = ((std1*std1)/(N1*N1*(N1-1))) + ((std2*std2)/(N2*N2*(N2-1)))\n",
    "    return num / denom"
   ]
  },
  {
   "cell_type": "code",
   "execution_count": 13,
   "metadata": {
    "collapsed": false
   },
   "outputs": [
    {
     "name": "stdout",
     "output_type": "stream",
     "text": [
      "0.000818181818182\n",
      "307.198799752\n"
     ]
    }
   ],
   "source": [
    "print degree_freedom(0.05, 150, 0.08, 165)"
   ]
  },
  {
   "cell_type": "code",
   "execution_count": null,
   "metadata": {
    "collapsed": true
   },
   "outputs": [],
   "source": []
  }
 ],
 "metadata": {
  "kernelspec": {
   "display_name": "Python [conda root]",
   "language": "python",
   "name": "conda-root-py"
  },
  "language_info": {
   "codemirror_mode": {
    "name": "ipython",
    "version": 2
   },
   "file_extension": ".py",
   "mimetype": "text/x-python",
   "name": "python",
   "nbconvert_exporter": "python",
   "pygments_lexer": "ipython2",
   "version": "2.7.12"
  }
 },
 "nbformat": 4,
 "nbformat_minor": 1
}
