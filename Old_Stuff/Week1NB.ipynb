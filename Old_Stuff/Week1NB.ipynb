{
 "cells": [
  {
   "cell_type": "code",
   "execution_count": 21,
   "metadata": {
    "collapsed": true
   },
   "outputs": [],
   "source": [
    "import unicodecsv"
   ]
  },
  {
   "cell_type": "code",
   "execution_count": 22,
   "metadata": {
    "collapsed": true
   },
   "outputs": [],
   "source": [
    "def read_csv(filename):\n",
    "    with open(filename, 'rb') as f:\n",
    "        reader = unicodecsv.DictReader(f)\n",
    "        return list(reader)"
   ]
  },
  {
   "cell_type": "code",
   "execution_count": 23,
   "metadata": {
    "collapsed": false
   },
   "outputs": [],
   "source": [
    "enrollments = read_csv('enrollments.csv')\n"
   ]
  },
  {
   "cell_type": "code",
   "execution_count": 24,
   "metadata": {
    "collapsed": false
   },
   "outputs": [
    {
     "data": {
      "text/plain": [
       "{u'account_key': u'448',\n",
       " u'cancel_date': u'2015-01-14',\n",
       " u'days_to_cancel': u'65',\n",
       " u'is_canceled': u'True',\n",
       " u'is_udacity': u'True',\n",
       " u'join_date': u'2014-11-10',\n",
       " u'status': u'canceled'}"
      ]
     },
     "execution_count": 24,
     "metadata": {},
     "output_type": "execute_result"
    }
   ],
   "source": [
    "enrollments[0]"
   ]
  },
  {
   "cell_type": "code",
   "execution_count": 25,
   "metadata": {
    "collapsed": true
   },
   "outputs": [],
   "source": [
    "daily_engagement = read_csv('daily_engagement.csv')"
   ]
  },
  {
   "cell_type": "code",
   "execution_count": 26,
   "metadata": {
    "collapsed": false
   },
   "outputs": [
    {
     "data": {
      "text/plain": [
       "{u'acct': u'0',\n",
       " u'lessons_completed': u'0.0',\n",
       " u'num_courses_visited': u'1.0',\n",
       " u'projects_completed': u'0.0',\n",
       " u'total_minutes_visited': u'11.6793745',\n",
       " u'utc_date': u'2015-01-09'}"
      ]
     },
     "execution_count": 26,
     "metadata": {},
     "output_type": "execute_result"
    }
   ],
   "source": [
    "daily_engagement[0]"
   ]
  },
  {
   "cell_type": "code",
   "execution_count": 27,
   "metadata": {
    "collapsed": true
   },
   "outputs": [],
   "source": [
    "project_submissions = read_csv('project_submissions.csv')"
   ]
  },
  {
   "cell_type": "code",
   "execution_count": 28,
   "metadata": {
    "collapsed": false
   },
   "outputs": [
    {
     "data": {
      "text/plain": [
       "{u'account_key': u'256',\n",
       " u'assigned_rating': u'UNGRADED',\n",
       " u'completion_date': u'2015-01-16',\n",
       " u'creation_date': u'2015-01-14',\n",
       " u'lesson_key': u'3176718735',\n",
       " u'processing_state': u'EVALUATED'}"
      ]
     },
     "execution_count": 28,
     "metadata": {},
     "output_type": "execute_result"
    }
   ],
   "source": [
    "project_submissions[0]"
   ]
  },
  {
   "cell_type": "code",
   "execution_count": null,
   "metadata": {
    "collapsed": true
   },
   "outputs": [],
   "source": []
  }
 ],
 "metadata": {
  "anaconda-cloud": {},
  "kernelspec": {
   "display_name": "Python [default]",
   "language": "python",
   "name": "python2"
  },
  "language_info": {
   "codemirror_mode": {
    "name": "ipython",
    "version": 2
   },
   "file_extension": ".py",
   "mimetype": "text/x-python",
   "name": "python",
   "nbconvert_exporter": "python",
   "pygments_lexer": "ipython2",
   "version": "2.7.12"
  }
 },
 "nbformat": 4,
 "nbformat_minor": 1
}
