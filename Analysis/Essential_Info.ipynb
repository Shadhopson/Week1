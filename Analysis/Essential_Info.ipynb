{
 "cells": [
  {
   "cell_type": "code",
   "execution_count": 26,
   "metadata": {
    "collapsed": false
   },
   "outputs": [],
   "source": [
    "import pandas as pd\n",
    "import matplotlib.pyplot as plt\n",
    "import matplotlib\n",
    "matplotlib.style.use('ggplot')\n",
    "%matplotlib inline"
   ]
  },
  {
   "cell_type": "markdown",
   "metadata": {},
   "source": [
    "# Currently Visits, returns, new, from_11201, and per_hours of those averages, and standard deviations\n",
    "# Next steps: get the daily values"
   ]
  },
  {
   "cell_type": "code",
   "execution_count": 27,
   "metadata": {
    "collapsed": false
   },
   "outputs": [],
   "source": [
    "summed_by_date = pd.read_csv('../Data_And_Data_Creation/advanced_welcome_table_summed.csv')\n",
    "\n",
    "summary = summed_by_date.describe()\n",
    "\n",
    "summary = summary[['total_visitors', 'total_returns','total_new','from_11201','avg_visits_per_hour', 'avg_new_per_hour','avg_returns_per_hour', 'avg_from_11201_per_hour', 'ratio_11201']]\n"
   ]
  },
  {
   "cell_type": "code",
   "execution_count": 28,
   "metadata": {
    "collapsed": false
   },
   "outputs": [],
   "source": [
    "total_visitors =  int(summary.loc['mean'][['total_visitors']])* int(summary.loc['count'][['total_visitors']])"
   ]
  },
  {
   "cell_type": "code",
   "execution_count": 29,
   "metadata": {
    "collapsed": false
   },
   "outputs": [],
   "source": [
    "total_ratio_11201 = int(summary.loc['mean'][['total_visitors']])*int(summary.loc['mean'][['from_11201']])"
   ]
  },
  {
   "cell_type": "code",
   "execution_count": 30,
   "metadata": {
    "collapsed": false
   },
   "outputs": [],
   "source": [
    "summary = summary.loc[['mean','std']]\n",
    "#summary.rename(columns={'visits_per_hour': 'avg_visits_per_hour', 'new_per_hour': 'avg_new_per_hour','returns_per_hour':'avg_returns_per_hour', 'from_11201_per_hour':'avg_from_11201_per_hour'})"
   ]
  },
  {
   "cell_type": "code",
   "execution_count": 31,
   "metadata": {
    "collapsed": false
   },
   "outputs": [
    {
     "name": "stdout",
     "output_type": "stream",
     "text": [
      "[1, 2, 3, 4, 5, 6, 7, 8, 9, 10, 11, 12]\n",
      "      total_visitors  total_returns  total_new  Temperature  from_11201  \\\n",
      "mean       41.965517      20.275862  21.620690    42.010345   21.588235   \n",
      "std        30.578334      12.614891  20.593712     8.795505   11.197426   \n",
      "\n",
      "      avg_visits_per_hour  avg_returns_per_hour  avg_new_per_hour  \\\n",
      "mean            13.284483              6.956897          6.310345   \n",
      "std              7.009790              4.116641          4.796136   \n",
      "\n",
      "      avg_from_11201_per_hour  ratio_11201       day  month         year  \\\n",
      "mean                 8.000000     0.727731  3.689655    1.0  2016.586207   \n",
      "std                  4.261932     0.236667  1.983926    0.0     0.501230   \n",
      "\n",
      "      precipitation  cloud_cover      snow      rain  \n",
      "mean       0.004700     0.430345  0.137931  0.344828  \n",
      "std        0.010619     0.274089  0.350931  0.483725  \n"
     ]
    }
   ],
   "source": [
    "summary_by_month = summed_by_date.groupby('month')#.describe()[['total_visitors', 'total_returns','total_new','from_11201','visits_per_hour', 'new_per_hour', 'from_11201_per_hour']]\n",
    "print summary_by_month.groups.keys()\n",
    "January = summary_by_month.get_group(1).describe().loc[['mean','std']]\n",
    "January = January.rename(columns={'visits_per_hour': 'avg_visits_per_hour', 'new_per_hour': 'avg_new_per_hour','returns_per_hour':'avg_returns_per_hour', 'from_11201_per_hour':'avg_from_11201_per_hour'})\n",
    "print January"
   ]
  },
  {
   "cell_type": "code",
   "execution_count": 51,
   "metadata": {
    "collapsed": false
   },
   "outputs": [],
   "source": [
    "months = [\"Jan\", \"Feb\", \"Mar\", \"Apr\", \"May\", \"Jun\", \"Jul\",\"Aug\",\"Sep\",\"Oct\",\"Nov\",\"Dec\"]\n",
    "averages = []\n",
    "for i in range(1,13):\n",
    "    #months.append(i)\n",
    "    averages.append(summary_by_month.get_group(i)['total_visitors'].mean())"
   ]
  },
  {
   "cell_type": "code",
   "execution_count": 52,
   "metadata": {
    "collapsed": false
   },
   "outputs": [],
   "source": [
    "month_averages =  pd.DataFrame( {\n",
    "        \"month\" : months,\n",
    "        \"average\" : averages\n",
    "    })"
   ]
  },
  {
   "cell_type": "code",
   "execution_count": 53,
   "metadata": {
    "collapsed": false
   },
   "outputs": [
    {
     "data": {
      "text/html": [
       "<div>\n",
       "<table border=\"1\" class=\"dataframe\">\n",
       "  <thead>\n",
       "    <tr style=\"text-align: right;\">\n",
       "      <th></th>\n",
       "      <th>average</th>\n",
       "      <th>month</th>\n",
       "    </tr>\n",
       "  </thead>\n",
       "  <tbody>\n",
       "    <tr>\n",
       "      <th>0</th>\n",
       "      <td>41.965517</td>\n",
       "      <td>Jan</td>\n",
       "    </tr>\n",
       "    <tr>\n",
       "      <th>1</th>\n",
       "      <td>58.656250</td>\n",
       "      <td>Feb</td>\n",
       "    </tr>\n",
       "    <tr>\n",
       "      <th>2</th>\n",
       "      <td>55.647059</td>\n",
       "      <td>Mar</td>\n",
       "    </tr>\n",
       "    <tr>\n",
       "      <th>3</th>\n",
       "      <td>71.352941</td>\n",
       "      <td>Apr</td>\n",
       "    </tr>\n",
       "    <tr>\n",
       "      <th>4</th>\n",
       "      <td>48.205882</td>\n",
       "      <td>May</td>\n",
       "    </tr>\n",
       "    <tr>\n",
       "      <th>5</th>\n",
       "      <td>76.875000</td>\n",
       "      <td>Jun</td>\n",
       "    </tr>\n",
       "    <tr>\n",
       "      <th>6</th>\n",
       "      <td>65.166667</td>\n",
       "      <td>Jul</td>\n",
       "    </tr>\n",
       "    <tr>\n",
       "      <th>7</th>\n",
       "      <td>67.375000</td>\n",
       "      <td>Aug</td>\n",
       "    </tr>\n",
       "    <tr>\n",
       "      <th>8</th>\n",
       "      <td>66.240000</td>\n",
       "      <td>Sep</td>\n",
       "    </tr>\n",
       "    <tr>\n",
       "      <th>9</th>\n",
       "      <td>56.366667</td>\n",
       "      <td>Oct</td>\n",
       "    </tr>\n",
       "    <tr>\n",
       "      <th>10</th>\n",
       "      <td>61.346154</td>\n",
       "      <td>Nov</td>\n",
       "    </tr>\n",
       "    <tr>\n",
       "      <th>11</th>\n",
       "      <td>40.272727</td>\n",
       "      <td>Dec</td>\n",
       "    </tr>\n",
       "  </tbody>\n",
       "</table>\n",
       "</div>"
      ],
      "text/plain": [
       "      average month\n",
       "0   41.965517   Jan\n",
       "1   58.656250   Feb\n",
       "2   55.647059   Mar\n",
       "3   71.352941   Apr\n",
       "4   48.205882   May\n",
       "5   76.875000   Jun\n",
       "6   65.166667   Jul\n",
       "7   67.375000   Aug\n",
       "8   66.240000   Sep\n",
       "9   56.366667   Oct\n",
       "10  61.346154   Nov\n",
       "11  40.272727   Dec"
      ]
     },
     "execution_count": 53,
     "metadata": {},
     "output_type": "execute_result"
    }
   ],
   "source": [
    "month_averages"
   ]
  },
  {
   "cell_type": "code",
   "execution_count": 61,
   "metadata": {
    "collapsed": false
   },
   "outputs": [
    {
     "data": {
      "text/plain": [
       "[<matplotlib.text.Text at 0xa28f0b8>,\n",
       " <matplotlib.text.Text at 0xa29b6a0>,\n",
       " <matplotlib.text.Text at 0xb0b5a90>,\n",
       " <matplotlib.text.Text at 0xb0b54e0>,\n",
       " <matplotlib.text.Text at 0xaf1fba8>,\n",
       " <matplotlib.text.Text at 0xaf1fbe0>,\n",
       " <matplotlib.text.Text at 0xaf1f828>,\n",
       " <matplotlib.text.Text at 0xb04ee48>,\n",
       " <matplotlib.text.Text at 0xb04e2b0>,\n",
       " <matplotlib.text.Text at 0xb04e400>,\n",
       " <matplotlib.text.Text at 0xafe23c8>,\n",
       " <matplotlib.text.Text at 0xaf1f3c8>]"
      ]
     },
     "execution_count": 61,
     "metadata": {},
     "output_type": "execute_result"
    },
    {
     "data": {
      "image/png": "[encoded data removed]",
      "text/plain": [
       "<matplotlib.figure.Figure at 0xc874898>"
      ]
     },
     "metadata": {},
     "output_type": "display_data"
    }
   ],
   "source": [
    "ax = month_averages.average.plot()\n",
    "ax.set_xticks([0,1,2,3,4,5,6,7,8,9,10,11])\n",
    "ax.set_xticklabels(month_averages.month, rotation=90)\n"
   ]
  },
  {
   "cell_type": "code",
   "execution_count": null,
   "metadata": {
    "collapsed": true
   },
   "outputs": [],
   "source": []
  }
 ],
 "metadata": {
  "anaconda-cloud": {},
  "kernelspec": {
   "display_name": "Python [conda root]",
   "language": "python",
   "name": "conda-root-py"
  },
  "language_info": {
   "codemirror_mode": {
    "name": "ipython",
    "version": 2
   },
   "file_extension": ".py",
   "mimetype": "text/x-python",
   "name": "python",
   "nbconvert_exporter": "python",
   "pygments_lexer": "ipython2",
   "version": "2.7.12"
  }
 },
 "nbformat": 4,
 "nbformat_minor": 1
}
